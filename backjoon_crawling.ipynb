{
 "cells": [
  {
   "cell_type": "code",
   "execution_count": 231,
   "outputs": [],
   "source": [
    "from selenium import webdriver\n",
    "from selenium.webdriver.common.by import By\n",
    "from tqdm import tqdm\n",
    "import time\n",
    "import pickle"
   ],
   "metadata": {
    "collapsed": false,
    "pycharm": {
     "name": "#%%\n"
    }
   }
  },
  {
   "cell_type": "code",
   "execution_count": 233,
   "outputs": [
    {
     "name": "stderr",
     "output_type": "stream",
     "text": [
      "C:\\Users\\jaehoon\\AppData\\Local\\Temp\\ipykernel_7980\\3558275321.py:3: DeprecationWarning: executable_path has been deprecated, please pass in a Service object\n",
      "  driver = webdriver.Chrome('C:/Users/jaehoon/chromedriver',options=options) # driver 경로 local에 맞게 수정바람\n"
     ]
    }
   ],
   "source": [
    "options = webdriver.ChromeOptions() # 옵션 설정\n",
    "options.add_argument(\"headless\") # 창 안뜨게\n",
    "driver = webdriver.Chrome('C:/Users/jaehoon/chromedriver',options=options) # driver 경로 local에 맞게 수정바람\n",
    "\n",
    "url_temp = f\"https://www.acmicpc.net/login?next=%2Fproblem%2F1001\"\n",
    "driver.get(url_temp)\n",
    "cookies = pickle.load(open(\"back.pkl\", \"rb\")) # 로그인 쿠키 불러오기\n",
    "for cookie in cookies: # 로그인 쿠키 driver에 적용\n",
    "    driver.add_cookie(cookie)\n",
    "\n",
    "driver.get(url_temp) # 로그인 사이트, 로그인 진행\n",
    "data = []\n",
    "# for i in tqdm(range(1000,26625)):\n",
    "#     single_data = dict()\n",
    "#     url_temp = f\"https://www.acmicpc.net/problem/{i}\"\n",
    "#     driver.get(url_temp)\n",
    "#     try:\n",
    "#         single_data['name'] = driver.find_elements(By.XPATH, f'//*[@id=\"problem_title\"]')[0].get_attribute('innerText')\n",
    "#     except:\n",
    "#         continue\n",
    "#\n",
    "#     single_data['id'] = f\"{i}\"\n",
    "#     single_data['time_limit'] = driver.find_elements(By.XPATH, f'//*[@id=\"problem-info\"]/tbody/tr/td[1]')[0].get_attribute('innerText')\n",
    "#     single_data['memory_limit'] = driver.find_elements(By.XPATH, f'//*[@id=\"problem-info\"]/tbody/tr/td[2]')[0].get_attribute('innerText')\n",
    "#     single_data['submit'] = driver.find_elements(By.XPATH, f'//*[@id=\"problem-info\"]/tbody/tr/td[3]')[0].get_attribute('innerText')\n",
    "#     single_data['answer'] = driver.find_elements(By.XPATH, f'//*[@id=\"problem-info\"]/tbody/tr/td[4]')[0].get_attribute('innerText')\n",
    "#     single_data['pass'] = driver.find_elements(By.XPATH, f'//*[@id=\"problem-info\"]/tbody/tr/td[5]')[0].get_attribute('innerText')\n",
    "#     single_data['ratio'] = driver.find_elements(By.XPATH, f'//*[@id=\"problem-info\"]/tbody/tr/td[6]')[0].get_attribute('innerText')\n",
    "#     single_data['rank'] = driver.find_elements(By.XPATH, f'/html/body/div[2]/div[2]/div[3]/div[3]/div/blockquote/span')[0].get_attribute('class')[19:]\n",
    "#     single_data['type'] = list()\n",
    "#     elements = driver.find_elements(By.CSS_SELECTOR,'.spoiler-link')\n",
    "#     for val in elements:\n",
    "#         single_data['type'].append(val.get_attribute('innerText'))\n",
    "#     data.append(single_data)"
   ],
   "metadata": {
    "collapsed": false,
    "pycharm": {
     "name": "#%%\n"
    }
   }
  },
  {
   "cell_type": "code",
   "execution_count": 234,
   "outputs": [],
   "source": [
    "# data 저장\n",
    "# with open('data_dict.pkl','wb') as f:\n",
    "#     pickle.dump(data,f)"
   ],
   "metadata": {
    "collapsed": false,
    "pycharm": {
     "name": "#%%\n"
    }
   }
  },
  {
   "cell_type": "code",
   "execution_count": 235,
   "outputs": [],
   "source": [
    "# data 불러오기\n",
    "# with open('data_dict.pkl','rb') as f:\n",
    "#     mydict = pickle.load(f)\n",
    "# print(mydict)"
   ],
   "metadata": {
    "collapsed": false,
    "pycharm": {
     "name": "#%%\n"
    }
   }
  },
  {
   "cell_type": "code",
   "execution_count": 237,
   "outputs": [
    {
     "name": "stderr",
     "output_type": "stream",
     "text": [
      "100%|██████████| 3/3 [00:10<00:00,  3.42s/it]\n"
     ]
    }
   ],
   "source": [
    "logs = dict()\n",
    "\n",
    "def crawling(i,submit_num):\n",
    "    url_temp = f\"https://www.acmicpc.net/status?problem_id={i}\"\n",
    "    for i in tqdm(range(submit_num//20)):\n",
    "        driver.get(url_temp)\n",
    "        elements = driver.find_elements(By.CSS_SELECTOR, f'tbody > tr > td')\n",
    "        real_time = driver.find_elements(By.CSS_SELECTOR, f'.real-time-update')\n",
    "\n",
    "        for idx,val in enumerate(elements):\n",
    "            if idx % 9 == 0:\n",
    "                temp = val.get_attribute('innerText')\n",
    "                logs[f'{temp}'] = []\n",
    "                logs[f'{temp}'].append(real_time[idx//9].get_attribute('data-original-title'))\n",
    "            else:\n",
    "                logs[f'{temp}'].append(val.get_attribute('innerText'))\n",
    "\n",
    "        try:\n",
    "            url_temp = driver.find_elements(By.ID, f'next_page')[0].get_attribute('href')\n",
    "        except:\n",
    "            return\n",
    "\n",
    "crawling(5984,60)"
   ],
   "metadata": {
    "collapsed": false,
    "pycharm": {
     "name": "#%%\n"
    }
   }
  },
  {
   "cell_type": "code",
   "execution_count": 240,
   "outputs": [
    {
     "name": "stdout",
     "output_type": "stream",
     "text": [
      "60\n"
     ]
    }
   ],
   "source": [
    "print(len(logs))\n",
    "#print(logs)"
   ],
   "metadata": {
    "collapsed": false,
    "pycharm": {
     "name": "#%%\n"
    }
   }
  },
  {
   "cell_type": "code",
   "execution_count": 239,
   "outputs": [],
   "source": [
    "driver.quit()"
   ],
   "metadata": {
    "collapsed": false,
    "pycharm": {
     "name": "#%%\n"
    }
   }
  }
 ],
 "metadata": {
  "kernelspec": {
   "display_name": "Python 3",
   "language": "python",
   "name": "python3"
  },
  "language_info": {
   "codemirror_mode": {
    "name": "ipython",
    "version": 2
   },
   "file_extension": ".py",
   "mimetype": "text/x-python",
   "name": "python",
   "nbconvert_exporter": "python",
   "pygments_lexer": "ipython2",
   "version": "2.7.6"
  }
 },
 "nbformat": 4,
 "nbformat_minor": 0
}