{
 "cells": [
  {
   "cell_type": "code",
   "execution_count": 70,
   "outputs": [],
   "source": [
    "from selenium import webdriver\n",
    "from selenium.webdriver.common.by import By\n",
    "from tqdm import tqdm\n",
    "import pickle"
   ],
   "metadata": {
    "collapsed": false,
    "pycharm": {
     "name": "#%%\n"
    }
   }
  },
  {
   "cell_type": "code",
   "execution_count": 71,
   "outputs": [],
   "source": [
    "data = []"
   ],
   "metadata": {
    "collapsed": false,
    "pycharm": {
     "name": "#%%\n"
    }
   }
  },
  {
   "cell_type": "code",
   "execution_count": 72,
   "outputs": [
    {
     "name": "stderr",
     "output_type": "stream",
     "text": [
      "C:\\Users\\jaehoon\\AppData\\Local\\Temp\\ipykernel_22068\\2639555965.py:3: DeprecationWarning: executable_path has been deprecated, please pass in a Service object\n",
      "  driver = webdriver.Chrome('C:/Users/jaehoon/chromedriver',options=options) # driver 경로 local에 맞게 수정바람\n"
     ]
    }
   ],
   "source": [
    "options = webdriver.ChromeOptions() # 옵션 설정\n",
    "options.add_argument(\"headless\") # 창 안뜨게\n",
    "driver = webdriver.Chrome('C:/Users/jaehoon/chromedriver',options=options) # driver 경로 local에 맞게 수정바람\n",
    "\n",
    "url_temp = f\"https://www.acmicpc.net/login?next=%2Fproblem%2F1001\"\n",
    "driver.get(url_temp)\n",
    "cookies = pickle.load(open(\"back.pkl\", \"rb\")) # 로그인 쿠키 불러오기\n",
    "for cookie in cookies: # 로그인 쿠키 driver에 적용\n",
    "    driver.add_cookie(cookie)\n",
    "\n",
    "driver.get(url_temp) # 로그인 사이트, 로그인 진행\n",
    "\n",
    "for i in tqdm(range(1000,26625)):\n",
    "    single_data = dict()\n",
    "    url_temp = f\"https://www.acmicpc.net/problem/{i}\"\n",
    "    driver.get(url_temp)\n",
    "    try:\n",
    "        single_data['name'] = driver.find_elements(By.XPATH, f'//*[@id=\"problem_title\"]')[0].get_attribute('innerText')\n",
    "    except:\n",
    "        continue\n",
    "\n",
    "    single_data['id'] = f\"{i}\"\n",
    "    single_data['time_limit'] = driver.find_elements(By.XPATH, f'//*[@id=\"problem-info\"]/tbody/tr/td[1]')[0].get_attribute('innerText')\n",
    "    single_data['memory_limit'] = driver.find_elements(By.XPATH, f'//*[@id=\"problem-info\"]/tbody/tr/td[2]')[0].get_attribute('innerText')\n",
    "    single_data['submit'] = driver.find_elements(By.XPATH, f'//*[@id=\"problem-info\"]/tbody/tr/td[3]')[0].get_attribute('innerText')\n",
    "    single_data['answer'] = driver.find_elements(By.XPATH, f'//*[@id=\"problem-info\"]/tbody/tr/td[4]')[0].get_attribute('innerText')\n",
    "    single_data['pass'] = driver.find_elements(By.XPATH, f'//*[@id=\"problem-info\"]/tbody/tr/td[5]')[0].get_attribute('innerText')\n",
    "    single_data['ratio'] = driver.find_elements(By.XPATH, f'//*[@id=\"problem-info\"]/tbody/tr/td[6]')[0].get_attribute('innerText')\n",
    "    single_data['rank'] = driver.find_elements(By.XPATH, f'/html/body/div[2]/div[2]/div[3]/div[3]/div/blockquote/span')[0].get_attribute('class')[19:]\n",
    "    single_data['type'] = list()\n",
    "    elements = driver.find_elements(By.CSS_SELECTOR,'.spoiler-link')\n",
    "    for val in elements:\n",
    "        single_data['type'].append(val.get_attribute('innerText'))\n",
    "    data.append(single_data)"
   ],
   "metadata": {
    "collapsed": false,
    "pycharm": {
     "name": "#%%\n"
    }
   }
  },
  {
   "cell_type": "code",
   "execution_count": 73,
   "outputs": [],
   "source": [
    "# data 저장\n",
    "# with open('data_dict.pkl','wb') as f:\n",
    "#     pickle.dump(data,f)"
   ],
   "metadata": {
    "collapsed": false,
    "pycharm": {
     "name": "#%%\n"
    }
   }
  },
  {
   "cell_type": "code",
   "execution_count": 74,
   "outputs": [],
   "source": [
    "# data 불러오기\n",
    "# with open('data_dict.pkl','rb') as f:\n",
    "#     mydict = pickle.load(f)\n",
    "# print(mydict)"
   ],
   "metadata": {
    "collapsed": false,
    "pycharm": {
     "name": "#%%\n"
    }
   }
  },
  {
   "cell_type": "code",
   "execution_count": 75,
   "outputs": [
    {
     "name": "stderr",
     "output_type": "stream",
     "text": [
      "100%|██████████| 1/1 [00:03<00:00,  3.09s/it]\n"
     ]
    }
   ],
   "source": [
    "logs = dict()\n",
    "for i in tqdm(range(40000000,40000001)):\n",
    "    url_temp = f\"https://www.acmicpc.net/status?top={i}\"\n",
    "    driver.get(url_temp)\n",
    "    elements = driver.find_elements(By.CSS_SELECTOR, f'tbody > tr > td')\n",
    "    for idx,val in enumerate(elements):\n",
    "        if idx % 9 == 0:\n",
    "            temp = val.get_attribute('innerText')\n",
    "            logs[f'{temp}'] = []\n",
    "        else:\n",
    "            logs[f'{temp}'].append(val.get_attribute('innerText'))"
   ],
   "metadata": {
    "collapsed": false,
    "pycharm": {
     "name": "#%%\n"
    }
   }
  },
  {
   "cell_type": "code",
   "execution_count": 76,
   "outputs": [
    {
     "name": "stdout",
     "output_type": "stream",
     "text": [
      "20\n",
      "{'40000000': ['movegreen', '18829', '644245092점', '4528', '0', 'Text', '1', '9달 전'], '39999999': ['njh21598', '15900', '맞았습니다!!', '55064', '428', 'Go', '879', '9달 전'], '39999998': ['hndada', '1920', '맞았습니다!!', '5700', '88', 'Go', '663', '9달 전'], '39999997': ['iloveelsa', '1271', '맞았습니다!!', '13044', '124', 'Java 8', '462', '9달 전'], '39999996': ['movegreen', '18829', '214748364점', '4528', '0', 'Text', '1', '9달 전'], '39999995': ['ksm9099', '1003', '틀렸습니다', '', '', 'C99', '104', '9달 전'], '39999994': ['hndada', '1920', '맞았습니다!!', '5840', '88', 'Go', '663', '9달 전'], '39999993': ['hunu_cho', '1697', '메모리 초과', '', '', 'Java 8', '591', '9달 전'], '39999992': ['movegreen', '18829', '214748364점', '4528', '0', 'Text', '1', '9달 전'], '39999991': ['yous', '1495', '맞았습니다!!', '2156', '0', 'C++17', '927', '9달 전'], '39999990': ['hndada', '1920', '맞았습니다!!', '5836', '92', 'Go', '663', '9달 전'], '39999989': ['movegreen', '18829', '644245092점', '4528', '0', 'Text', '1', '9달 전'], '39999988': ['movegreen', '18829', '214748364점', '4528', '0', 'Text', '1', '9달 전'], '39999987': ['ksm9099', '1003', '컴파일 에러', '', '', 'C99', '104', '9달 전'], '39999986': ['movegreen', '18829', '644245092점', '4528', '0', 'Text', '1', '9달 전'], '39999985': ['ehddb2252', '16928', '틀렸습니다', '', '', 'PyPy3', '419', '9달 전'], '39999984': ['movegreen', '18829', '214748364점', '4528', '0', 'Text', '1', '9달 전'], '39999983': ['ksm9099', '1003', '컴파일 에러', '', '', 'C++17', '104', '9달 전'], '39999982': ['movegreen', '18829', '644245092점', '4528', '0', 'Text', '1', '9달 전'], '39999981': ['orion0', '2292', '맞았습니다!!', '32976', '72', 'Python 3', '201', '9달 전']}\n"
     ]
    }
   ],
   "source": [
    "print(len(logs))\n",
    "print(logs)"
   ],
   "metadata": {
    "collapsed": false,
    "pycharm": {
     "name": "#%%\n"
    }
   }
  },
  {
   "cell_type": "code",
   "execution_count": 77,
   "outputs": [],
   "source": [
    "driver.quit()"
   ],
   "metadata": {
    "collapsed": false,
    "pycharm": {
     "name": "#%%\n"
    }
   }
  },
  {
   "cell_type": "code",
   "execution_count": 77,
   "outputs": [],
   "source": [],
   "metadata": {
    "collapsed": false,
    "pycharm": {
     "name": "#%%\n"
    }
   }
  }
 ],
 "metadata": {
  "kernelspec": {
   "display_name": "Python 3",
   "language": "python",
   "name": "python3"
  },
  "language_info": {
   "codemirror_mode": {
    "name": "ipython",
    "version": 2
   },
   "file_extension": ".py",
   "mimetype": "text/x-python",
   "name": "python",
   "nbconvert_exporter": "python",
   "pygments_lexer": "ipython2",
   "version": "2.7.6"
  }
 },
 "nbformat": 4,
 "nbformat_minor": 0
}