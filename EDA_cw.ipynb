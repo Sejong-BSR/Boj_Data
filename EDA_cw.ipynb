{
 "cells": [
  {
   "cell_type": "code",
   "execution_count": 1,
   "metadata": {
    "collapsed": true
   },
   "outputs": [],
   "source": [
    "import pandas as pd\n",
    "import numpy as np\n",
    "from sklearn.preprocessing import LabelEncoder"
   ]
  },
  {
   "cell_type": "code",
   "execution_count": 2,
   "outputs": [],
   "source": [
    "data_ori = pd.read_csv(\"data/total_data.csv\")"
   ],
   "metadata": {
    "collapsed": false
   }
  },
  {
   "cell_type": "code",
   "execution_count": 3,
   "outputs": [
    {
     "data": {
      "text/plain": "             timestamp   submit_id        user_id  problem_id result_state  \\\n0  2022-12-16 17:08:57  52731042.0       jsh00325     14562.0      맞았습니다!!   \n1  2022-12-16 15:28:07  52726708.0  teddybear1024     14562.0      맞았습니다!!   \n2  2022-12-15 01:15:34  52680839.0        mujigae     14562.0      맞았습니다!!   \n3  2022-12-12 15:23:46  52595252.0     wnsgml7267     14562.0      맞았습니다!!   \n4  2022-12-01 00:29:05  52271216.0     gustjs5419     14562.0      맞았습니다!!   \n\n    memory  running_time  language  code_length  \n0   2020.0           0.0     C++11        592.0  \n1   2024.0           0.0     C++17        875.0  \n2   2156.0           0.0     C++17        554.0  \n3  34096.0          68.0  Python 3        420.0  \n4   2020.0           4.0     C++17        712.0  ",
      "text/html": "<div>\n<style scoped>\n    .dataframe tbody tr th:only-of-type {\n        vertical-align: middle;\n    }\n\n    .dataframe tbody tr th {\n        vertical-align: top;\n    }\n\n    .dataframe thead th {\n        text-align: right;\n    }\n</style>\n<table border=\"1\" class=\"dataframe\">\n  <thead>\n    <tr style=\"text-align: right;\">\n      <th></th>\n      <th>timestamp</th>\n      <th>submit_id</th>\n      <th>user_id</th>\n      <th>problem_id</th>\n      <th>result_state</th>\n      <th>memory</th>\n      <th>running_time</th>\n      <th>language</th>\n      <th>code_length</th>\n    </tr>\n  </thead>\n  <tbody>\n    <tr>\n      <th>0</th>\n      <td>2022-12-16 17:08:57</td>\n      <td>52731042.0</td>\n      <td>jsh00325</td>\n      <td>14562.0</td>\n      <td>맞았습니다!!</td>\n      <td>2020.0</td>\n      <td>0.0</td>\n      <td>C++11</td>\n      <td>592.0</td>\n    </tr>\n    <tr>\n      <th>1</th>\n      <td>2022-12-16 15:28:07</td>\n      <td>52726708.0</td>\n      <td>teddybear1024</td>\n      <td>14562.0</td>\n      <td>맞았습니다!!</td>\n      <td>2024.0</td>\n      <td>0.0</td>\n      <td>C++17</td>\n      <td>875.0</td>\n    </tr>\n    <tr>\n      <th>2</th>\n      <td>2022-12-15 01:15:34</td>\n      <td>52680839.0</td>\n      <td>mujigae</td>\n      <td>14562.0</td>\n      <td>맞았습니다!!</td>\n      <td>2156.0</td>\n      <td>0.0</td>\n      <td>C++17</td>\n      <td>554.0</td>\n    </tr>\n    <tr>\n      <th>3</th>\n      <td>2022-12-12 15:23:46</td>\n      <td>52595252.0</td>\n      <td>wnsgml7267</td>\n      <td>14562.0</td>\n      <td>맞았습니다!!</td>\n      <td>34096.0</td>\n      <td>68.0</td>\n      <td>Python 3</td>\n      <td>420.0</td>\n    </tr>\n    <tr>\n      <th>4</th>\n      <td>2022-12-01 00:29:05</td>\n      <td>52271216.0</td>\n      <td>gustjs5419</td>\n      <td>14562.0</td>\n      <td>맞았습니다!!</td>\n      <td>2020.0</td>\n      <td>4.0</td>\n      <td>C++17</td>\n      <td>712.0</td>\n    </tr>\n  </tbody>\n</table>\n</div>"
     },
     "execution_count": 3,
     "metadata": {},
     "output_type": "execute_result"
    }
   ],
   "source": [
    "data=data_ori.copy()\n",
    "data=data.drop(axis=1, columns=['__'])\n",
    "data.head()"
   ],
   "metadata": {
    "collapsed": false
   }
  },
  {
   "cell_type": "code",
   "execution_count": 4,
   "outputs": [
    {
     "name": "stderr",
     "output_type": "stream",
     "text": [
      "C:\\Users\\fjdks\\AppData\\Local\\Temp\\ipykernel_3380\\4245659237.py:1: FutureWarning: null_counts is deprecated. Use show_counts instead\n",
      "  data.info(null_counts=True)\n"
     ]
    },
    {
     "name": "stdout",
     "output_type": "stream",
     "text": [
      "<class 'pandas.core.frame.DataFrame'>\n",
      "RangeIndex: 22608670 entries, 0 to 22608669\n",
      "Data columns (total 9 columns):\n",
      " #   Column        Non-Null Count     Dtype  \n",
      "---  ------        --------------     -----  \n",
      " 0   timestamp     21480108 non-null  object \n",
      " 1   submit_id     21480108 non-null  float64\n",
      " 2   user_id       21477963 non-null  object \n",
      " 3   problem_id    21477969 non-null  float64\n",
      " 4   result_state  21480108 non-null  object \n",
      " 5   memory        8266306 non-null   float64\n",
      " 6   running_time  8266306 non-null   float64\n",
      " 7   language      21477969 non-null  object \n",
      " 8   code_length   21472934 non-null  float64\n",
      "dtypes: float64(5), object(4)\n",
      "memory usage: 1.5+ GB\n"
     ]
    }
   ],
   "source": [
    "data.info(null_counts=True)"
   ],
   "metadata": {
    "collapsed": false
   }
  },
  {
   "cell_type": "markdown",
   "source": [
    "# problem id"
   ],
   "metadata": {
    "collapsed": false
   }
  },
  {
   "cell_type": "code",
   "execution_count": 5,
   "outputs": [
    {
     "name": "stdout",
     "output_type": "stream",
     "text": [
      "5.001183174419371 % 의 데이터 소실\n"
     ]
    }
   ],
   "source": [
    "print((data['problem_id'].isnull().sum() / len(data) )*100,'% 의 데이터 소실')"
   ],
   "metadata": {
    "collapsed": false
   }
  },
  {
   "cell_type": "code",
   "execution_count": 6,
   "outputs": [
    {
     "data": {
      "text/plain": "         timestamp  submit_id user_id  problem_id result_state  memory  \\\n19             NaN        NaN     NaN         NaN          NaN     NaN   \n39             NaN        NaN     NaN         NaN          NaN     NaN   \n59             NaN        NaN     NaN         NaN          NaN     NaN   \n79             NaN        NaN     NaN         NaN          NaN     NaN   \n99             NaN        NaN     NaN         NaN          NaN     NaN   \n...            ...        ...     ...         ...          ...     ...   \n22608570       NaN        NaN     NaN         NaN          NaN     NaN   \n22608590       NaN        NaN     NaN         NaN          NaN     NaN   \n22608610       NaN        NaN     NaN         NaN          NaN     NaN   \n22608630       NaN        NaN     NaN         NaN          NaN     NaN   \n22608650       NaN        NaN     NaN         NaN          NaN     NaN   \n\n          running_time language  code_length  \n19                 NaN      NaN          NaN  \n39                 NaN      NaN          NaN  \n59                 NaN      NaN          NaN  \n79                 NaN      NaN          NaN  \n99                 NaN      NaN          NaN  \n...                ...      ...          ...  \n22608570           NaN      NaN          NaN  \n22608590           NaN      NaN          NaN  \n22608610           NaN      NaN          NaN  \n22608630           NaN      NaN          NaN  \n22608650           NaN      NaN          NaN  \n\n[1130701 rows x 9 columns]",
      "text/html": "<div>\n<style scoped>\n    .dataframe tbody tr th:only-of-type {\n        vertical-align: middle;\n    }\n\n    .dataframe tbody tr th {\n        vertical-align: top;\n    }\n\n    .dataframe thead th {\n        text-align: right;\n    }\n</style>\n<table border=\"1\" class=\"dataframe\">\n  <thead>\n    <tr style=\"text-align: right;\">\n      <th></th>\n      <th>timestamp</th>\n      <th>submit_id</th>\n      <th>user_id</th>\n      <th>problem_id</th>\n      <th>result_state</th>\n      <th>memory</th>\n      <th>running_time</th>\n      <th>language</th>\n      <th>code_length</th>\n    </tr>\n  </thead>\n  <tbody>\n    <tr>\n      <th>19</th>\n      <td>NaN</td>\n      <td>NaN</td>\n      <td>NaN</td>\n      <td>NaN</td>\n      <td>NaN</td>\n      <td>NaN</td>\n      <td>NaN</td>\n      <td>NaN</td>\n      <td>NaN</td>\n    </tr>\n    <tr>\n      <th>39</th>\n      <td>NaN</td>\n      <td>NaN</td>\n      <td>NaN</td>\n      <td>NaN</td>\n      <td>NaN</td>\n      <td>NaN</td>\n      <td>NaN</td>\n      <td>NaN</td>\n      <td>NaN</td>\n    </tr>\n    <tr>\n      <th>59</th>\n      <td>NaN</td>\n      <td>NaN</td>\n      <td>NaN</td>\n      <td>NaN</td>\n      <td>NaN</td>\n      <td>NaN</td>\n      <td>NaN</td>\n      <td>NaN</td>\n      <td>NaN</td>\n    </tr>\n    <tr>\n      <th>79</th>\n      <td>NaN</td>\n      <td>NaN</td>\n      <td>NaN</td>\n      <td>NaN</td>\n      <td>NaN</td>\n      <td>NaN</td>\n      <td>NaN</td>\n      <td>NaN</td>\n      <td>NaN</td>\n    </tr>\n    <tr>\n      <th>99</th>\n      <td>NaN</td>\n      <td>NaN</td>\n      <td>NaN</td>\n      <td>NaN</td>\n      <td>NaN</td>\n      <td>NaN</td>\n      <td>NaN</td>\n      <td>NaN</td>\n      <td>NaN</td>\n    </tr>\n    <tr>\n      <th>...</th>\n      <td>...</td>\n      <td>...</td>\n      <td>...</td>\n      <td>...</td>\n      <td>...</td>\n      <td>...</td>\n      <td>...</td>\n      <td>...</td>\n      <td>...</td>\n    </tr>\n    <tr>\n      <th>22608570</th>\n      <td>NaN</td>\n      <td>NaN</td>\n      <td>NaN</td>\n      <td>NaN</td>\n      <td>NaN</td>\n      <td>NaN</td>\n      <td>NaN</td>\n      <td>NaN</td>\n      <td>NaN</td>\n    </tr>\n    <tr>\n      <th>22608590</th>\n      <td>NaN</td>\n      <td>NaN</td>\n      <td>NaN</td>\n      <td>NaN</td>\n      <td>NaN</td>\n      <td>NaN</td>\n      <td>NaN</td>\n      <td>NaN</td>\n      <td>NaN</td>\n    </tr>\n    <tr>\n      <th>22608610</th>\n      <td>NaN</td>\n      <td>NaN</td>\n      <td>NaN</td>\n      <td>NaN</td>\n      <td>NaN</td>\n      <td>NaN</td>\n      <td>NaN</td>\n      <td>NaN</td>\n      <td>NaN</td>\n    </tr>\n    <tr>\n      <th>22608630</th>\n      <td>NaN</td>\n      <td>NaN</td>\n      <td>NaN</td>\n      <td>NaN</td>\n      <td>NaN</td>\n      <td>NaN</td>\n      <td>NaN</td>\n      <td>NaN</td>\n      <td>NaN</td>\n    </tr>\n    <tr>\n      <th>22608650</th>\n      <td>NaN</td>\n      <td>NaN</td>\n      <td>NaN</td>\n      <td>NaN</td>\n      <td>NaN</td>\n      <td>NaN</td>\n      <td>NaN</td>\n      <td>NaN</td>\n      <td>NaN</td>\n    </tr>\n  </tbody>\n</table>\n<p>1130701 rows × 9 columns</p>\n</div>"
     },
     "execution_count": 6,
     "metadata": {},
     "output_type": "execute_result"
    }
   ],
   "source": [
    "data[data['problem_id'].isna()]"
   ],
   "metadata": {
    "collapsed": false
   }
  },
  {
   "cell_type": "code",
   "execution_count": 55,
   "outputs": [
    {
     "name": "stderr",
     "output_type": "stream",
     "text": [
      "C:\\Users\\fjdks\\AppData\\Local\\Temp\\ipykernel_20352\\658676578.py:2: FutureWarning: null_counts is deprecated. Use show_counts instead\n",
      "  data.info(null_counts=True)\n"
     ]
    },
    {
     "name": "stdout",
     "output_type": "stream",
     "text": [
      "<class 'pandas.core.frame.DataFrame'>\n",
      "Int64Index: 21477969 entries, 0 to 22608669\n",
      "Data columns (total 10 columns):\n",
      " #   Column        Non-Null Count     Dtype  \n",
      "---  ------        --------------     -----  \n",
      " 0   timestamp     21477969 non-null  object \n",
      " 1   submit_id     21477969 non-null  float64\n",
      " 2   user_id       21477963 non-null  object \n",
      " 3   problem_id    21477969 non-null  float64\n",
      " 4   result_state  21477969 non-null  object \n",
      " 5   memory        8266306 non-null   float64\n",
      " 6   running_time  8266306 non-null   float64\n",
      " 7   language      21477969 non-null  object \n",
      " 8   code_length   21472934 non-null  float64\n",
      " 9   days          21477969 non-null  object \n",
      "dtypes: float64(5), object(5)\n",
      "memory usage: 1.8+ GB\n"
     ]
    }
   ],
   "source": [
    "data=data[data['problem_id'].notna()]\n",
    "data.info(null_counts=True)"
   ],
   "metadata": {
    "collapsed": false
   }
  },
  {
   "cell_type": "markdown",
   "source": [
    "# User Id"
   ],
   "metadata": {
    "collapsed": false
   }
  },
  {
   "cell_type": "code",
   "execution_count": 56,
   "outputs": [
    {
     "data": {
      "text/plain": "                    timestamp  submit_id user_id  problem_id result_state  \\\n14282576  2014-08-29 20:33:20   310888.0     NaN     10211.0      맞았습니다!!   \n21248694  2017-09-13 10:20:26  6722584.0     NaN      1003.0        시간 초과   \n21248695  2017-09-13 10:18:14  6722577.0     NaN      1003.0       컴파일 에러   \n21248696  2017-09-13 10:16:43  6722571.0     NaN      1003.0       컴파일 에러   \n21248697  2017-09-13 10:12:43  6722549.0     NaN      1003.0       컴파일 에러   \n21248698  2017-09-13 10:12:01  6722546.0     NaN      1003.0       컴파일 에러   \n\n          memory  running_time language  code_length  days  \n14282576  1984.0           8.0    C++98        515.0  8년 전  \n21248694     NaN           NaN      C99        492.0  5년 전  \n21248695     NaN           NaN    C++14        496.0  5년 전  \n21248696     NaN           NaN      C99        496.0  5년 전  \n21248697     NaN           NaN      C99        468.0  5년 전  \n21248698     NaN           NaN      C99        467.0  5년 전  ",
      "text/html": "<div>\n<style scoped>\n    .dataframe tbody tr th:only-of-type {\n        vertical-align: middle;\n    }\n\n    .dataframe tbody tr th {\n        vertical-align: top;\n    }\n\n    .dataframe thead th {\n        text-align: right;\n    }\n</style>\n<table border=\"1\" class=\"dataframe\">\n  <thead>\n    <tr style=\"text-align: right;\">\n      <th></th>\n      <th>timestamp</th>\n      <th>submit_id</th>\n      <th>user_id</th>\n      <th>problem_id</th>\n      <th>result_state</th>\n      <th>memory</th>\n      <th>running_time</th>\n      <th>language</th>\n      <th>code_length</th>\n      <th>days</th>\n    </tr>\n  </thead>\n  <tbody>\n    <tr>\n      <th>14282576</th>\n      <td>2014-08-29 20:33:20</td>\n      <td>310888.0</td>\n      <td>NaN</td>\n      <td>10211.0</td>\n      <td>맞았습니다!!</td>\n      <td>1984.0</td>\n      <td>8.0</td>\n      <td>C++98</td>\n      <td>515.0</td>\n      <td>8년 전</td>\n    </tr>\n    <tr>\n      <th>21248694</th>\n      <td>2017-09-13 10:20:26</td>\n      <td>6722584.0</td>\n      <td>NaN</td>\n      <td>1003.0</td>\n      <td>시간 초과</td>\n      <td>NaN</td>\n      <td>NaN</td>\n      <td>C99</td>\n      <td>492.0</td>\n      <td>5년 전</td>\n    </tr>\n    <tr>\n      <th>21248695</th>\n      <td>2017-09-13 10:18:14</td>\n      <td>6722577.0</td>\n      <td>NaN</td>\n      <td>1003.0</td>\n      <td>컴파일 에러</td>\n      <td>NaN</td>\n      <td>NaN</td>\n      <td>C++14</td>\n      <td>496.0</td>\n      <td>5년 전</td>\n    </tr>\n    <tr>\n      <th>21248696</th>\n      <td>2017-09-13 10:16:43</td>\n      <td>6722571.0</td>\n      <td>NaN</td>\n      <td>1003.0</td>\n      <td>컴파일 에러</td>\n      <td>NaN</td>\n      <td>NaN</td>\n      <td>C99</td>\n      <td>496.0</td>\n      <td>5년 전</td>\n    </tr>\n    <tr>\n      <th>21248697</th>\n      <td>2017-09-13 10:12:43</td>\n      <td>6722549.0</td>\n      <td>NaN</td>\n      <td>1003.0</td>\n      <td>컴파일 에러</td>\n      <td>NaN</td>\n      <td>NaN</td>\n      <td>C99</td>\n      <td>468.0</td>\n      <td>5년 전</td>\n    </tr>\n    <tr>\n      <th>21248698</th>\n      <td>2017-09-13 10:12:01</td>\n      <td>6722546.0</td>\n      <td>NaN</td>\n      <td>1003.0</td>\n      <td>컴파일 에러</td>\n      <td>NaN</td>\n      <td>NaN</td>\n      <td>C99</td>\n      <td>467.0</td>\n      <td>5년 전</td>\n    </tr>\n  </tbody>\n</table>\n</div>"
     },
     "execution_count": 56,
     "metadata": {},
     "output_type": "execute_result"
    }
   ],
   "source": [
    "data[data['user_id'].isna()]"
   ],
   "metadata": {
    "collapsed": false
   }
  },
  {
   "cell_type": "code",
   "execution_count": 57,
   "outputs": [
    {
     "data": {
      "text/plain": "                    timestamp  submit_id user_id  problem_id result_state  \\\n21248694  2017-09-13 10:20:26  6722584.0     NaN      1003.0        시간 초과   \n21248695  2017-09-13 10:18:14  6722577.0     NaN      1003.0       컴파일 에러   \n21248696  2017-09-13 10:16:43  6722571.0     NaN      1003.0       컴파일 에러   \n21248697  2017-09-13 10:12:43  6722549.0     NaN      1003.0       컴파일 에러   \n21248698  2017-09-13 10:12:01  6722546.0     NaN      1003.0       컴파일 에러   \n\n          memory  running_time language  code_length  days  \n21248694     NaN           NaN      C99        492.0  5년 전  \n21248695     NaN           NaN    C++14        496.0  5년 전  \n21248696     NaN           NaN      C99        496.0  5년 전  \n21248697     NaN           NaN      C99        468.0  5년 전  \n21248698     NaN           NaN      C99        467.0  5년 전  ",
      "text/html": "<div>\n<style scoped>\n    .dataframe tbody tr th:only-of-type {\n        vertical-align: middle;\n    }\n\n    .dataframe tbody tr th {\n        vertical-align: top;\n    }\n\n    .dataframe thead th {\n        text-align: right;\n    }\n</style>\n<table border=\"1\" class=\"dataframe\">\n  <thead>\n    <tr style=\"text-align: right;\">\n      <th></th>\n      <th>timestamp</th>\n      <th>submit_id</th>\n      <th>user_id</th>\n      <th>problem_id</th>\n      <th>result_state</th>\n      <th>memory</th>\n      <th>running_time</th>\n      <th>language</th>\n      <th>code_length</th>\n      <th>days</th>\n    </tr>\n  </thead>\n  <tbody>\n    <tr>\n      <th>21248694</th>\n      <td>2017-09-13 10:20:26</td>\n      <td>6722584.0</td>\n      <td>NaN</td>\n      <td>1003.0</td>\n      <td>시간 초과</td>\n      <td>NaN</td>\n      <td>NaN</td>\n      <td>C99</td>\n      <td>492.0</td>\n      <td>5년 전</td>\n    </tr>\n    <tr>\n      <th>21248695</th>\n      <td>2017-09-13 10:18:14</td>\n      <td>6722577.0</td>\n      <td>NaN</td>\n      <td>1003.0</td>\n      <td>컴파일 에러</td>\n      <td>NaN</td>\n      <td>NaN</td>\n      <td>C++14</td>\n      <td>496.0</td>\n      <td>5년 전</td>\n    </tr>\n    <tr>\n      <th>21248696</th>\n      <td>2017-09-13 10:16:43</td>\n      <td>6722571.0</td>\n      <td>NaN</td>\n      <td>1003.0</td>\n      <td>컴파일 에러</td>\n      <td>NaN</td>\n      <td>NaN</td>\n      <td>C99</td>\n      <td>496.0</td>\n      <td>5년 전</td>\n    </tr>\n    <tr>\n      <th>21248697</th>\n      <td>2017-09-13 10:12:43</td>\n      <td>6722549.0</td>\n      <td>NaN</td>\n      <td>1003.0</td>\n      <td>컴파일 에러</td>\n      <td>NaN</td>\n      <td>NaN</td>\n      <td>C99</td>\n      <td>468.0</td>\n      <td>5년 전</td>\n    </tr>\n    <tr>\n      <th>21248698</th>\n      <td>2017-09-13 10:12:01</td>\n      <td>6722546.0</td>\n      <td>NaN</td>\n      <td>1003.0</td>\n      <td>컴파일 에러</td>\n      <td>NaN</td>\n      <td>NaN</td>\n      <td>C99</td>\n      <td>467.0</td>\n      <td>5년 전</td>\n    </tr>\n  </tbody>\n</table>\n</div>"
     },
     "execution_count": 57,
     "metadata": {},
     "output_type": "execute_result"
    }
   ],
   "source": [
    "data.loc[14282576,'user_id']='dividebyzer0'\n",
    "data[data['user_id'].isna()]"
   ],
   "metadata": {
    "collapsed": false
   }
  },
  {
   "cell_type": "code",
   "execution_count": 58,
   "outputs": [
    {
     "data": {
      "text/plain": "Int64Index([21248694, 21248695, 21248696, 21248697, 21248698], dtype='int64')"
     },
     "execution_count": 58,
     "metadata": {},
     "output_type": "execute_result"
    }
   ],
   "source": [
    "data[data['user_id'].isna()].index"
   ],
   "metadata": {
    "collapsed": false
   }
  },
  {
   "cell_type": "code",
   "execution_count": 59,
   "outputs": [
    {
     "data": {
      "text/plain": "Empty DataFrame\nColumns: [timestamp, submit_id, user_id, problem_id, result_state, memory, running_time, language, code_length, days]\nIndex: []",
      "text/html": "<div>\n<style scoped>\n    .dataframe tbody tr th:only-of-type {\n        vertical-align: middle;\n    }\n\n    .dataframe tbody tr th {\n        vertical-align: top;\n    }\n\n    .dataframe thead th {\n        text-align: right;\n    }\n</style>\n<table border=\"1\" class=\"dataframe\">\n  <thead>\n    <tr style=\"text-align: right;\">\n      <th></th>\n      <th>timestamp</th>\n      <th>submit_id</th>\n      <th>user_id</th>\n      <th>problem_id</th>\n      <th>result_state</th>\n      <th>memory</th>\n      <th>running_time</th>\n      <th>language</th>\n      <th>code_length</th>\n      <th>days</th>\n    </tr>\n  </thead>\n  <tbody>\n  </tbody>\n</table>\n</div>"
     },
     "execution_count": 59,
     "metadata": {},
     "output_type": "execute_result"
    }
   ],
   "source": [
    "for i in data[data['user_id'].isna()].index:\n",
    "       data.loc[i,'user_id']='tptkddpdjqtsmsdkdlel' # 존재하지 않는 아이디로 일단 처리\n",
    "data[data['user_id'].isna()]"
   ],
   "metadata": {
    "collapsed": false
   }
  },
  {
   "cell_type": "code",
   "execution_count": 60,
   "outputs": [
    {
     "data": {
      "text/plain": "             timestamp   submit_id  user_id  problem_id result_state   memory  \\\n0  2022-12-16 17:08:57  52731042.0    83379     14562.0      맞았습니다!!   2020.0   \n1  2022-12-16 15:28:07  52726708.0   161875     14562.0      맞았습니다!!   2024.0   \n2  2022-12-15 01:15:34  52680839.0   116207     14562.0      맞았습니다!!   2156.0   \n3  2022-12-12 15:23:46  52595252.0   177377     14562.0      맞았습니다!!  34096.0   \n4  2022-12-01 00:29:05  52271216.0    57062     14562.0      맞았습니다!!   2020.0   \n\n   running_time  language  code_length   days  \n0           0.0     C++11        592.0   8일 전  \n1           0.0     C++17        875.0   8일 전  \n2           0.0     C++17        554.0   9일 전  \n3          68.0  Python 3        420.0  12일 전  \n4           4.0     C++17        712.0  23일 전  ",
      "text/html": "<div>\n<style scoped>\n    .dataframe tbody tr th:only-of-type {\n        vertical-align: middle;\n    }\n\n    .dataframe tbody tr th {\n        vertical-align: top;\n    }\n\n    .dataframe thead th {\n        text-align: right;\n    }\n</style>\n<table border=\"1\" class=\"dataframe\">\n  <thead>\n    <tr style=\"text-align: right;\">\n      <th></th>\n      <th>timestamp</th>\n      <th>submit_id</th>\n      <th>user_id</th>\n      <th>problem_id</th>\n      <th>result_state</th>\n      <th>memory</th>\n      <th>running_time</th>\n      <th>language</th>\n      <th>code_length</th>\n      <th>days</th>\n    </tr>\n  </thead>\n  <tbody>\n    <tr>\n      <th>0</th>\n      <td>2022-12-16 17:08:57</td>\n      <td>52731042.0</td>\n      <td>83379</td>\n      <td>14562.0</td>\n      <td>맞았습니다!!</td>\n      <td>2020.0</td>\n      <td>0.0</td>\n      <td>C++11</td>\n      <td>592.0</td>\n      <td>8일 전</td>\n    </tr>\n    <tr>\n      <th>1</th>\n      <td>2022-12-16 15:28:07</td>\n      <td>52726708.0</td>\n      <td>161875</td>\n      <td>14562.0</td>\n      <td>맞았습니다!!</td>\n      <td>2024.0</td>\n      <td>0.0</td>\n      <td>C++17</td>\n      <td>875.0</td>\n      <td>8일 전</td>\n    </tr>\n    <tr>\n      <th>2</th>\n      <td>2022-12-15 01:15:34</td>\n      <td>52680839.0</td>\n      <td>116207</td>\n      <td>14562.0</td>\n      <td>맞았습니다!!</td>\n      <td>2156.0</td>\n      <td>0.0</td>\n      <td>C++17</td>\n      <td>554.0</td>\n      <td>9일 전</td>\n    </tr>\n    <tr>\n      <th>3</th>\n      <td>2022-12-12 15:23:46</td>\n      <td>52595252.0</td>\n      <td>177377</td>\n      <td>14562.0</td>\n      <td>맞았습니다!!</td>\n      <td>34096.0</td>\n      <td>68.0</td>\n      <td>Python 3</td>\n      <td>420.0</td>\n      <td>12일 전</td>\n    </tr>\n    <tr>\n      <th>4</th>\n      <td>2022-12-01 00:29:05</td>\n      <td>52271216.0</td>\n      <td>57062</td>\n      <td>14562.0</td>\n      <td>맞았습니다!!</td>\n      <td>2020.0</td>\n      <td>4.0</td>\n      <td>C++17</td>\n      <td>712.0</td>\n      <td>23일 전</td>\n    </tr>\n  </tbody>\n</table>\n</div>"
     },
     "execution_count": 60,
     "metadata": {},
     "output_type": "execute_result"
    }
   ],
   "source": [
    "labelEncoder=LabelEncoder()\n",
    "labelEncoder.fit(data['user_id'])\n",
    "data['user_id'] = labelEncoder.transform(data['user_id'])\n",
    "data.head()"
   ],
   "metadata": {
    "collapsed": false
   }
  },
  {
   "cell_type": "markdown",
   "source": [
    "# Memory & Running time"
   ],
   "metadata": {
    "collapsed": false
   }
  },
  {
   "cell_type": "code",
   "execution_count": 61,
   "outputs": [],
   "source": [
    "data['memory']=data['memory'].fillna(-1)\n",
    "data['running_time']=data['running_time'].fillna(-1)"
   ],
   "metadata": {
    "collapsed": false
   }
  },
  {
   "cell_type": "markdown",
   "source": [
    "# Code Length"
   ],
   "metadata": {
    "collapsed": false
   }
  },
  {
   "cell_type": "code",
   "execution_count": 62,
   "outputs": [
    {
     "data": {
      "text/plain": "                    timestamp   submit_id  user_id  problem_id result_state  \\\n9159693   2022-12-20 23:57:32  52882065.0   126591     17106.0      맞았습니다!!   \n9159694   2022-12-19 08:33:40  52809781.0    39823     17106.0      맞았습니다!!   \n9159695   2022-12-19 08:32:12  52809772.0    39823     17106.0        틀렸습니다   \n9159696   2022-12-19 08:29:51  52809757.0    39823     17106.0        틀렸습니다   \n9159697   2022-12-19 08:29:13  52809755.0    39823     17106.0        틀렸습니다   \n...                       ...         ...      ...         ...          ...   \n14865354  2019-03-31 16:23:22  12492330.0   128715     17114.0        시간 초과   \n14865355  2019-03-31 16:22:17  12492299.0   128715     17114.0        틀렸습니다   \n14865356  2019-03-31 16:20:58  12492259.0   128715     17114.0        시간 초과   \n14865357  2019-03-31 16:18:13  12492163.0   128715     17114.0        틀렸습니다   \n14865358  2019-03-31 16:17:33  12492148.0   128715     17114.0        틀렸습니다   \n\n          memory  running_time language  code_length  days  \n9159693   4528.0           0.0     Text          NaN  4일 전  \n9159694   4528.0           0.0     Text          NaN  5일 전  \n9159695     -1.0          -1.0     Text          NaN  5일 전  \n9159696     -1.0          -1.0     Text          NaN  5일 전  \n9159697     -1.0          -1.0     Text          NaN  5일 전  \n...          ...           ...      ...          ...   ...  \n14865354    -1.0          -1.0    C++17          NaN  3년 전  \n14865355    -1.0          -1.0    C++17          NaN  3년 전  \n14865356    -1.0          -1.0    C++17          NaN  3년 전  \n14865357    -1.0          -1.0    C++17          NaN  3년 전  \n14865358    -1.0          -1.0    C++11          NaN  3년 전  \n\n[5035 rows x 10 columns]",
      "text/html": "<div>\n<style scoped>\n    .dataframe tbody tr th:only-of-type {\n        vertical-align: middle;\n    }\n\n    .dataframe tbody tr th {\n        vertical-align: top;\n    }\n\n    .dataframe thead th {\n        text-align: right;\n    }\n</style>\n<table border=\"1\" class=\"dataframe\">\n  <thead>\n    <tr style=\"text-align: right;\">\n      <th></th>\n      <th>timestamp</th>\n      <th>submit_id</th>\n      <th>user_id</th>\n      <th>problem_id</th>\n      <th>result_state</th>\n      <th>memory</th>\n      <th>running_time</th>\n      <th>language</th>\n      <th>code_length</th>\n      <th>days</th>\n    </tr>\n  </thead>\n  <tbody>\n    <tr>\n      <th>9159693</th>\n      <td>2022-12-20 23:57:32</td>\n      <td>52882065.0</td>\n      <td>126591</td>\n      <td>17106.0</td>\n      <td>맞았습니다!!</td>\n      <td>4528.0</td>\n      <td>0.0</td>\n      <td>Text</td>\n      <td>NaN</td>\n      <td>4일 전</td>\n    </tr>\n    <tr>\n      <th>9159694</th>\n      <td>2022-12-19 08:33:40</td>\n      <td>52809781.0</td>\n      <td>39823</td>\n      <td>17106.0</td>\n      <td>맞았습니다!!</td>\n      <td>4528.0</td>\n      <td>0.0</td>\n      <td>Text</td>\n      <td>NaN</td>\n      <td>5일 전</td>\n    </tr>\n    <tr>\n      <th>9159695</th>\n      <td>2022-12-19 08:32:12</td>\n      <td>52809772.0</td>\n      <td>39823</td>\n      <td>17106.0</td>\n      <td>틀렸습니다</td>\n      <td>-1.0</td>\n      <td>-1.0</td>\n      <td>Text</td>\n      <td>NaN</td>\n      <td>5일 전</td>\n    </tr>\n    <tr>\n      <th>9159696</th>\n      <td>2022-12-19 08:29:51</td>\n      <td>52809757.0</td>\n      <td>39823</td>\n      <td>17106.0</td>\n      <td>틀렸습니다</td>\n      <td>-1.0</td>\n      <td>-1.0</td>\n      <td>Text</td>\n      <td>NaN</td>\n      <td>5일 전</td>\n    </tr>\n    <tr>\n      <th>9159697</th>\n      <td>2022-12-19 08:29:13</td>\n      <td>52809755.0</td>\n      <td>39823</td>\n      <td>17106.0</td>\n      <td>틀렸습니다</td>\n      <td>-1.0</td>\n      <td>-1.0</td>\n      <td>Text</td>\n      <td>NaN</td>\n      <td>5일 전</td>\n    </tr>\n    <tr>\n      <th>...</th>\n      <td>...</td>\n      <td>...</td>\n      <td>...</td>\n      <td>...</td>\n      <td>...</td>\n      <td>...</td>\n      <td>...</td>\n      <td>...</td>\n      <td>...</td>\n      <td>...</td>\n    </tr>\n    <tr>\n      <th>14865354</th>\n      <td>2019-03-31 16:23:22</td>\n      <td>12492330.0</td>\n      <td>128715</td>\n      <td>17114.0</td>\n      <td>시간 초과</td>\n      <td>-1.0</td>\n      <td>-1.0</td>\n      <td>C++17</td>\n      <td>NaN</td>\n      <td>3년 전</td>\n    </tr>\n    <tr>\n      <th>14865355</th>\n      <td>2019-03-31 16:22:17</td>\n      <td>12492299.0</td>\n      <td>128715</td>\n      <td>17114.0</td>\n      <td>틀렸습니다</td>\n      <td>-1.0</td>\n      <td>-1.0</td>\n      <td>C++17</td>\n      <td>NaN</td>\n      <td>3년 전</td>\n    </tr>\n    <tr>\n      <th>14865356</th>\n      <td>2019-03-31 16:20:58</td>\n      <td>12492259.0</td>\n      <td>128715</td>\n      <td>17114.0</td>\n      <td>시간 초과</td>\n      <td>-1.0</td>\n      <td>-1.0</td>\n      <td>C++17</td>\n      <td>NaN</td>\n      <td>3년 전</td>\n    </tr>\n    <tr>\n      <th>14865357</th>\n      <td>2019-03-31 16:18:13</td>\n      <td>12492163.0</td>\n      <td>128715</td>\n      <td>17114.0</td>\n      <td>틀렸습니다</td>\n      <td>-1.0</td>\n      <td>-1.0</td>\n      <td>C++17</td>\n      <td>NaN</td>\n      <td>3년 전</td>\n    </tr>\n    <tr>\n      <th>14865358</th>\n      <td>2019-03-31 16:17:33</td>\n      <td>12492148.0</td>\n      <td>128715</td>\n      <td>17114.0</td>\n      <td>틀렸습니다</td>\n      <td>-1.0</td>\n      <td>-1.0</td>\n      <td>C++11</td>\n      <td>NaN</td>\n      <td>3년 전</td>\n    </tr>\n  </tbody>\n</table>\n<p>5035 rows × 10 columns</p>\n</div>"
     },
     "execution_count": 62,
     "metadata": {},
     "output_type": "execute_result"
    }
   ],
   "source": [
    "data[data['code_length'].isna()]"
   ],
   "metadata": {
    "collapsed": false
   }
  },
  {
   "cell_type": "code",
   "execution_count": 63,
   "outputs": [
    {
     "data": {
      "text/plain": "                    timestamp   submit_id  user_id  problem_id result_state  \\\n14863500  2022-12-23 04:00:21  52971063.0   103350     17114.0      맞았습니다!!   \n14863501  2022-12-23 03:26:06  52970721.0   103350     17114.0        틀렸습니다   \n14863502  2022-12-22 13:15:17  52935820.0   167904     17114.0      맞았습니다!!   \n14863503  2022-12-22 00:16:19  52922580.0   167904     17114.0      맞았습니다!!   \n14863504  2022-12-21 23:51:48  52921629.0   167904     17114.0        시간 초과   \n...                       ...         ...      ...         ...          ...   \n14865354  2019-03-31 16:23:22  12492330.0   128715     17114.0        시간 초과   \n14865355  2019-03-31 16:22:17  12492299.0   128715     17114.0        틀렸습니다   \n14865356  2019-03-31 16:20:58  12492259.0   128715     17114.0        시간 초과   \n14865357  2019-03-31 16:18:13  12492163.0   128715     17114.0        틀렸습니다   \n14865358  2019-03-31 16:17:33  12492148.0   128715     17114.0        틀렸습니다   \n\n            memory  running_time language  code_length  days  \n14863500  322416.0         696.0    C++17          NaN  2일 전  \n14863501      -1.0          -1.0    C++17          NaN  2일 전  \n14863502  648004.0        2816.0   Java 8          NaN  2일 전  \n14863503  645844.0        2540.0   Java 8          NaN  3일 전  \n14863504      -1.0          -1.0   Java 8          NaN  3일 전  \n...            ...           ...      ...          ...   ...  \n14865354      -1.0          -1.0    C++17          NaN  3년 전  \n14865355      -1.0          -1.0    C++17          NaN  3년 전  \n14865356      -1.0          -1.0    C++17          NaN  3년 전  \n14865357      -1.0          -1.0    C++17          NaN  3년 전  \n14865358      -1.0          -1.0    C++11          NaN  3년 전  \n\n[1767 rows x 10 columns]",
      "text/html": "<div>\n<style scoped>\n    .dataframe tbody tr th:only-of-type {\n        vertical-align: middle;\n    }\n\n    .dataframe tbody tr th {\n        vertical-align: top;\n    }\n\n    .dataframe thead th {\n        text-align: right;\n    }\n</style>\n<table border=\"1\" class=\"dataframe\">\n  <thead>\n    <tr style=\"text-align: right;\">\n      <th></th>\n      <th>timestamp</th>\n      <th>submit_id</th>\n      <th>user_id</th>\n      <th>problem_id</th>\n      <th>result_state</th>\n      <th>memory</th>\n      <th>running_time</th>\n      <th>language</th>\n      <th>code_length</th>\n      <th>days</th>\n    </tr>\n  </thead>\n  <tbody>\n    <tr>\n      <th>14863500</th>\n      <td>2022-12-23 04:00:21</td>\n      <td>52971063.0</td>\n      <td>103350</td>\n      <td>17114.0</td>\n      <td>맞았습니다!!</td>\n      <td>322416.0</td>\n      <td>696.0</td>\n      <td>C++17</td>\n      <td>NaN</td>\n      <td>2일 전</td>\n    </tr>\n    <tr>\n      <th>14863501</th>\n      <td>2022-12-23 03:26:06</td>\n      <td>52970721.0</td>\n      <td>103350</td>\n      <td>17114.0</td>\n      <td>틀렸습니다</td>\n      <td>-1.0</td>\n      <td>-1.0</td>\n      <td>C++17</td>\n      <td>NaN</td>\n      <td>2일 전</td>\n    </tr>\n    <tr>\n      <th>14863502</th>\n      <td>2022-12-22 13:15:17</td>\n      <td>52935820.0</td>\n      <td>167904</td>\n      <td>17114.0</td>\n      <td>맞았습니다!!</td>\n      <td>648004.0</td>\n      <td>2816.0</td>\n      <td>Java 8</td>\n      <td>NaN</td>\n      <td>2일 전</td>\n    </tr>\n    <tr>\n      <th>14863503</th>\n      <td>2022-12-22 00:16:19</td>\n      <td>52922580.0</td>\n      <td>167904</td>\n      <td>17114.0</td>\n      <td>맞았습니다!!</td>\n      <td>645844.0</td>\n      <td>2540.0</td>\n      <td>Java 8</td>\n      <td>NaN</td>\n      <td>3일 전</td>\n    </tr>\n    <tr>\n      <th>14863504</th>\n      <td>2022-12-21 23:51:48</td>\n      <td>52921629.0</td>\n      <td>167904</td>\n      <td>17114.0</td>\n      <td>시간 초과</td>\n      <td>-1.0</td>\n      <td>-1.0</td>\n      <td>Java 8</td>\n      <td>NaN</td>\n      <td>3일 전</td>\n    </tr>\n    <tr>\n      <th>...</th>\n      <td>...</td>\n      <td>...</td>\n      <td>...</td>\n      <td>...</td>\n      <td>...</td>\n      <td>...</td>\n      <td>...</td>\n      <td>...</td>\n      <td>...</td>\n      <td>...</td>\n    </tr>\n    <tr>\n      <th>14865354</th>\n      <td>2019-03-31 16:23:22</td>\n      <td>12492330.0</td>\n      <td>128715</td>\n      <td>17114.0</td>\n      <td>시간 초과</td>\n      <td>-1.0</td>\n      <td>-1.0</td>\n      <td>C++17</td>\n      <td>NaN</td>\n      <td>3년 전</td>\n    </tr>\n    <tr>\n      <th>14865355</th>\n      <td>2019-03-31 16:22:17</td>\n      <td>12492299.0</td>\n      <td>128715</td>\n      <td>17114.0</td>\n      <td>틀렸습니다</td>\n      <td>-1.0</td>\n      <td>-1.0</td>\n      <td>C++17</td>\n      <td>NaN</td>\n      <td>3년 전</td>\n    </tr>\n    <tr>\n      <th>14865356</th>\n      <td>2019-03-31 16:20:58</td>\n      <td>12492259.0</td>\n      <td>128715</td>\n      <td>17114.0</td>\n      <td>시간 초과</td>\n      <td>-1.0</td>\n      <td>-1.0</td>\n      <td>C++17</td>\n      <td>NaN</td>\n      <td>3년 전</td>\n    </tr>\n    <tr>\n      <th>14865357</th>\n      <td>2019-03-31 16:18:13</td>\n      <td>12492163.0</td>\n      <td>128715</td>\n      <td>17114.0</td>\n      <td>틀렸습니다</td>\n      <td>-1.0</td>\n      <td>-1.0</td>\n      <td>C++17</td>\n      <td>NaN</td>\n      <td>3년 전</td>\n    </tr>\n    <tr>\n      <th>14865358</th>\n      <td>2019-03-31 16:17:33</td>\n      <td>12492148.0</td>\n      <td>128715</td>\n      <td>17114.0</td>\n      <td>틀렸습니다</td>\n      <td>-1.0</td>\n      <td>-1.0</td>\n      <td>C++11</td>\n      <td>NaN</td>\n      <td>3년 전</td>\n    </tr>\n  </tbody>\n</table>\n<p>1767 rows × 10 columns</p>\n</div>"
     },
     "execution_count": 63,
     "metadata": {},
     "output_type": "execute_result"
    }
   ],
   "source": [
    "data[(data['code_length'].isna()) & (data['language']!='Text')]"
   ],
   "metadata": {
    "collapsed": false
   }
  },
  {
   "cell_type": "code",
   "execution_count": 64,
   "outputs": [
    {
     "data": {
      "text/plain": "                    timestamp   submit_id  user_id  problem_id result_state  \\\n0         2022-12-16 17:08:57  52731042.0    83379     14562.0      맞았습니다!!   \n1         2022-12-16 15:28:07  52726708.0   161875     14562.0      맞았습니다!!   \n2         2022-12-15 01:15:34  52680839.0   116207     14562.0      맞았습니다!!   \n3         2022-12-12 15:23:46  52595252.0   177377     14562.0      맞았습니다!!   \n4         2022-12-01 00:29:05  52271216.0    57062     14562.0      맞았습니다!!   \n...                       ...         ...      ...         ...          ...   \n22608665  2014-09-15 00:31:26    323956.0   186714     10158.0        틀렸습니다   \n22608666  2014-09-15 00:27:45    323955.0   186714     10158.0        시간 초과   \n22608667  2014-09-15 00:21:24    323950.0   186714     10158.0        시간 초과   \n22608668  2014-09-14 23:48:00    323934.0    66516     10158.0      맞았습니다!!   \n22608669  2014-08-26 21:38:52    309007.0   143046     10158.0      맞았습니다!!   \n\n           memory  running_time  language  code_length   days  \n0          2020.0           0.0     C++11        592.0   8일 전  \n1          2024.0           0.0     C++17        875.0   8일 전  \n2          2156.0           0.0     C++17        554.0   9일 전  \n3         34096.0          68.0  Python 3        420.0  12일 전  \n4          2020.0           4.0     C++17        712.0  23일 전  \n...           ...           ...       ...          ...    ...  \n22608665     -1.0          -1.0       C99        476.0   8년 전  \n22608666     -1.0          -1.0       C99        476.0   8년 전  \n22608667     -1.0          -1.0       C99        369.0   8년 전  \n22608668   1116.0           0.0     C++98        475.0   8년 전  \n22608669  11324.0           4.0         D        269.0   8년 전  \n\n[21471852 rows x 10 columns]",
      "text/html": "<div>\n<style scoped>\n    .dataframe tbody tr th:only-of-type {\n        vertical-align: middle;\n    }\n\n    .dataframe tbody tr th {\n        vertical-align: top;\n    }\n\n    .dataframe thead th {\n        text-align: right;\n    }\n</style>\n<table border=\"1\" class=\"dataframe\">\n  <thead>\n    <tr style=\"text-align: right;\">\n      <th></th>\n      <th>timestamp</th>\n      <th>submit_id</th>\n      <th>user_id</th>\n      <th>problem_id</th>\n      <th>result_state</th>\n      <th>memory</th>\n      <th>running_time</th>\n      <th>language</th>\n      <th>code_length</th>\n      <th>days</th>\n    </tr>\n  </thead>\n  <tbody>\n    <tr>\n      <th>0</th>\n      <td>2022-12-16 17:08:57</td>\n      <td>52731042.0</td>\n      <td>83379</td>\n      <td>14562.0</td>\n      <td>맞았습니다!!</td>\n      <td>2020.0</td>\n      <td>0.0</td>\n      <td>C++11</td>\n      <td>592.0</td>\n      <td>8일 전</td>\n    </tr>\n    <tr>\n      <th>1</th>\n      <td>2022-12-16 15:28:07</td>\n      <td>52726708.0</td>\n      <td>161875</td>\n      <td>14562.0</td>\n      <td>맞았습니다!!</td>\n      <td>2024.0</td>\n      <td>0.0</td>\n      <td>C++17</td>\n      <td>875.0</td>\n      <td>8일 전</td>\n    </tr>\n    <tr>\n      <th>2</th>\n      <td>2022-12-15 01:15:34</td>\n      <td>52680839.0</td>\n      <td>116207</td>\n      <td>14562.0</td>\n      <td>맞았습니다!!</td>\n      <td>2156.0</td>\n      <td>0.0</td>\n      <td>C++17</td>\n      <td>554.0</td>\n      <td>9일 전</td>\n    </tr>\n    <tr>\n      <th>3</th>\n      <td>2022-12-12 15:23:46</td>\n      <td>52595252.0</td>\n      <td>177377</td>\n      <td>14562.0</td>\n      <td>맞았습니다!!</td>\n      <td>34096.0</td>\n      <td>68.0</td>\n      <td>Python 3</td>\n      <td>420.0</td>\n      <td>12일 전</td>\n    </tr>\n    <tr>\n      <th>4</th>\n      <td>2022-12-01 00:29:05</td>\n      <td>52271216.0</td>\n      <td>57062</td>\n      <td>14562.0</td>\n      <td>맞았습니다!!</td>\n      <td>2020.0</td>\n      <td>4.0</td>\n      <td>C++17</td>\n      <td>712.0</td>\n      <td>23일 전</td>\n    </tr>\n    <tr>\n      <th>...</th>\n      <td>...</td>\n      <td>...</td>\n      <td>...</td>\n      <td>...</td>\n      <td>...</td>\n      <td>...</td>\n      <td>...</td>\n      <td>...</td>\n      <td>...</td>\n      <td>...</td>\n    </tr>\n    <tr>\n      <th>22608665</th>\n      <td>2014-09-15 00:31:26</td>\n      <td>323956.0</td>\n      <td>186714</td>\n      <td>10158.0</td>\n      <td>틀렸습니다</td>\n      <td>-1.0</td>\n      <td>-1.0</td>\n      <td>C99</td>\n      <td>476.0</td>\n      <td>8년 전</td>\n    </tr>\n    <tr>\n      <th>22608666</th>\n      <td>2014-09-15 00:27:45</td>\n      <td>323955.0</td>\n      <td>186714</td>\n      <td>10158.0</td>\n      <td>시간 초과</td>\n      <td>-1.0</td>\n      <td>-1.0</td>\n      <td>C99</td>\n      <td>476.0</td>\n      <td>8년 전</td>\n    </tr>\n    <tr>\n      <th>22608667</th>\n      <td>2014-09-15 00:21:24</td>\n      <td>323950.0</td>\n      <td>186714</td>\n      <td>10158.0</td>\n      <td>시간 초과</td>\n      <td>-1.0</td>\n      <td>-1.0</td>\n      <td>C99</td>\n      <td>369.0</td>\n      <td>8년 전</td>\n    </tr>\n    <tr>\n      <th>22608668</th>\n      <td>2014-09-14 23:48:00</td>\n      <td>323934.0</td>\n      <td>66516</td>\n      <td>10158.0</td>\n      <td>맞았습니다!!</td>\n      <td>1116.0</td>\n      <td>0.0</td>\n      <td>C++98</td>\n      <td>475.0</td>\n      <td>8년 전</td>\n    </tr>\n    <tr>\n      <th>22608669</th>\n      <td>2014-08-26 21:38:52</td>\n      <td>309007.0</td>\n      <td>143046</td>\n      <td>10158.0</td>\n      <td>맞았습니다!!</td>\n      <td>11324.0</td>\n      <td>4.0</td>\n      <td>D</td>\n      <td>269.0</td>\n      <td>8년 전</td>\n    </tr>\n  </tbody>\n</table>\n<p>21471852 rows × 10 columns</p>\n</div>"
     },
     "execution_count": 64,
     "metadata": {},
     "output_type": "execute_result"
    }
   ],
   "source": [
    "data[data['language']!='Text']"
   ],
   "metadata": {
    "collapsed": false
   }
  },
  {
   "cell_type": "code",
   "execution_count": 65,
   "outputs": [],
   "source": [
    "data['code_length']=data['code_length'].fillna(0)"
   ],
   "metadata": {
    "collapsed": false
   }
  },
  {
   "cell_type": "code",
   "execution_count": 66,
   "outputs": [
    {
     "name": "stderr",
     "output_type": "stream",
     "text": [
      "C:\\Users\\fjdks\\AppData\\Local\\Temp\\ipykernel_20352\\4245659237.py:1: FutureWarning: null_counts is deprecated. Use show_counts instead\n",
      "  data.info(null_counts=True)\n"
     ]
    },
    {
     "name": "stdout",
     "output_type": "stream",
     "text": [
      "<class 'pandas.core.frame.DataFrame'>\n",
      "Int64Index: 21477969 entries, 0 to 22608669\n",
      "Data columns (total 10 columns):\n",
      " #   Column        Non-Null Count     Dtype  \n",
      "---  ------        --------------     -----  \n",
      " 0   timestamp     21477969 non-null  object \n",
      " 1   submit_id     21477969 non-null  float64\n",
      " 2   user_id       21477969 non-null  int32  \n",
      " 3   problem_id    21477969 non-null  float64\n",
      " 4   result_state  21477969 non-null  object \n",
      " 5   memory        21477969 non-null  float64\n",
      " 6   running_time  21477969 non-null  float64\n",
      " 7   language      21477969 non-null  object \n",
      " 8   code_length   21477969 non-null  float64\n",
      " 9   days          21477969 non-null  object \n",
      "dtypes: float64(5), int32(1), object(4)\n",
      "memory usage: 1.7+ GB\n"
     ]
    }
   ],
   "source": [
    "data.info(null_counts=True)"
   ],
   "metadata": {
    "collapsed": false
   }
  },
  {
   "cell_type": "markdown",
   "source": [
    "# Language"
   ],
   "metadata": {
    "collapsed": false
   }
  },
  {
   "cell_type": "code",
   "execution_count": 67,
   "outputs": [
    {
     "data": {
      "text/plain": "array(['C++11', 'C++17', 'Python 3', 'Java 11', 'node.js', 'PyPy3',\n       'C++14', 'C++20', 'C++20 (Clang)', 'Java 8', 'Swift', 'C++98',\n       'Java 8 (OpenJDK)', 'Kotlin (JVM)', 'C2x', 'Java 15', 'C11', 'C99',\n       'C++17 (Clang)', 'Rust 2021', 'Go', 'C#', 'TypeScript', 'Lua',\n       'Golfscript', '아희', 'Rust 2018', 'Ruby', 'PHP', 'C++11 (Clang)',\n       'C# 6.0 (Mono)', 'C++14 (Clang)', 'C++98 (Clang)', 'Python 2', 'D',\n       'Scala', 'Text', 'F#', 'Rust 2015', 'C11 (Clang)', 'Go (gccgo)',\n       'C90', 'OCaml', 'PyPy2', 'Kotlin (Native)', 'F# (Mono)',\n       'C99 (Clang)', 'Assembly (32bit)', 'Cobra', 'Perl', 'Pascal',\n       'D (LDC)', 'SpiderMonkey', 'Fortran', 'Scheme', 'C2x (Clang)',\n       'Objective-C++', 'Befunge', 'Haskell', 'R', 'C# 3.0 (Mono)',\n       'Ruby 1.9', 'Clojure', 'Ruby 1.8', 'Rhino', 'SystemVerilog', '엄준식',\n       'VB.NET 4.0 (Mono)', 'VB.NET 2.0 (Mono)', 'awk',\n       'Assembly (64bit)', 'Bash', 'Whitespace', 'Brainf**k', 'INTERCAL',\n       'LOLCODE', 'Objective-C', 'Groovy', 'Tcl', 'Visual Basic',\n       'C90 (Clang)', 'Pike', 'Octave', 'bc', 'Ada', 'Prolog', 'Haxe',\n       'sed', 'Cobol', 'CoffeeScript', 'Falcon', 'Raku', 'Boo', 'Nemerle',\n       'Nimrod', 'Forth', 'Io'], dtype=object)"
     },
     "execution_count": 67,
     "metadata": {},
     "output_type": "execute_result"
    }
   ],
   "source": [
    "lans=data['language'].unique()\n",
    "lans"
   ],
   "metadata": {
    "collapsed": false
   }
  },
  {
   "cell_type": "code",
   "execution_count": 68,
   "outputs": [
    {
     "data": {
      "text/plain": "                    timestamp   submit_id  user_id  problem_id result_state  \\\n458266    2022-02-11 06:04:28  38895861.0   169545      1111.0        틀렸습니다   \n458268    2022-02-11 05:01:25  38895549.0   169545      1111.0        틀렸습니다   \n458269    2022-02-11 04:55:18  38895502.0   169545      1111.0        틀렸습니다   \n458270    2022-02-11 04:53:23  38895486.0   169545      1111.0        틀렸습니다   \n458271    2022-02-11 04:49:48  38895459.0   169545      1111.0        틀렸습니다   \n458272    2022-02-11 04:48:27  38895449.0   169545      1111.0        틀렸습니다   \n458273    2022-02-11 04:30:11  38895317.0   169545      1111.0        틀렸습니다   \n458274    2022-02-11 04:10:00  38895190.0   169545      1111.0        틀렸습니다   \n458275    2022-02-11 04:06:49  38895166.0   169545      1111.0        틀렸습니다   \n458276    2022-02-11 03:59:39  38895118.0   169545      1111.0       컴파일 에러   \n458277    2022-02-11 03:54:20  38895090.0   169545      1111.0       컴파일 에러   \n458278    2022-02-11 03:50:15  38895060.0   169545      1111.0       컴파일 에러   \n458279    2022-02-11 03:27:12  38894822.0   169545      1111.0       컴파일 에러   \n458280    2022-02-11 03:25:13  38894792.0   169545      1111.0       컴파일 에러   \n458281    2022-02-11 02:24:59  38893742.0   169545      1111.0        틀렸습니다   \n859394    2022-02-09 18:33:11  38816899.0    11874      9372.0      맞았습니다!!   \n1180649   2022-06-15 17:06:12  44575811.0   125352      1927.0       컴파일 에러   \n3091817   2022-05-31 16:57:07  44002895.0    65910      1793.0       컴파일 에러   \n3192382   2022-06-28 19:50:04  45157593.0   170791      9095.0      맞았습니다!!   \n3192383   2022-06-28 19:48:11  45157495.0   170791      9095.0        틀렸습니다   \n3196704   2022-04-08 12:27:44  41682971.0   169514      9095.0      맞았습니다!!   \n3891045   2022-06-30 15:11:55  45259252.0    74942     15649.0        틀렸습니다   \n3902066   2022-02-05 20:46:08  38613830.0   183042     15649.0       컴파일 에러   \n3902067   2022-02-05 20:45:49  38613806.0   183042     15649.0       컴파일 에러   \n3902068   2022-02-05 20:44:33  38613731.0   183042     15649.0       컴파일 에러   \n7832103   2022-04-19 11:56:31  42163673.0   169514     11726.0      맞았습니다!!   \n7959754   2022-02-06 16:19:08  38646624.0    63455     16680.0        틀렸습니다   \n7959755   2022-02-06 16:13:11  38646292.0    63455     16680.0        틀렸습니다   \n8701892   2022-04-30 18:57:59  42668448.0    54886     21757.0       컴파일 에러   \n13326202  2022-04-16 08:49:39  42037931.0    11874     15311.0      맞았습니다!!   \n13326203  2022-04-16 08:48:56  42037924.0    11874     15311.0      맞았습니다!!   \n13326204  2022-04-16 08:35:35  42037858.0    11874     15311.0        틀렸습니다   \n13326205  2022-04-16 08:34:20  42037853.0    11874     15311.0        틀렸습니다   \n13326206  2022-04-16 08:31:04  42037833.0    11874     15311.0        틀렸습니다   \n13326207  2022-04-16 08:15:26  42037788.0    11874     15311.0        틀렸습니다   \n13326208  2022-04-16 08:00:15  42037702.0    11874     15311.0        틀렸습니다   \n13326209  2022-04-16 07:54:52  42037684.0    11874     15311.0        틀렸습니다   \n13326287  2022-02-25 20:57:01  39613098.0   151089     15311.0      맞았습니다!!   \n13326288  2022-02-21 23:26:04  39419610.0    46921     15311.0      맞았습니다!!   \n13326289  2022-02-21 23:19:08  39419064.0    46921     15311.0      맞았습니다!!   \n13326291  2022-02-21 23:15:48  39418817.0    46921     15311.0        출력 초과   \n13768142  2022-05-31 16:51:48  44002646.0    65910      2133.0      맞았습니다!!   \n13768143  2022-05-31 16:38:09  44001980.0    65910      2133.0        틀렸습니다   \n13768144  2022-05-31 16:33:02  44001728.0    65910      2133.0        틀렸습니다   \n15697960  2022-02-14 00:46:37  39026408.0    97208      9663.0       런타임 에러   \n15697966  2022-02-14 00:36:18  39026045.0    97208      9663.0       런타임 에러   \n15697967  2022-02-14 00:33:51  39025956.0    97208      9663.0       런타임 에러   \n15697968  2022-02-14 00:32:27  39025900.0    97208      9663.0       런타임 에러   \n17188769  2022-06-28 19:36:59  45156889.0   170791      2839.0      맞았습니다!!   \n17202864  2022-04-08 10:32:22  41678543.0   169514      2839.0      맞았습니다!!   \n17213844  2022-02-14 16:32:59  39050534.0   169545      2839.0      맞았습니다!!   \n17214645  2022-02-10 15:15:01  38857622.0    46921      2839.0      맞았습니다!!   \n17720532  2022-05-31 17:08:00  44003421.0    65910      9461.0       컴파일 에러   \n18864468  2022-06-30 15:10:04  45259142.0   170791      2023.0       메모리 초과   \n18864469  2022-06-30 15:08:40  45259053.0   170791      2023.0       메모리 초과   \n20629997  2022-02-12 21:19:46  38971845.0    46921     12095.0      348693점   \n20629999  2022-02-12 21:02:58  38971109.0    46921     12095.0         392점   \n20630000  2022-02-12 15:54:51  38957325.0   169545     12095.0      214992점   \n\n          memory  running_time language  code_length   days  \n458266      -1.0          -1.0      엄준식      13039.0  10달 전  \n458268      -1.0          -1.0      엄준식      12940.0  10달 전  \n458269      -1.0          -1.0      엄준식      12941.0  10달 전  \n458270      -1.0          -1.0      엄준식      12939.0  10달 전  \n458271      -1.0          -1.0      엄준식      12940.0  10달 전  \n458272      -1.0          -1.0      엄준식      12940.0  10달 전  \n458273      -1.0          -1.0      엄준식      13359.0  10달 전  \n458274      -1.0          -1.0      엄준식      12837.0  10달 전  \n458275      -1.0          -1.0      엄준식      12876.0  10달 전  \n458276      -1.0          -1.0      엄준식      12605.0  10달 전  \n458277      -1.0          -1.0      엄준식      15732.0  10달 전  \n458278      -1.0          -1.0      엄준식      17108.0  10달 전  \n458279      -1.0          -1.0      엄준식       8214.0  10달 전  \n458280      -1.0          -1.0      엄준식       8214.0  10달 전  \n458281      -1.0          -1.0      엄준식       4906.0  10달 전  \n859394    4608.0          36.0      엄준식        231.0  10달 전  \n1180649     -1.0          -1.0      엄준식        368.0   6달 전  \n3091817     -1.0          -1.0      엄준식     332256.0   6달 전  \n3192382   4608.0           0.0      엄준식        675.0   5달 전  \n3192383     -1.0          -1.0      엄준식        674.0   5달 전  \n3196704   4608.0           0.0      엄준식        770.0   8달 전  \n3891045     -1.0          -1.0      엄준식      11572.0   5달 전  \n3902066     -1.0          -1.0      엄준식          9.0  10달 전  \n3902067     -1.0          -1.0      엄준식          9.0  10달 전  \n3902068     -1.0          -1.0      엄준식         10.0  10달 전  \n7832103   4608.0          24.0      엄준식        746.0   8달 전  \n7959754     -1.0          -1.0      엄준식        226.0  10달 전  \n7959755     -1.0          -1.0      엄준식        188.0  10달 전  \n8701892     -1.0          -1.0      엄준식          9.0   7달 전  \n13326202  4608.0           0.0      엄준식        320.0   8달 전  \n13326203  4608.0           0.0      엄준식        307.0   8달 전  \n13326204    -1.0          -1.0      엄준식        308.0   8달 전  \n13326205    -1.0          -1.0      엄준식        299.0   8달 전  \n13326206    -1.0          -1.0      엄준식        315.0   8달 전  \n13326207    -1.0          -1.0      엄준식        315.0   8달 전  \n13326208    -1.0          -1.0      엄준식        316.0   8달 전  \n13326209    -1.0          -1.0      엄준식        263.0   8달 전  \n13326287  4608.0           0.0      엄준식        306.0   9달 전  \n13326288  4724.0           0.0      엄준식      65074.0  10달 전  \n13326289  4676.0           0.0      엄준식     355274.0  10달 전  \n13326291    -1.0          -1.0      엄준식        310.0  10달 전  \n13768142  4620.0           0.0      엄준식       4761.0   6달 전  \n13768143    -1.0          -1.0      엄준식       4620.0   6달 전  \n13768144    -1.0          -1.0      엄준식       5702.0   6달 전  \n15697960    -1.0          -1.0      엄준식       2296.0  10달 전  \n15697966    -1.0          -1.0      엄준식       2278.0  10달 전  \n15697967    -1.0          -1.0      엄준식       2278.0  10달 전  \n15697968    -1.0          -1.0      엄준식       2278.0  10달 전  \n17188769  4608.0           0.0      엄준식        583.0   5달 전  \n17202864  4608.0           0.0      엄준식       1084.0   8달 전  \n17213844  4608.0           0.0      엄준식       1068.0  10달 전  \n17214645  4628.0           0.0      엄준식      15914.0  10달 전  \n17720532    -1.0          -1.0      엄준식      47941.0   6달 전  \n18864468    -1.0          -1.0      엄준식      11572.0   5달 전  \n18864469    -1.0          -1.0      엄준식      11562.0   5달 전  \n20629997  4608.0           0.0      엄준식       7473.0  10달 전  \n20629999  4608.0           0.0      엄준식       7357.0  10달 전  \n20630000  4608.0           0.0      엄준식       7542.0  10달 전  ",
      "text/html": "<div>\n<style scoped>\n    .dataframe tbody tr th:only-of-type {\n        vertical-align: middle;\n    }\n\n    .dataframe tbody tr th {\n        vertical-align: top;\n    }\n\n    .dataframe thead th {\n        text-align: right;\n    }\n</style>\n<table border=\"1\" class=\"dataframe\">\n  <thead>\n    <tr style=\"text-align: right;\">\n      <th></th>\n      <th>timestamp</th>\n      <th>submit_id</th>\n      <th>user_id</th>\n      <th>problem_id</th>\n      <th>result_state</th>\n      <th>memory</th>\n      <th>running_time</th>\n      <th>language</th>\n      <th>code_length</th>\n      <th>days</th>\n    </tr>\n  </thead>\n  <tbody>\n    <tr>\n      <th>458266</th>\n      <td>2022-02-11 06:04:28</td>\n      <td>38895861.0</td>\n      <td>169545</td>\n      <td>1111.0</td>\n      <td>틀렸습니다</td>\n      <td>-1.0</td>\n      <td>-1.0</td>\n      <td>엄준식</td>\n      <td>13039.0</td>\n      <td>10달 전</td>\n    </tr>\n    <tr>\n      <th>458268</th>\n      <td>2022-02-11 05:01:25</td>\n      <td>38895549.0</td>\n      <td>169545</td>\n      <td>1111.0</td>\n      <td>틀렸습니다</td>\n      <td>-1.0</td>\n      <td>-1.0</td>\n      <td>엄준식</td>\n      <td>12940.0</td>\n      <td>10달 전</td>\n    </tr>\n    <tr>\n      <th>458269</th>\n      <td>2022-02-11 04:55:18</td>\n      <td>38895502.0</td>\n      <td>169545</td>\n      <td>1111.0</td>\n      <td>틀렸습니다</td>\n      <td>-1.0</td>\n      <td>-1.0</td>\n      <td>엄준식</td>\n      <td>12941.0</td>\n      <td>10달 전</td>\n    </tr>\n    <tr>\n      <th>458270</th>\n      <td>2022-02-11 04:53:23</td>\n      <td>38895486.0</td>\n      <td>169545</td>\n      <td>1111.0</td>\n      <td>틀렸습니다</td>\n      <td>-1.0</td>\n      <td>-1.0</td>\n      <td>엄준식</td>\n      <td>12939.0</td>\n      <td>10달 전</td>\n    </tr>\n    <tr>\n      <th>458271</th>\n      <td>2022-02-11 04:49:48</td>\n      <td>38895459.0</td>\n      <td>169545</td>\n      <td>1111.0</td>\n      <td>틀렸습니다</td>\n      <td>-1.0</td>\n      <td>-1.0</td>\n      <td>엄준식</td>\n      <td>12940.0</td>\n      <td>10달 전</td>\n    </tr>\n    <tr>\n      <th>458272</th>\n      <td>2022-02-11 04:48:27</td>\n      <td>38895449.0</td>\n      <td>169545</td>\n      <td>1111.0</td>\n      <td>틀렸습니다</td>\n      <td>-1.0</td>\n      <td>-1.0</td>\n      <td>엄준식</td>\n      <td>12940.0</td>\n      <td>10달 전</td>\n    </tr>\n    <tr>\n      <th>458273</th>\n      <td>2022-02-11 04:30:11</td>\n      <td>38895317.0</td>\n      <td>169545</td>\n      <td>1111.0</td>\n      <td>틀렸습니다</td>\n      <td>-1.0</td>\n      <td>-1.0</td>\n      <td>엄준식</td>\n      <td>13359.0</td>\n      <td>10달 전</td>\n    </tr>\n    <tr>\n      <th>458274</th>\n      <td>2022-02-11 04:10:00</td>\n      <td>38895190.0</td>\n      <td>169545</td>\n      <td>1111.0</td>\n      <td>틀렸습니다</td>\n      <td>-1.0</td>\n      <td>-1.0</td>\n      <td>엄준식</td>\n      <td>12837.0</td>\n      <td>10달 전</td>\n    </tr>\n    <tr>\n      <th>458275</th>\n      <td>2022-02-11 04:06:49</td>\n      <td>38895166.0</td>\n      <td>169545</td>\n      <td>1111.0</td>\n      <td>틀렸습니다</td>\n      <td>-1.0</td>\n      <td>-1.0</td>\n      <td>엄준식</td>\n      <td>12876.0</td>\n      <td>10달 전</td>\n    </tr>\n    <tr>\n      <th>458276</th>\n      <td>2022-02-11 03:59:39</td>\n      <td>38895118.0</td>\n      <td>169545</td>\n      <td>1111.0</td>\n      <td>컴파일 에러</td>\n      <td>-1.0</td>\n      <td>-1.0</td>\n      <td>엄준식</td>\n      <td>12605.0</td>\n      <td>10달 전</td>\n    </tr>\n    <tr>\n      <th>458277</th>\n      <td>2022-02-11 03:54:20</td>\n      <td>38895090.0</td>\n      <td>169545</td>\n      <td>1111.0</td>\n      <td>컴파일 에러</td>\n      <td>-1.0</td>\n      <td>-1.0</td>\n      <td>엄준식</td>\n      <td>15732.0</td>\n      <td>10달 전</td>\n    </tr>\n    <tr>\n      <th>458278</th>\n      <td>2022-02-11 03:50:15</td>\n      <td>38895060.0</td>\n      <td>169545</td>\n      <td>1111.0</td>\n      <td>컴파일 에러</td>\n      <td>-1.0</td>\n      <td>-1.0</td>\n      <td>엄준식</td>\n      <td>17108.0</td>\n      <td>10달 전</td>\n    </tr>\n    <tr>\n      <th>458279</th>\n      <td>2022-02-11 03:27:12</td>\n      <td>38894822.0</td>\n      <td>169545</td>\n      <td>1111.0</td>\n      <td>컴파일 에러</td>\n      <td>-1.0</td>\n      <td>-1.0</td>\n      <td>엄준식</td>\n      <td>8214.0</td>\n      <td>10달 전</td>\n    </tr>\n    <tr>\n      <th>458280</th>\n      <td>2022-02-11 03:25:13</td>\n      <td>38894792.0</td>\n      <td>169545</td>\n      <td>1111.0</td>\n      <td>컴파일 에러</td>\n      <td>-1.0</td>\n      <td>-1.0</td>\n      <td>엄준식</td>\n      <td>8214.0</td>\n      <td>10달 전</td>\n    </tr>\n    <tr>\n      <th>458281</th>\n      <td>2022-02-11 02:24:59</td>\n      <td>38893742.0</td>\n      <td>169545</td>\n      <td>1111.0</td>\n      <td>틀렸습니다</td>\n      <td>-1.0</td>\n      <td>-1.0</td>\n      <td>엄준식</td>\n      <td>4906.0</td>\n      <td>10달 전</td>\n    </tr>\n    <tr>\n      <th>859394</th>\n      <td>2022-02-09 18:33:11</td>\n      <td>38816899.0</td>\n      <td>11874</td>\n      <td>9372.0</td>\n      <td>맞았습니다!!</td>\n      <td>4608.0</td>\n      <td>36.0</td>\n      <td>엄준식</td>\n      <td>231.0</td>\n      <td>10달 전</td>\n    </tr>\n    <tr>\n      <th>1180649</th>\n      <td>2022-06-15 17:06:12</td>\n      <td>44575811.0</td>\n      <td>125352</td>\n      <td>1927.0</td>\n      <td>컴파일 에러</td>\n      <td>-1.0</td>\n      <td>-1.0</td>\n      <td>엄준식</td>\n      <td>368.0</td>\n      <td>6달 전</td>\n    </tr>\n    <tr>\n      <th>3091817</th>\n      <td>2022-05-31 16:57:07</td>\n      <td>44002895.0</td>\n      <td>65910</td>\n      <td>1793.0</td>\n      <td>컴파일 에러</td>\n      <td>-1.0</td>\n      <td>-1.0</td>\n      <td>엄준식</td>\n      <td>332256.0</td>\n      <td>6달 전</td>\n    </tr>\n    <tr>\n      <th>3192382</th>\n      <td>2022-06-28 19:50:04</td>\n      <td>45157593.0</td>\n      <td>170791</td>\n      <td>9095.0</td>\n      <td>맞았습니다!!</td>\n      <td>4608.0</td>\n      <td>0.0</td>\n      <td>엄준식</td>\n      <td>675.0</td>\n      <td>5달 전</td>\n    </tr>\n    <tr>\n      <th>3192383</th>\n      <td>2022-06-28 19:48:11</td>\n      <td>45157495.0</td>\n      <td>170791</td>\n      <td>9095.0</td>\n      <td>틀렸습니다</td>\n      <td>-1.0</td>\n      <td>-1.0</td>\n      <td>엄준식</td>\n      <td>674.0</td>\n      <td>5달 전</td>\n    </tr>\n    <tr>\n      <th>3196704</th>\n      <td>2022-04-08 12:27:44</td>\n      <td>41682971.0</td>\n      <td>169514</td>\n      <td>9095.0</td>\n      <td>맞았습니다!!</td>\n      <td>4608.0</td>\n      <td>0.0</td>\n      <td>엄준식</td>\n      <td>770.0</td>\n      <td>8달 전</td>\n    </tr>\n    <tr>\n      <th>3891045</th>\n      <td>2022-06-30 15:11:55</td>\n      <td>45259252.0</td>\n      <td>74942</td>\n      <td>15649.0</td>\n      <td>틀렸습니다</td>\n      <td>-1.0</td>\n      <td>-1.0</td>\n      <td>엄준식</td>\n      <td>11572.0</td>\n      <td>5달 전</td>\n    </tr>\n    <tr>\n      <th>3902066</th>\n      <td>2022-02-05 20:46:08</td>\n      <td>38613830.0</td>\n      <td>183042</td>\n      <td>15649.0</td>\n      <td>컴파일 에러</td>\n      <td>-1.0</td>\n      <td>-1.0</td>\n      <td>엄준식</td>\n      <td>9.0</td>\n      <td>10달 전</td>\n    </tr>\n    <tr>\n      <th>3902067</th>\n      <td>2022-02-05 20:45:49</td>\n      <td>38613806.0</td>\n      <td>183042</td>\n      <td>15649.0</td>\n      <td>컴파일 에러</td>\n      <td>-1.0</td>\n      <td>-1.0</td>\n      <td>엄준식</td>\n      <td>9.0</td>\n      <td>10달 전</td>\n    </tr>\n    <tr>\n      <th>3902068</th>\n      <td>2022-02-05 20:44:33</td>\n      <td>38613731.0</td>\n      <td>183042</td>\n      <td>15649.0</td>\n      <td>컴파일 에러</td>\n      <td>-1.0</td>\n      <td>-1.0</td>\n      <td>엄준식</td>\n      <td>10.0</td>\n      <td>10달 전</td>\n    </tr>\n    <tr>\n      <th>7832103</th>\n      <td>2022-04-19 11:56:31</td>\n      <td>42163673.0</td>\n      <td>169514</td>\n      <td>11726.0</td>\n      <td>맞았습니다!!</td>\n      <td>4608.0</td>\n      <td>24.0</td>\n      <td>엄준식</td>\n      <td>746.0</td>\n      <td>8달 전</td>\n    </tr>\n    <tr>\n      <th>7959754</th>\n      <td>2022-02-06 16:19:08</td>\n      <td>38646624.0</td>\n      <td>63455</td>\n      <td>16680.0</td>\n      <td>틀렸습니다</td>\n      <td>-1.0</td>\n      <td>-1.0</td>\n      <td>엄준식</td>\n      <td>226.0</td>\n      <td>10달 전</td>\n    </tr>\n    <tr>\n      <th>7959755</th>\n      <td>2022-02-06 16:13:11</td>\n      <td>38646292.0</td>\n      <td>63455</td>\n      <td>16680.0</td>\n      <td>틀렸습니다</td>\n      <td>-1.0</td>\n      <td>-1.0</td>\n      <td>엄준식</td>\n      <td>188.0</td>\n      <td>10달 전</td>\n    </tr>\n    <tr>\n      <th>8701892</th>\n      <td>2022-04-30 18:57:59</td>\n      <td>42668448.0</td>\n      <td>54886</td>\n      <td>21757.0</td>\n      <td>컴파일 에러</td>\n      <td>-1.0</td>\n      <td>-1.0</td>\n      <td>엄준식</td>\n      <td>9.0</td>\n      <td>7달 전</td>\n    </tr>\n    <tr>\n      <th>13326202</th>\n      <td>2022-04-16 08:49:39</td>\n      <td>42037931.0</td>\n      <td>11874</td>\n      <td>15311.0</td>\n      <td>맞았습니다!!</td>\n      <td>4608.0</td>\n      <td>0.0</td>\n      <td>엄준식</td>\n      <td>320.0</td>\n      <td>8달 전</td>\n    </tr>\n    <tr>\n      <th>13326203</th>\n      <td>2022-04-16 08:48:56</td>\n      <td>42037924.0</td>\n      <td>11874</td>\n      <td>15311.0</td>\n      <td>맞았습니다!!</td>\n      <td>4608.0</td>\n      <td>0.0</td>\n      <td>엄준식</td>\n      <td>307.0</td>\n      <td>8달 전</td>\n    </tr>\n    <tr>\n      <th>13326204</th>\n      <td>2022-04-16 08:35:35</td>\n      <td>42037858.0</td>\n      <td>11874</td>\n      <td>15311.0</td>\n      <td>틀렸습니다</td>\n      <td>-1.0</td>\n      <td>-1.0</td>\n      <td>엄준식</td>\n      <td>308.0</td>\n      <td>8달 전</td>\n    </tr>\n    <tr>\n      <th>13326205</th>\n      <td>2022-04-16 08:34:20</td>\n      <td>42037853.0</td>\n      <td>11874</td>\n      <td>15311.0</td>\n      <td>틀렸습니다</td>\n      <td>-1.0</td>\n      <td>-1.0</td>\n      <td>엄준식</td>\n      <td>299.0</td>\n      <td>8달 전</td>\n    </tr>\n    <tr>\n      <th>13326206</th>\n      <td>2022-04-16 08:31:04</td>\n      <td>42037833.0</td>\n      <td>11874</td>\n      <td>15311.0</td>\n      <td>틀렸습니다</td>\n      <td>-1.0</td>\n      <td>-1.0</td>\n      <td>엄준식</td>\n      <td>315.0</td>\n      <td>8달 전</td>\n    </tr>\n    <tr>\n      <th>13326207</th>\n      <td>2022-04-16 08:15:26</td>\n      <td>42037788.0</td>\n      <td>11874</td>\n      <td>15311.0</td>\n      <td>틀렸습니다</td>\n      <td>-1.0</td>\n      <td>-1.0</td>\n      <td>엄준식</td>\n      <td>315.0</td>\n      <td>8달 전</td>\n    </tr>\n    <tr>\n      <th>13326208</th>\n      <td>2022-04-16 08:00:15</td>\n      <td>42037702.0</td>\n      <td>11874</td>\n      <td>15311.0</td>\n      <td>틀렸습니다</td>\n      <td>-1.0</td>\n      <td>-1.0</td>\n      <td>엄준식</td>\n      <td>316.0</td>\n      <td>8달 전</td>\n    </tr>\n    <tr>\n      <th>13326209</th>\n      <td>2022-04-16 07:54:52</td>\n      <td>42037684.0</td>\n      <td>11874</td>\n      <td>15311.0</td>\n      <td>틀렸습니다</td>\n      <td>-1.0</td>\n      <td>-1.0</td>\n      <td>엄준식</td>\n      <td>263.0</td>\n      <td>8달 전</td>\n    </tr>\n    <tr>\n      <th>13326287</th>\n      <td>2022-02-25 20:57:01</td>\n      <td>39613098.0</td>\n      <td>151089</td>\n      <td>15311.0</td>\n      <td>맞았습니다!!</td>\n      <td>4608.0</td>\n      <td>0.0</td>\n      <td>엄준식</td>\n      <td>306.0</td>\n      <td>9달 전</td>\n    </tr>\n    <tr>\n      <th>13326288</th>\n      <td>2022-02-21 23:26:04</td>\n      <td>39419610.0</td>\n      <td>46921</td>\n      <td>15311.0</td>\n      <td>맞았습니다!!</td>\n      <td>4724.0</td>\n      <td>0.0</td>\n      <td>엄준식</td>\n      <td>65074.0</td>\n      <td>10달 전</td>\n    </tr>\n    <tr>\n      <th>13326289</th>\n      <td>2022-02-21 23:19:08</td>\n      <td>39419064.0</td>\n      <td>46921</td>\n      <td>15311.0</td>\n      <td>맞았습니다!!</td>\n      <td>4676.0</td>\n      <td>0.0</td>\n      <td>엄준식</td>\n      <td>355274.0</td>\n      <td>10달 전</td>\n    </tr>\n    <tr>\n      <th>13326291</th>\n      <td>2022-02-21 23:15:48</td>\n      <td>39418817.0</td>\n      <td>46921</td>\n      <td>15311.0</td>\n      <td>출력 초과</td>\n      <td>-1.0</td>\n      <td>-1.0</td>\n      <td>엄준식</td>\n      <td>310.0</td>\n      <td>10달 전</td>\n    </tr>\n    <tr>\n      <th>13768142</th>\n      <td>2022-05-31 16:51:48</td>\n      <td>44002646.0</td>\n      <td>65910</td>\n      <td>2133.0</td>\n      <td>맞았습니다!!</td>\n      <td>4620.0</td>\n      <td>0.0</td>\n      <td>엄준식</td>\n      <td>4761.0</td>\n      <td>6달 전</td>\n    </tr>\n    <tr>\n      <th>13768143</th>\n      <td>2022-05-31 16:38:09</td>\n      <td>44001980.0</td>\n      <td>65910</td>\n      <td>2133.0</td>\n      <td>틀렸습니다</td>\n      <td>-1.0</td>\n      <td>-1.0</td>\n      <td>엄준식</td>\n      <td>4620.0</td>\n      <td>6달 전</td>\n    </tr>\n    <tr>\n      <th>13768144</th>\n      <td>2022-05-31 16:33:02</td>\n      <td>44001728.0</td>\n      <td>65910</td>\n      <td>2133.0</td>\n      <td>틀렸습니다</td>\n      <td>-1.0</td>\n      <td>-1.0</td>\n      <td>엄준식</td>\n      <td>5702.0</td>\n      <td>6달 전</td>\n    </tr>\n    <tr>\n      <th>15697960</th>\n      <td>2022-02-14 00:46:37</td>\n      <td>39026408.0</td>\n      <td>97208</td>\n      <td>9663.0</td>\n      <td>런타임 에러</td>\n      <td>-1.0</td>\n      <td>-1.0</td>\n      <td>엄준식</td>\n      <td>2296.0</td>\n      <td>10달 전</td>\n    </tr>\n    <tr>\n      <th>15697966</th>\n      <td>2022-02-14 00:36:18</td>\n      <td>39026045.0</td>\n      <td>97208</td>\n      <td>9663.0</td>\n      <td>런타임 에러</td>\n      <td>-1.0</td>\n      <td>-1.0</td>\n      <td>엄준식</td>\n      <td>2278.0</td>\n      <td>10달 전</td>\n    </tr>\n    <tr>\n      <th>15697967</th>\n      <td>2022-02-14 00:33:51</td>\n      <td>39025956.0</td>\n      <td>97208</td>\n      <td>9663.0</td>\n      <td>런타임 에러</td>\n      <td>-1.0</td>\n      <td>-1.0</td>\n      <td>엄준식</td>\n      <td>2278.0</td>\n      <td>10달 전</td>\n    </tr>\n    <tr>\n      <th>15697968</th>\n      <td>2022-02-14 00:32:27</td>\n      <td>39025900.0</td>\n      <td>97208</td>\n      <td>9663.0</td>\n      <td>런타임 에러</td>\n      <td>-1.0</td>\n      <td>-1.0</td>\n      <td>엄준식</td>\n      <td>2278.0</td>\n      <td>10달 전</td>\n    </tr>\n    <tr>\n      <th>17188769</th>\n      <td>2022-06-28 19:36:59</td>\n      <td>45156889.0</td>\n      <td>170791</td>\n      <td>2839.0</td>\n      <td>맞았습니다!!</td>\n      <td>4608.0</td>\n      <td>0.0</td>\n      <td>엄준식</td>\n      <td>583.0</td>\n      <td>5달 전</td>\n    </tr>\n    <tr>\n      <th>17202864</th>\n      <td>2022-04-08 10:32:22</td>\n      <td>41678543.0</td>\n      <td>169514</td>\n      <td>2839.0</td>\n      <td>맞았습니다!!</td>\n      <td>4608.0</td>\n      <td>0.0</td>\n      <td>엄준식</td>\n      <td>1084.0</td>\n      <td>8달 전</td>\n    </tr>\n    <tr>\n      <th>17213844</th>\n      <td>2022-02-14 16:32:59</td>\n      <td>39050534.0</td>\n      <td>169545</td>\n      <td>2839.0</td>\n      <td>맞았습니다!!</td>\n      <td>4608.0</td>\n      <td>0.0</td>\n      <td>엄준식</td>\n      <td>1068.0</td>\n      <td>10달 전</td>\n    </tr>\n    <tr>\n      <th>17214645</th>\n      <td>2022-02-10 15:15:01</td>\n      <td>38857622.0</td>\n      <td>46921</td>\n      <td>2839.0</td>\n      <td>맞았습니다!!</td>\n      <td>4628.0</td>\n      <td>0.0</td>\n      <td>엄준식</td>\n      <td>15914.0</td>\n      <td>10달 전</td>\n    </tr>\n    <tr>\n      <th>17720532</th>\n      <td>2022-05-31 17:08:00</td>\n      <td>44003421.0</td>\n      <td>65910</td>\n      <td>9461.0</td>\n      <td>컴파일 에러</td>\n      <td>-1.0</td>\n      <td>-1.0</td>\n      <td>엄준식</td>\n      <td>47941.0</td>\n      <td>6달 전</td>\n    </tr>\n    <tr>\n      <th>18864468</th>\n      <td>2022-06-30 15:10:04</td>\n      <td>45259142.0</td>\n      <td>170791</td>\n      <td>2023.0</td>\n      <td>메모리 초과</td>\n      <td>-1.0</td>\n      <td>-1.0</td>\n      <td>엄준식</td>\n      <td>11572.0</td>\n      <td>5달 전</td>\n    </tr>\n    <tr>\n      <th>18864469</th>\n      <td>2022-06-30 15:08:40</td>\n      <td>45259053.0</td>\n      <td>170791</td>\n      <td>2023.0</td>\n      <td>메모리 초과</td>\n      <td>-1.0</td>\n      <td>-1.0</td>\n      <td>엄준식</td>\n      <td>11562.0</td>\n      <td>5달 전</td>\n    </tr>\n    <tr>\n      <th>20629997</th>\n      <td>2022-02-12 21:19:46</td>\n      <td>38971845.0</td>\n      <td>46921</td>\n      <td>12095.0</td>\n      <td>348693점</td>\n      <td>4608.0</td>\n      <td>0.0</td>\n      <td>엄준식</td>\n      <td>7473.0</td>\n      <td>10달 전</td>\n    </tr>\n    <tr>\n      <th>20629999</th>\n      <td>2022-02-12 21:02:58</td>\n      <td>38971109.0</td>\n      <td>46921</td>\n      <td>12095.0</td>\n      <td>392점</td>\n      <td>4608.0</td>\n      <td>0.0</td>\n      <td>엄준식</td>\n      <td>7357.0</td>\n      <td>10달 전</td>\n    </tr>\n    <tr>\n      <th>20630000</th>\n      <td>2022-02-12 15:54:51</td>\n      <td>38957325.0</td>\n      <td>169545</td>\n      <td>12095.0</td>\n      <td>214992점</td>\n      <td>4608.0</td>\n      <td>0.0</td>\n      <td>엄준식</td>\n      <td>7542.0</td>\n      <td>10달 전</td>\n    </tr>\n  </tbody>\n</table>\n</div>"
     },
     "execution_count": 68,
     "metadata": {},
     "output_type": "execute_result"
    }
   ],
   "source": [
    "data[data['language']=='엄준식']"
   ],
   "metadata": {
    "collapsed": false
   }
  },
  {
   "cell_type": "code",
   "execution_count": 69,
   "outputs": [
    {
     "data": {
      "text/plain": "C++17           4419950\nC++14           4260242\nPython 3        4102681\nJava 8          2220866\nJava 11         1646710\n                 ...   \nCoffeeScript          1\nFalcon                1\nNemerle               1\nNimrod                1\nForth                 1\nName: language, Length: 97, dtype: int64"
     },
     "execution_count": 69,
     "metadata": {},
     "output_type": "execute_result"
    }
   ],
   "source": [
    "data['language'].value_counts()"
   ],
   "metadata": {
    "collapsed": false
   }
  },
  {
   "cell_type": "code",
   "execution_count": 70,
   "outputs": [
    {
     "data": {
      "text/plain": "             timestamp   submit_id  user_id  problem_id result_state   memory  \\\n0  2022-12-16 17:08:57  52731042.0    83379     14562.0      맞았습니다!!   2020.0   \n1  2022-12-16 15:28:07  52726708.0   161875     14562.0      맞았습니다!!   2024.0   \n2  2022-12-15 01:15:34  52680839.0   116207     14562.0      맞았습니다!!   2156.0   \n3  2022-12-12 15:23:46  52595252.0   177377     14562.0      맞았습니다!!  34096.0   \n4  2022-12-01 00:29:05  52271216.0    57062     14562.0      맞았습니다!!   2020.0   \n\n   running_time  language  code_length   days  \n0           0.0        10        592.0   8일 전  \n1           0.0        14        875.0   8일 전  \n2           0.0        14        554.0   9일 전  \n3          68.0        69        420.0  12일 전  \n4           4.0        14        712.0  23일 전  ",
      "text/html": "<div>\n<style scoped>\n    .dataframe tbody tr th:only-of-type {\n        vertical-align: middle;\n    }\n\n    .dataframe tbody tr th {\n        vertical-align: top;\n    }\n\n    .dataframe thead th {\n        text-align: right;\n    }\n</style>\n<table border=\"1\" class=\"dataframe\">\n  <thead>\n    <tr style=\"text-align: right;\">\n      <th></th>\n      <th>timestamp</th>\n      <th>submit_id</th>\n      <th>user_id</th>\n      <th>problem_id</th>\n      <th>result_state</th>\n      <th>memory</th>\n      <th>running_time</th>\n      <th>language</th>\n      <th>code_length</th>\n      <th>days</th>\n    </tr>\n  </thead>\n  <tbody>\n    <tr>\n      <th>0</th>\n      <td>2022-12-16 17:08:57</td>\n      <td>52731042.0</td>\n      <td>83379</td>\n      <td>14562.0</td>\n      <td>맞았습니다!!</td>\n      <td>2020.0</td>\n      <td>0.0</td>\n      <td>10</td>\n      <td>592.0</td>\n      <td>8일 전</td>\n    </tr>\n    <tr>\n      <th>1</th>\n      <td>2022-12-16 15:28:07</td>\n      <td>52726708.0</td>\n      <td>161875</td>\n      <td>14562.0</td>\n      <td>맞았습니다!!</td>\n      <td>2024.0</td>\n      <td>0.0</td>\n      <td>14</td>\n      <td>875.0</td>\n      <td>8일 전</td>\n    </tr>\n    <tr>\n      <th>2</th>\n      <td>2022-12-15 01:15:34</td>\n      <td>52680839.0</td>\n      <td>116207</td>\n      <td>14562.0</td>\n      <td>맞았습니다!!</td>\n      <td>2156.0</td>\n      <td>0.0</td>\n      <td>14</td>\n      <td>554.0</td>\n      <td>9일 전</td>\n    </tr>\n    <tr>\n      <th>3</th>\n      <td>2022-12-12 15:23:46</td>\n      <td>52595252.0</td>\n      <td>177377</td>\n      <td>14562.0</td>\n      <td>맞았습니다!!</td>\n      <td>34096.0</td>\n      <td>68.0</td>\n      <td>69</td>\n      <td>420.0</td>\n      <td>12일 전</td>\n    </tr>\n    <tr>\n      <th>4</th>\n      <td>2022-12-01 00:29:05</td>\n      <td>52271216.0</td>\n      <td>57062</td>\n      <td>14562.0</td>\n      <td>맞았습니다!!</td>\n      <td>2020.0</td>\n      <td>4.0</td>\n      <td>14</td>\n      <td>712.0</td>\n      <td>23일 전</td>\n    </tr>\n  </tbody>\n</table>\n</div>"
     },
     "execution_count": 70,
     "metadata": {},
     "output_type": "execute_result"
    }
   ],
   "source": [
    "labelEncoder=LabelEncoder()\n",
    "labelEncoder.fit(data['language'])\n",
    "data['language'] = labelEncoder.transform(data['language'])\n",
    "data.head()"
   ],
   "metadata": {
    "collapsed": false
   }
  },
  {
   "cell_type": "markdown",
   "source": [
    "# 형변환"
   ],
   "metadata": {
    "collapsed": false
   }
  },
  {
   "cell_type": "code",
   "execution_count": 71,
   "outputs": [],
   "source": [
    "data['submit_id'] = data['submit_id'].astype('int')\n",
    "data['problem_id'] = data['problem_id'].astype('int')\n",
    "data['memory'] = data['memory'].astype('int')\n",
    "data['running_time'] = data['running_time'].astype('int')\n",
    "data['code_length'] = data['code_length'].astype('int')"
   ],
   "metadata": {
    "collapsed": false
   }
  },
  {
   "cell_type": "markdown",
   "source": [
    "# result_state"
   ],
   "metadata": {
    "collapsed": false
   }
  },
  {
   "cell_type": "code",
   "execution_count": 25,
   "outputs": [
    {
     "data": {
      "text/plain": "array(['맞았습니다!!', '메모리 초과', '런타임 에러\\xa0(FileNotFoundError)', ...,\n       '2147483647점', '580245801점', '123456789점'], dtype=object)"
     },
     "execution_count": 25,
     "metadata": {},
     "output_type": "execute_result"
    }
   ],
   "source": [
    "data['result_state'].unique()"
   ],
   "metadata": {
    "collapsed": false
   }
  },
  {
   "cell_type": "code",
   "execution_count": 73,
   "outputs": [
    {
     "data": {
      "text/plain": "                    timestamp  submit_id  user_id  problem_id  \\\n1376198   2022-12-22 20:50:05   52956836   144121       20168   \n1376201   2022-12-22 20:45:31   52956679   144121       20168   \n1376202   2022-12-22 20:45:11   52956666   144121       20168   \n1376203   2022-12-22 20:44:46   52956653   144121       20168   \n1376205   2022-12-22 20:42:19   52956530   144121       20168   \n...                       ...        ...      ...         ...   \n20426067  2020-11-17 19:46:56   23907785   153814       20164   \n20426068  2020-11-17 19:41:43   23907684   151094       20164   \n20426069  2020-11-17 19:36:50   23907582    40985       20164   \n20426070  2020-11-17 19:34:48   23907548    46998       20164   \n20426071  2020-11-17 19:34:20   23907536   143887       20164   \n\n               result_state  memory  running_time  language  code_length  days  \n1376198     맞았습니다!! (13/18)    2456             0        18         1105  2일 전  \n1376201     맞았습니다!! (17/18)    2024             0        18         1138  2일 전  \n1376202     맞았습니다!! (17/18)    2024             0        18         1138  2일 전  \n1376203     맞았습니다!! (17/18)    2024             0        18         1138  2일 전  \n1376205     맞았습니다!! (17/18)    2024             0        18         1138  2일 전  \n...                     ...     ...           ...       ...          ...   ...  \n20426067  맞았습니다!! (102/102)   79352             0        10         1782  2년 전  \n20426068  맞았습니다!! (102/102)    2156             0        14         1179  2년 전  \n20426069  맞았습니다!! (102/102)    2016             0        14         1580  2년 전  \n20426070  맞았습니다!! (102/102)    2024             0        12         1580  2년 전  \n20426071  맞았습니다!! (102/102)    2024             0        14         1406  2년 전  \n\n[11009 rows x 10 columns]",
      "text/html": "<div>\n<style scoped>\n    .dataframe tbody tr th:only-of-type {\n        vertical-align: middle;\n    }\n\n    .dataframe tbody tr th {\n        vertical-align: top;\n    }\n\n    .dataframe thead th {\n        text-align: right;\n    }\n</style>\n<table border=\"1\" class=\"dataframe\">\n  <thead>\n    <tr style=\"text-align: right;\">\n      <th></th>\n      <th>timestamp</th>\n      <th>submit_id</th>\n      <th>user_id</th>\n      <th>problem_id</th>\n      <th>result_state</th>\n      <th>memory</th>\n      <th>running_time</th>\n      <th>language</th>\n      <th>code_length</th>\n      <th>days</th>\n    </tr>\n  </thead>\n  <tbody>\n    <tr>\n      <th>1376198</th>\n      <td>2022-12-22 20:50:05</td>\n      <td>52956836</td>\n      <td>144121</td>\n      <td>20168</td>\n      <td>맞았습니다!! (13/18)</td>\n      <td>2456</td>\n      <td>0</td>\n      <td>18</td>\n      <td>1105</td>\n      <td>2일 전</td>\n    </tr>\n    <tr>\n      <th>1376201</th>\n      <td>2022-12-22 20:45:31</td>\n      <td>52956679</td>\n      <td>144121</td>\n      <td>20168</td>\n      <td>맞았습니다!! (17/18)</td>\n      <td>2024</td>\n      <td>0</td>\n      <td>18</td>\n      <td>1138</td>\n      <td>2일 전</td>\n    </tr>\n    <tr>\n      <th>1376202</th>\n      <td>2022-12-22 20:45:11</td>\n      <td>52956666</td>\n      <td>144121</td>\n      <td>20168</td>\n      <td>맞았습니다!! (17/18)</td>\n      <td>2024</td>\n      <td>0</td>\n      <td>18</td>\n      <td>1138</td>\n      <td>2일 전</td>\n    </tr>\n    <tr>\n      <th>1376203</th>\n      <td>2022-12-22 20:44:46</td>\n      <td>52956653</td>\n      <td>144121</td>\n      <td>20168</td>\n      <td>맞았습니다!! (17/18)</td>\n      <td>2024</td>\n      <td>0</td>\n      <td>18</td>\n      <td>1138</td>\n      <td>2일 전</td>\n    </tr>\n    <tr>\n      <th>1376205</th>\n      <td>2022-12-22 20:42:19</td>\n      <td>52956530</td>\n      <td>144121</td>\n      <td>20168</td>\n      <td>맞았습니다!! (17/18)</td>\n      <td>2024</td>\n      <td>0</td>\n      <td>18</td>\n      <td>1138</td>\n      <td>2일 전</td>\n    </tr>\n    <tr>\n      <th>...</th>\n      <td>...</td>\n      <td>...</td>\n      <td>...</td>\n      <td>...</td>\n      <td>...</td>\n      <td>...</td>\n      <td>...</td>\n      <td>...</td>\n      <td>...</td>\n      <td>...</td>\n    </tr>\n    <tr>\n      <th>20426067</th>\n      <td>2020-11-17 19:46:56</td>\n      <td>23907785</td>\n      <td>153814</td>\n      <td>20164</td>\n      <td>맞았습니다!! (102/102)</td>\n      <td>79352</td>\n      <td>0</td>\n      <td>10</td>\n      <td>1782</td>\n      <td>2년 전</td>\n    </tr>\n    <tr>\n      <th>20426068</th>\n      <td>2020-11-17 19:41:43</td>\n      <td>23907684</td>\n      <td>151094</td>\n      <td>20164</td>\n      <td>맞았습니다!! (102/102)</td>\n      <td>2156</td>\n      <td>0</td>\n      <td>14</td>\n      <td>1179</td>\n      <td>2년 전</td>\n    </tr>\n    <tr>\n      <th>20426069</th>\n      <td>2020-11-17 19:36:50</td>\n      <td>23907582</td>\n      <td>40985</td>\n      <td>20164</td>\n      <td>맞았습니다!! (102/102)</td>\n      <td>2016</td>\n      <td>0</td>\n      <td>14</td>\n      <td>1580</td>\n      <td>2년 전</td>\n    </tr>\n    <tr>\n      <th>20426070</th>\n      <td>2020-11-17 19:34:48</td>\n      <td>23907548</td>\n      <td>46998</td>\n      <td>20164</td>\n      <td>맞았습니다!! (102/102)</td>\n      <td>2024</td>\n      <td>0</td>\n      <td>12</td>\n      <td>1580</td>\n      <td>2년 전</td>\n    </tr>\n    <tr>\n      <th>20426071</th>\n      <td>2020-11-17 19:34:20</td>\n      <td>23907536</td>\n      <td>143887</td>\n      <td>20164</td>\n      <td>맞았습니다!! (102/102)</td>\n      <td>2024</td>\n      <td>0</td>\n      <td>14</td>\n      <td>1406</td>\n      <td>2년 전</td>\n    </tr>\n  </tbody>\n</table>\n<p>11009 rows × 10 columns</p>\n</div>"
     },
     "execution_count": 72,
     "metadata": {},
     "output_type": "execute_result"
    },
    {
     "data": {
      "text/plain": "                    timestamp  submit_id  user_id  problem_id  \\\n1376198   2022-12-22 20:50:05   52956836   144121       20168   \n1376201   2022-12-22 20:45:31   52956679   144121       20168   \n1376202   2022-12-22 20:45:11   52956666   144121       20168   \n1376203   2022-12-22 20:44:46   52956653   144121       20168   \n1376205   2022-12-22 20:42:19   52956530   144121       20168   \n...                       ...        ...      ...         ...   \n20426067  2020-11-17 19:46:56   23907785   153814       20164   \n20426068  2020-11-17 19:41:43   23907684   151094       20164   \n20426069  2020-11-17 19:36:50   23907582    40985       20164   \n20426070  2020-11-17 19:34:48   23907548    46998       20164   \n20426071  2020-11-17 19:34:20   23907536   143887       20164   \n\n               result_state  memory  running_time  language  code_length  days  \n1376198     맞았습니다!! (13/18)    2456             0        18         1105  2일 전  \n1376201     맞았습니다!! (17/18)    2024             0        18         1138  2일 전  \n1376202     맞았습니다!! (17/18)    2024             0        18         1138  2일 전  \n1376203     맞았습니다!! (17/18)    2024             0        18         1138  2일 전  \n1376205     맞았습니다!! (17/18)    2024             0        18         1138  2일 전  \n...                     ...     ...           ...       ...          ...   ...  \n20426067  맞았습니다!! (102/102)   79352             0        10         1782  2년 전  \n20426068  맞았습니다!! (102/102)    2156             0        14         1179  2년 전  \n20426069  맞았습니다!! (102/102)    2016             0        14         1580  2년 전  \n20426070  맞았습니다!! (102/102)    2024             0        12         1580  2년 전  \n20426071  맞았습니다!! (102/102)    2024             0        14         1406  2년 전  \n\n[11009 rows x 10 columns]",
      "text/html": "<div>\n<style scoped>\n    .dataframe tbody tr th:only-of-type {\n        vertical-align: middle;\n    }\n\n    .dataframe tbody tr th {\n        vertical-align: top;\n    }\n\n    .dataframe thead th {\n        text-align: right;\n    }\n</style>\n<table border=\"1\" class=\"dataframe\">\n  <thead>\n    <tr style=\"text-align: right;\">\n      <th></th>\n      <th>timestamp</th>\n      <th>submit_id</th>\n      <th>user_id</th>\n      <th>problem_id</th>\n      <th>result_state</th>\n      <th>memory</th>\n      <th>running_time</th>\n      <th>language</th>\n      <th>code_length</th>\n      <th>days</th>\n    </tr>\n  </thead>\n  <tbody>\n    <tr>\n      <th>1376198</th>\n      <td>2022-12-22 20:50:05</td>\n      <td>52956836</td>\n      <td>144121</td>\n      <td>20168</td>\n      <td>맞았습니다!! (13/18)</td>\n      <td>2456</td>\n      <td>0</td>\n      <td>18</td>\n      <td>1105</td>\n      <td>2일 전</td>\n    </tr>\n    <tr>\n      <th>1376201</th>\n      <td>2022-12-22 20:45:31</td>\n      <td>52956679</td>\n      <td>144121</td>\n      <td>20168</td>\n      <td>맞았습니다!! (17/18)</td>\n      <td>2024</td>\n      <td>0</td>\n      <td>18</td>\n      <td>1138</td>\n      <td>2일 전</td>\n    </tr>\n    <tr>\n      <th>1376202</th>\n      <td>2022-12-22 20:45:11</td>\n      <td>52956666</td>\n      <td>144121</td>\n      <td>20168</td>\n      <td>맞았습니다!! (17/18)</td>\n      <td>2024</td>\n      <td>0</td>\n      <td>18</td>\n      <td>1138</td>\n      <td>2일 전</td>\n    </tr>\n    <tr>\n      <th>1376203</th>\n      <td>2022-12-22 20:44:46</td>\n      <td>52956653</td>\n      <td>144121</td>\n      <td>20168</td>\n      <td>맞았습니다!! (17/18)</td>\n      <td>2024</td>\n      <td>0</td>\n      <td>18</td>\n      <td>1138</td>\n      <td>2일 전</td>\n    </tr>\n    <tr>\n      <th>1376205</th>\n      <td>2022-12-22 20:42:19</td>\n      <td>52956530</td>\n      <td>144121</td>\n      <td>20168</td>\n      <td>맞았습니다!! (17/18)</td>\n      <td>2024</td>\n      <td>0</td>\n      <td>18</td>\n      <td>1138</td>\n      <td>2일 전</td>\n    </tr>\n    <tr>\n      <th>...</th>\n      <td>...</td>\n      <td>...</td>\n      <td>...</td>\n      <td>...</td>\n      <td>...</td>\n      <td>...</td>\n      <td>...</td>\n      <td>...</td>\n      <td>...</td>\n      <td>...</td>\n    </tr>\n    <tr>\n      <th>20426067</th>\n      <td>2020-11-17 19:46:56</td>\n      <td>23907785</td>\n      <td>153814</td>\n      <td>20164</td>\n      <td>맞았습니다!! (102/102)</td>\n      <td>79352</td>\n      <td>0</td>\n      <td>10</td>\n      <td>1782</td>\n      <td>2년 전</td>\n    </tr>\n    <tr>\n      <th>20426068</th>\n      <td>2020-11-17 19:41:43</td>\n      <td>23907684</td>\n      <td>151094</td>\n      <td>20164</td>\n      <td>맞았습니다!! (102/102)</td>\n      <td>2156</td>\n      <td>0</td>\n      <td>14</td>\n      <td>1179</td>\n      <td>2년 전</td>\n    </tr>\n    <tr>\n      <th>20426069</th>\n      <td>2020-11-17 19:36:50</td>\n      <td>23907582</td>\n      <td>40985</td>\n      <td>20164</td>\n      <td>맞았습니다!! (102/102)</td>\n      <td>2016</td>\n      <td>0</td>\n      <td>14</td>\n      <td>1580</td>\n      <td>2년 전</td>\n    </tr>\n    <tr>\n      <th>20426070</th>\n      <td>2020-11-17 19:34:48</td>\n      <td>23907548</td>\n      <td>46998</td>\n      <td>20164</td>\n      <td>맞았습니다!! (102/102)</td>\n      <td>2024</td>\n      <td>0</td>\n      <td>12</td>\n      <td>1580</td>\n      <td>2년 전</td>\n    </tr>\n    <tr>\n      <th>20426071</th>\n      <td>2020-11-17 19:34:20</td>\n      <td>23907536</td>\n      <td>143887</td>\n      <td>20164</td>\n      <td>맞았습니다!! (102/102)</td>\n      <td>2024</td>\n      <td>0</td>\n      <td>14</td>\n      <td>1406</td>\n      <td>2년 전</td>\n    </tr>\n  </tbody>\n</table>\n<p>11009 rows × 10 columns</p>\n</div>"
     },
     "execution_count": 73,
     "metadata": {},
     "output_type": "execute_result"
    }
   ],
   "source": [
    "data.loc[data['result_state'].str.startswith('맞았습니다!!\\xa0')]"
   ],
   "metadata": {
    "collapsed": false
   }
  },
  {
   "cell_type": "code",
   "execution_count": 77,
   "outputs": [],
   "source": [
    "data.loc[data['result_state'].str.startswith('맞았습니다!!\\xa0'),'result_state']=data.loc[data['result_state'].str.startswith('맞았습니다!!\\xa0'),'result_state'].apply(lambda x:'맞았습니다!!' if x.split('\\xa0')[1][1:-1].split('/')[0] == x.split('\\xa0')[1][1:-1].split('/')[1] else '틀렸습니다' )"
   ],
   "metadata": {
    "collapsed": false
   }
  },
  {
   "cell_type": "code",
   "execution_count": 78,
   "outputs": [
    {
     "data": {
      "text/plain": "Empty DataFrame\nColumns: [timestamp, submit_id, user_id, problem_id, result_state, memory, running_time, language, code_length, days]\nIndex: []",
      "text/html": "<div>\n<style scoped>\n    .dataframe tbody tr th:only-of-type {\n        vertical-align: middle;\n    }\n\n    .dataframe tbody tr th {\n        vertical-align: top;\n    }\n\n    .dataframe thead th {\n        text-align: right;\n    }\n</style>\n<table border=\"1\" class=\"dataframe\">\n  <thead>\n    <tr style=\"text-align: right;\">\n      <th></th>\n      <th>timestamp</th>\n      <th>submit_id</th>\n      <th>user_id</th>\n      <th>problem_id</th>\n      <th>result_state</th>\n      <th>memory</th>\n      <th>running_time</th>\n      <th>language</th>\n      <th>code_length</th>\n      <th>days</th>\n    </tr>\n  </thead>\n  <tbody>\n  </tbody>\n</table>\n</div>"
     },
     "execution_count": 78,
     "metadata": {},
     "output_type": "execute_result"
    }
   ],
   "source": [
    "data.loc[data['result_state'].str.startswith('맞았습니다!!\\xa0')]"
   ],
   "metadata": {
    "collapsed": false
   }
  },
  {
   "cell_type": "markdown",
   "source": [
    "Well done"
   ],
   "metadata": {
    "collapsed": false
   }
  },
  {
   "cell_type": "code",
   "execution_count": 79,
   "outputs": [
    {
     "data": {
      "text/plain": "array(['맞았습니다!!', '메모리 초과', '런타임 에러\\xa0(FileNotFoundError)', ...,\n       '2147483647점', '580245801점', '123456789점'], dtype=object)"
     },
     "execution_count": 79,
     "metadata": {},
     "output_type": "execute_result"
    }
   ],
   "source": [
    "data['result_state'].unique()"
   ],
   "metadata": {
    "collapsed": false
   }
  },
  {
   "cell_type": "code",
   "execution_count": 83,
   "outputs": [],
   "source": [
    "del data_ori"
   ],
   "metadata": {
    "collapsed": false
   }
  },
  {
   "cell_type": "code",
   "execution_count": null,
   "outputs": [],
   "source": [
    "data['result_state'] = data['result_state'].apply(lambda x: '맞았습니다!!' if x.endswith('점') and float(x[:-1]) >= 100 else x)\n",
    "data['result_state'] = data['result_state'].apply(lambda x: '틀렸습니다' if x.endswith('점') and float(x[:-1]) < 100 else x)\n",
    "data['result_state'] = data['result_state'].apply(lambda x: '런타임 에러' if x.startswith('런타임') else x)\n",
    "\n",
    "data = data.loc[~data['result_state'].isin(['채점 불가', '채점 준비 중', '채점 중', '삭제된 제출'])]"
   ],
   "metadata": {
    "collapsed": false,
    "pycharm": {
     "is_executing": true
    }
   }
  },
  {
   "cell_type": "code",
   "execution_count": null,
   "outputs": [],
   "source": [
    "data['result_state'].unique()"
   ],
   "metadata": {
    "collapsed": false,
    "pycharm": {
     "is_executing": true
    }
   }
  },
  {
   "cell_type": "code",
   "execution_count": 86,
   "outputs": [],
   "source": [
    "data=data.drop(axis=1, columns=['days'])"
   ],
   "metadata": {
    "collapsed": false
   }
  },
  {
   "cell_type": "markdown",
   "source": [
    "# User Item Interaction"
   ],
   "metadata": {
    "collapsed": false
   }
  },
  {
   "cell_type": "code",
   "execution_count": null,
   "outputs": [],
   "source": [
    "user2idx={}\n",
    "idx2user={}\n",
    "data\n",
    "\n",
    "\n",
    "prob2idx={}\n",
    "idx2prob={}\n",
    "\n"
   ],
   "metadata": {
    "collapsed": false
   }
  }
 ],
 "metadata": {
  "kernelspec": {
   "display_name": "Python 3",
   "language": "python",
   "name": "python3"
  },
  "language_info": {
   "codemirror_mode": {
    "name": "ipython",
    "version": 2
   },
   "file_extension": ".py",
   "mimetype": "text/x-python",
   "name": "python",
   "nbconvert_exporter": "python",
   "pygments_lexer": "ipython2",
   "version": "2.7.6"
  }
 },
 "nbformat": 4,
 "nbformat_minor": 0
}
