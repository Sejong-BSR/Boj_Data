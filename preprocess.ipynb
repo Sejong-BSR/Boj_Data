{
 "cells": [
  {
   "cell_type": "code",
   "execution_count": 1,
   "metadata": {
    "collapsed": true
   },
   "outputs": [],
   "source": [
    "import pandas as pd\n",
    "import numpy as np"
   ]
  },
  {
   "cell_type": "code",
   "execution_count": 2,
   "outputs": [
    {
     "data": {
      "text/plain": "             timestamp   submit_id        user_id  problem_id result_state  \\\n0  2022-12-16 17:08:57  52731042.0       jsh00325     14562.0      맞았습니다!!   \n1  2022-12-16 15:28:07  52726708.0  teddybear1024     14562.0      맞았습니다!!   \n2  2022-12-15 01:15:34  52680839.0        mujigae     14562.0      맞았습니다!!   \n3  2022-12-12 15:23:46  52595252.0     wnsgml7267     14562.0      맞았습니다!!   \n4  2022-12-01 00:29:05  52271216.0     gustjs5419     14562.0      맞았습니다!!   \n\n    memory  running_time  language  code_length     __  \n0   2020.0           0.0     C++11        592.0   8일 전  \n1   2024.0           0.0     C++17        875.0   8일 전  \n2   2156.0           0.0     C++17        554.0   9일 전  \n3  34096.0          68.0  Python 3        420.0  12일 전  \n4   2020.0           4.0     C++17        712.0  23일 전  ",
      "text/html": "<div>\n<style scoped>\n    .dataframe tbody tr th:only-of-type {\n        vertical-align: middle;\n    }\n\n    .dataframe tbody tr th {\n        vertical-align: top;\n    }\n\n    .dataframe thead th {\n        text-align: right;\n    }\n</style>\n<table border=\"1\" class=\"dataframe\">\n  <thead>\n    <tr style=\"text-align: right;\">\n      <th></th>\n      <th>timestamp</th>\n      <th>submit_id</th>\n      <th>user_id</th>\n      <th>problem_id</th>\n      <th>result_state</th>\n      <th>memory</th>\n      <th>running_time</th>\n      <th>language</th>\n      <th>code_length</th>\n      <th>__</th>\n    </tr>\n  </thead>\n  <tbody>\n    <tr>\n      <th>0</th>\n      <td>2022-12-16 17:08:57</td>\n      <td>52731042.0</td>\n      <td>jsh00325</td>\n      <td>14562.0</td>\n      <td>맞았습니다!!</td>\n      <td>2020.0</td>\n      <td>0.0</td>\n      <td>C++11</td>\n      <td>592.0</td>\n      <td>8일 전</td>\n    </tr>\n    <tr>\n      <th>1</th>\n      <td>2022-12-16 15:28:07</td>\n      <td>52726708.0</td>\n      <td>teddybear1024</td>\n      <td>14562.0</td>\n      <td>맞았습니다!!</td>\n      <td>2024.0</td>\n      <td>0.0</td>\n      <td>C++17</td>\n      <td>875.0</td>\n      <td>8일 전</td>\n    </tr>\n    <tr>\n      <th>2</th>\n      <td>2022-12-15 01:15:34</td>\n      <td>52680839.0</td>\n      <td>mujigae</td>\n      <td>14562.0</td>\n      <td>맞았습니다!!</td>\n      <td>2156.0</td>\n      <td>0.0</td>\n      <td>C++17</td>\n      <td>554.0</td>\n      <td>9일 전</td>\n    </tr>\n    <tr>\n      <th>3</th>\n      <td>2022-12-12 15:23:46</td>\n      <td>52595252.0</td>\n      <td>wnsgml7267</td>\n      <td>14562.0</td>\n      <td>맞았습니다!!</td>\n      <td>34096.0</td>\n      <td>68.0</td>\n      <td>Python 3</td>\n      <td>420.0</td>\n      <td>12일 전</td>\n    </tr>\n    <tr>\n      <th>4</th>\n      <td>2022-12-01 00:29:05</td>\n      <td>52271216.0</td>\n      <td>gustjs5419</td>\n      <td>14562.0</td>\n      <td>맞았습니다!!</td>\n      <td>2020.0</td>\n      <td>4.0</td>\n      <td>C++17</td>\n      <td>712.0</td>\n      <td>23일 전</td>\n    </tr>\n  </tbody>\n</table>\n</div>"
     },
     "execution_count": 2,
     "metadata": {},
     "output_type": "execute_result"
    }
   ],
   "source": [
    "data = pd.read_csv(\"data/total_data.csv\")\n",
    "data.head()"
   ],
   "metadata": {
    "collapsed": false
   }
  },
  {
   "cell_type": "code",
   "execution_count": 3,
   "outputs": [
    {
     "name": "stdout",
     "output_type": "stream",
     "text": [
      "<class 'pandas.core.frame.DataFrame'>\n",
      "RangeIndex: 22608670 entries, 0 to 22608669\n",
      "Data columns (total 10 columns):\n",
      " #   Column        Dtype  \n",
      "---  ------        -----  \n",
      " 0   timestamp     object \n",
      " 1   submit_id     float64\n",
      " 2   user_id       object \n",
      " 3   problem_id    float64\n",
      " 4   result_state  object \n",
      " 5   memory        float64\n",
      " 6   running_time  float64\n",
      " 7   language      object \n",
      " 8   code_length   float64\n",
      " 9   __            object \n",
      "dtypes: float64(5), object(5)\n",
      "memory usage: 1.7+ GB\n"
     ]
    }
   ],
   "source": [
    "data.info(null_counts=True)"
   ],
   "metadata": {
    "collapsed": false
   }
  },
  {
   "cell_type": "code",
   "execution_count": 10,
   "outputs": [
    {
     "name": "stdout",
     "output_type": "stream",
     "text": [
      "5.001183174419371 % 의 데이터 소실\n"
     ]
    }
   ],
   "source": [
    "print((data['problem_id'].isnull().sum() / len(data) )*100,'% 의 데이터 소실')"
   ],
   "metadata": {
    "collapsed": false
   }
  },
  {
   "cell_type": "code",
   "execution_count": 11,
   "outputs": [
    {
     "data": {
      "text/plain": "         timestamp  submit_id user_id  problem_id result_state  memory  \\\n19             NaN        NaN     NaN         NaN          NaN     NaN   \n39             NaN        NaN     NaN         NaN          NaN     NaN   \n59             NaN        NaN     NaN         NaN          NaN     NaN   \n79             NaN        NaN     NaN         NaN          NaN     NaN   \n99             NaN        NaN     NaN         NaN          NaN     NaN   \n...            ...        ...     ...         ...          ...     ...   \n22608570       NaN        NaN     NaN         NaN          NaN     NaN   \n22608590       NaN        NaN     NaN         NaN          NaN     NaN   \n22608610       NaN        NaN     NaN         NaN          NaN     NaN   \n22608630       NaN        NaN     NaN         NaN          NaN     NaN   \n22608650       NaN        NaN     NaN         NaN          NaN     NaN   \n\n          running_time language  code_length   __  \n19                 NaN      NaN          NaN  NaN  \n39                 NaN      NaN          NaN  NaN  \n59                 NaN      NaN          NaN  NaN  \n79                 NaN      NaN          NaN  NaN  \n99                 NaN      NaN          NaN  NaN  \n...                ...      ...          ...  ...  \n22608570           NaN      NaN          NaN  NaN  \n22608590           NaN      NaN          NaN  NaN  \n22608610           NaN      NaN          NaN  NaN  \n22608630           NaN      NaN          NaN  NaN  \n22608650           NaN      NaN          NaN  NaN  \n\n[1130701 rows x 10 columns]",
      "text/html": "<div>\n<style scoped>\n    .dataframe tbody tr th:only-of-type {\n        vertical-align: middle;\n    }\n\n    .dataframe tbody tr th {\n        vertical-align: top;\n    }\n\n    .dataframe thead th {\n        text-align: right;\n    }\n</style>\n<table border=\"1\" class=\"dataframe\">\n  <thead>\n    <tr style=\"text-align: right;\">\n      <th></th>\n      <th>timestamp</th>\n      <th>submit_id</th>\n      <th>user_id</th>\n      <th>problem_id</th>\n      <th>result_state</th>\n      <th>memory</th>\n      <th>running_time</th>\n      <th>language</th>\n      <th>code_length</th>\n      <th>__</th>\n    </tr>\n  </thead>\n  <tbody>\n    <tr>\n      <th>19</th>\n      <td>NaN</td>\n      <td>NaN</td>\n      <td>NaN</td>\n      <td>NaN</td>\n      <td>NaN</td>\n      <td>NaN</td>\n      <td>NaN</td>\n      <td>NaN</td>\n      <td>NaN</td>\n      <td>NaN</td>\n    </tr>\n    <tr>\n      <th>39</th>\n      <td>NaN</td>\n      <td>NaN</td>\n      <td>NaN</td>\n      <td>NaN</td>\n      <td>NaN</td>\n      <td>NaN</td>\n      <td>NaN</td>\n      <td>NaN</td>\n      <td>NaN</td>\n      <td>NaN</td>\n    </tr>\n    <tr>\n      <th>59</th>\n      <td>NaN</td>\n      <td>NaN</td>\n      <td>NaN</td>\n      <td>NaN</td>\n      <td>NaN</td>\n      <td>NaN</td>\n      <td>NaN</td>\n      <td>NaN</td>\n      <td>NaN</td>\n      <td>NaN</td>\n    </tr>\n    <tr>\n      <th>79</th>\n      <td>NaN</td>\n      <td>NaN</td>\n      <td>NaN</td>\n      <td>NaN</td>\n      <td>NaN</td>\n      <td>NaN</td>\n      <td>NaN</td>\n      <td>NaN</td>\n      <td>NaN</td>\n      <td>NaN</td>\n    </tr>\n    <tr>\n      <th>99</th>\n      <td>NaN</td>\n      <td>NaN</td>\n      <td>NaN</td>\n      <td>NaN</td>\n      <td>NaN</td>\n      <td>NaN</td>\n      <td>NaN</td>\n      <td>NaN</td>\n      <td>NaN</td>\n      <td>NaN</td>\n    </tr>\n    <tr>\n      <th>...</th>\n      <td>...</td>\n      <td>...</td>\n      <td>...</td>\n      <td>...</td>\n      <td>...</td>\n      <td>...</td>\n      <td>...</td>\n      <td>...</td>\n      <td>...</td>\n      <td>...</td>\n    </tr>\n    <tr>\n      <th>22608570</th>\n      <td>NaN</td>\n      <td>NaN</td>\n      <td>NaN</td>\n      <td>NaN</td>\n      <td>NaN</td>\n      <td>NaN</td>\n      <td>NaN</td>\n      <td>NaN</td>\n      <td>NaN</td>\n      <td>NaN</td>\n    </tr>\n    <tr>\n      <th>22608590</th>\n      <td>NaN</td>\n      <td>NaN</td>\n      <td>NaN</td>\n      <td>NaN</td>\n      <td>NaN</td>\n      <td>NaN</td>\n      <td>NaN</td>\n      <td>NaN</td>\n      <td>NaN</td>\n      <td>NaN</td>\n    </tr>\n    <tr>\n      <th>22608610</th>\n      <td>NaN</td>\n      <td>NaN</td>\n      <td>NaN</td>\n      <td>NaN</td>\n      <td>NaN</td>\n      <td>NaN</td>\n      <td>NaN</td>\n      <td>NaN</td>\n      <td>NaN</td>\n      <td>NaN</td>\n    </tr>\n    <tr>\n      <th>22608630</th>\n      <td>NaN</td>\n      <td>NaN</td>\n      <td>NaN</td>\n      <td>NaN</td>\n      <td>NaN</td>\n      <td>NaN</td>\n      <td>NaN</td>\n      <td>NaN</td>\n      <td>NaN</td>\n      <td>NaN</td>\n    </tr>\n    <tr>\n      <th>22608650</th>\n      <td>NaN</td>\n      <td>NaN</td>\n      <td>NaN</td>\n      <td>NaN</td>\n      <td>NaN</td>\n      <td>NaN</td>\n      <td>NaN</td>\n      <td>NaN</td>\n      <td>NaN</td>\n      <td>NaN</td>\n    </tr>\n  </tbody>\n</table>\n<p>1130701 rows × 10 columns</p>\n</div>"
     },
     "execution_count": 11,
     "metadata": {},
     "output_type": "execute_result"
    }
   ],
   "source": [
    "data[data['problem_id'].isna()]"
   ],
   "metadata": {
    "collapsed": false
   }
  },
  {
   "cell_type": "code",
   "execution_count": 12,
   "outputs": [
    {
     "name": "stderr",
     "output_type": "stream",
     "text": [
      "C:\\Users\\fjdks\\AppData\\Local\\Temp\\ipykernel_22068\\658676578.py:2: FutureWarning: null_counts is deprecated. Use show_counts instead\n",
      "  data.info(null_counts=True)\n"
     ]
    },
    {
     "name": "stdout",
     "output_type": "stream",
     "text": [
      "<class 'pandas.core.frame.DataFrame'>\n",
      "Int64Index: 21477969 entries, 0 to 22608669\n",
      "Data columns (total 10 columns):\n",
      " #   Column        Non-Null Count     Dtype  \n",
      "---  ------        --------------     -----  \n",
      " 0   timestamp     21477969 non-null  object \n",
      " 1   submit_id     21477969 non-null  float64\n",
      " 2   user_id       21477963 non-null  object \n",
      " 3   problem_id    21477969 non-null  float64\n",
      " 4   result_state  21477969 non-null  object \n",
      " 5   memory        8266306 non-null   float64\n",
      " 6   running_time  8266306 non-null   float64\n",
      " 7   language      21477969 non-null  object \n",
      " 8   code_length   21472934 non-null  float64\n",
      " 9   __            21477969 non-null  object \n",
      "dtypes: float64(5), object(5)\n",
      "memory usage: 1.8+ GB\n"
     ]
    }
   ],
   "source": [
    "data=data[data['problem_id'].notna()]\n",
    "data.info(null_counts=True)"
   ],
   "metadata": {
    "collapsed": false
   }
  },
  {
   "cell_type": "code",
   "execution_count": 13,
   "outputs": [
    {
     "data": {
      "text/plain": "                    timestamp  submit_id user_id  problem_id result_state  \\\n14282576  2014-08-29 20:33:20   310888.0     NaN     10211.0      맞았습니다!!   \n21248694  2017-09-13 10:20:26  6722584.0     NaN      1003.0        시간 초과   \n21248695  2017-09-13 10:18:14  6722577.0     NaN      1003.0       컴파일 에러   \n21248696  2017-09-13 10:16:43  6722571.0     NaN      1003.0       컴파일 에러   \n21248697  2017-09-13 10:12:43  6722549.0     NaN      1003.0       컴파일 에러   \n21248698  2017-09-13 10:12:01  6722546.0     NaN      1003.0       컴파일 에러   \n\n          memory  running_time language  code_length    __  \n14282576  1984.0           8.0    C++98        515.0  8년 전  \n21248694     NaN           NaN      C99        492.0  5년 전  \n21248695     NaN           NaN    C++14        496.0  5년 전  \n21248696     NaN           NaN      C99        496.0  5년 전  \n21248697     NaN           NaN      C99        468.0  5년 전  \n21248698     NaN           NaN      C99        467.0  5년 전  ",
      "text/html": "<div>\n<style scoped>\n    .dataframe tbody tr th:only-of-type {\n        vertical-align: middle;\n    }\n\n    .dataframe tbody tr th {\n        vertical-align: top;\n    }\n\n    .dataframe thead th {\n        text-align: right;\n    }\n</style>\n<table border=\"1\" class=\"dataframe\">\n  <thead>\n    <tr style=\"text-align: right;\">\n      <th></th>\n      <th>timestamp</th>\n      <th>submit_id</th>\n      <th>user_id</th>\n      <th>problem_id</th>\n      <th>result_state</th>\n      <th>memory</th>\n      <th>running_time</th>\n      <th>language</th>\n      <th>code_length</th>\n      <th>__</th>\n    </tr>\n  </thead>\n  <tbody>\n    <tr>\n      <th>14282576</th>\n      <td>2014-08-29 20:33:20</td>\n      <td>310888.0</td>\n      <td>NaN</td>\n      <td>10211.0</td>\n      <td>맞았습니다!!</td>\n      <td>1984.0</td>\n      <td>8.0</td>\n      <td>C++98</td>\n      <td>515.0</td>\n      <td>8년 전</td>\n    </tr>\n    <tr>\n      <th>21248694</th>\n      <td>2017-09-13 10:20:26</td>\n      <td>6722584.0</td>\n      <td>NaN</td>\n      <td>1003.0</td>\n      <td>시간 초과</td>\n      <td>NaN</td>\n      <td>NaN</td>\n      <td>C99</td>\n      <td>492.0</td>\n      <td>5년 전</td>\n    </tr>\n    <tr>\n      <th>21248695</th>\n      <td>2017-09-13 10:18:14</td>\n      <td>6722577.0</td>\n      <td>NaN</td>\n      <td>1003.0</td>\n      <td>컴파일 에러</td>\n      <td>NaN</td>\n      <td>NaN</td>\n      <td>C++14</td>\n      <td>496.0</td>\n      <td>5년 전</td>\n    </tr>\n    <tr>\n      <th>21248696</th>\n      <td>2017-09-13 10:16:43</td>\n      <td>6722571.0</td>\n      <td>NaN</td>\n      <td>1003.0</td>\n      <td>컴파일 에러</td>\n      <td>NaN</td>\n      <td>NaN</td>\n      <td>C99</td>\n      <td>496.0</td>\n      <td>5년 전</td>\n    </tr>\n    <tr>\n      <th>21248697</th>\n      <td>2017-09-13 10:12:43</td>\n      <td>6722549.0</td>\n      <td>NaN</td>\n      <td>1003.0</td>\n      <td>컴파일 에러</td>\n      <td>NaN</td>\n      <td>NaN</td>\n      <td>C99</td>\n      <td>468.0</td>\n      <td>5년 전</td>\n    </tr>\n    <tr>\n      <th>21248698</th>\n      <td>2017-09-13 10:12:01</td>\n      <td>6722546.0</td>\n      <td>NaN</td>\n      <td>1003.0</td>\n      <td>컴파일 에러</td>\n      <td>NaN</td>\n      <td>NaN</td>\n      <td>C99</td>\n      <td>467.0</td>\n      <td>5년 전</td>\n    </tr>\n  </tbody>\n</table>\n</div>"
     },
     "execution_count": 13,
     "metadata": {},
     "output_type": "execute_result"
    }
   ],
   "source": [
    "data[data['user_id'].isna()]"
   ],
   "metadata": {
    "collapsed": false
   }
  },
  {
   "cell_type": "code",
   "execution_count": 14,
   "outputs": [],
   "source": [
    "data=data[data['user_id'].notna()]"
   ],
   "metadata": {
    "collapsed": false
   }
  },
  {
   "cell_type": "code",
   "execution_count": 21,
   "outputs": [],
   "source": [
    "data['memory']=data['memory'].fillna(0)\n",
    "data['running_time']=data['running_time'].fillna(0)"
   ],
   "metadata": {
    "collapsed": false
   }
  },
  {
   "cell_type": "code",
   "execution_count": 15,
   "outputs": [
    {
     "data": {
      "text/plain": "                    timestamp   submit_id        user_id  problem_id  \\\n9159693   2022-12-20 23:57:32  52882065.0       piattola     17106.0   \n9159694   2022-12-19 08:33:40  52809781.0         dopppp     17106.0   \n9159695   2022-12-19 08:32:12  52809772.0         dopppp     17106.0   \n9159696   2022-12-19 08:29:51  52809757.0         dopppp     17106.0   \n9159697   2022-12-19 08:29:13  52809755.0         dopppp     17106.0   \n...                       ...         ...            ...         ...   \n14865354  2019-03-31 16:23:22  12492330.0  portableangel     17114.0   \n14865355  2019-03-31 16:22:17  12492299.0  portableangel     17114.0   \n14865356  2019-03-31 16:20:58  12492259.0  portableangel     17114.0   \n14865357  2019-03-31 16:18:13  12492163.0  portableangel     17114.0   \n14865358  2019-03-31 16:17:33  12492148.0  portableangel     17114.0   \n\n         result_state  memory  running_time language  code_length    __  \n9159693       맞았습니다!!  4528.0           0.0     Text          NaN  4일 전  \n9159694       맞았습니다!!  4528.0           0.0     Text          NaN  5일 전  \n9159695         틀렸습니다     NaN           NaN     Text          NaN  5일 전  \n9159696         틀렸습니다     NaN           NaN     Text          NaN  5일 전  \n9159697         틀렸습니다     NaN           NaN     Text          NaN  5일 전  \n...               ...     ...           ...      ...          ...   ...  \n14865354        시간 초과     NaN           NaN    C++17          NaN  3년 전  \n14865355        틀렸습니다     NaN           NaN    C++17          NaN  3년 전  \n14865356        시간 초과     NaN           NaN    C++17          NaN  3년 전  \n14865357        틀렸습니다     NaN           NaN    C++17          NaN  3년 전  \n14865358        틀렸습니다     NaN           NaN    C++11          NaN  3년 전  \n\n[5035 rows x 10 columns]",
      "text/html": "<div>\n<style scoped>\n    .dataframe tbody tr th:only-of-type {\n        vertical-align: middle;\n    }\n\n    .dataframe tbody tr th {\n        vertical-align: top;\n    }\n\n    .dataframe thead th {\n        text-align: right;\n    }\n</style>\n<table border=\"1\" class=\"dataframe\">\n  <thead>\n    <tr style=\"text-align: right;\">\n      <th></th>\n      <th>timestamp</th>\n      <th>submit_id</th>\n      <th>user_id</th>\n      <th>problem_id</th>\n      <th>result_state</th>\n      <th>memory</th>\n      <th>running_time</th>\n      <th>language</th>\n      <th>code_length</th>\n      <th>__</th>\n    </tr>\n  </thead>\n  <tbody>\n    <tr>\n      <th>9159693</th>\n      <td>2022-12-20 23:57:32</td>\n      <td>52882065.0</td>\n      <td>piattola</td>\n      <td>17106.0</td>\n      <td>맞았습니다!!</td>\n      <td>4528.0</td>\n      <td>0.0</td>\n      <td>Text</td>\n      <td>NaN</td>\n      <td>4일 전</td>\n    </tr>\n    <tr>\n      <th>9159694</th>\n      <td>2022-12-19 08:33:40</td>\n      <td>52809781.0</td>\n      <td>dopppp</td>\n      <td>17106.0</td>\n      <td>맞았습니다!!</td>\n      <td>4528.0</td>\n      <td>0.0</td>\n      <td>Text</td>\n      <td>NaN</td>\n      <td>5일 전</td>\n    </tr>\n    <tr>\n      <th>9159695</th>\n      <td>2022-12-19 08:32:12</td>\n      <td>52809772.0</td>\n      <td>dopppp</td>\n      <td>17106.0</td>\n      <td>틀렸습니다</td>\n      <td>NaN</td>\n      <td>NaN</td>\n      <td>Text</td>\n      <td>NaN</td>\n      <td>5일 전</td>\n    </tr>\n    <tr>\n      <th>9159696</th>\n      <td>2022-12-19 08:29:51</td>\n      <td>52809757.0</td>\n      <td>dopppp</td>\n      <td>17106.0</td>\n      <td>틀렸습니다</td>\n      <td>NaN</td>\n      <td>NaN</td>\n      <td>Text</td>\n      <td>NaN</td>\n      <td>5일 전</td>\n    </tr>\n    <tr>\n      <th>9159697</th>\n      <td>2022-12-19 08:29:13</td>\n      <td>52809755.0</td>\n      <td>dopppp</td>\n      <td>17106.0</td>\n      <td>틀렸습니다</td>\n      <td>NaN</td>\n      <td>NaN</td>\n      <td>Text</td>\n      <td>NaN</td>\n      <td>5일 전</td>\n    </tr>\n    <tr>\n      <th>...</th>\n      <td>...</td>\n      <td>...</td>\n      <td>...</td>\n      <td>...</td>\n      <td>...</td>\n      <td>...</td>\n      <td>...</td>\n      <td>...</td>\n      <td>...</td>\n      <td>...</td>\n    </tr>\n    <tr>\n      <th>14865354</th>\n      <td>2019-03-31 16:23:22</td>\n      <td>12492330.0</td>\n      <td>portableangel</td>\n      <td>17114.0</td>\n      <td>시간 초과</td>\n      <td>NaN</td>\n      <td>NaN</td>\n      <td>C++17</td>\n      <td>NaN</td>\n      <td>3년 전</td>\n    </tr>\n    <tr>\n      <th>14865355</th>\n      <td>2019-03-31 16:22:17</td>\n      <td>12492299.0</td>\n      <td>portableangel</td>\n      <td>17114.0</td>\n      <td>틀렸습니다</td>\n      <td>NaN</td>\n      <td>NaN</td>\n      <td>C++17</td>\n      <td>NaN</td>\n      <td>3년 전</td>\n    </tr>\n    <tr>\n      <th>14865356</th>\n      <td>2019-03-31 16:20:58</td>\n      <td>12492259.0</td>\n      <td>portableangel</td>\n      <td>17114.0</td>\n      <td>시간 초과</td>\n      <td>NaN</td>\n      <td>NaN</td>\n      <td>C++17</td>\n      <td>NaN</td>\n      <td>3년 전</td>\n    </tr>\n    <tr>\n      <th>14865357</th>\n      <td>2019-03-31 16:18:13</td>\n      <td>12492163.0</td>\n      <td>portableangel</td>\n      <td>17114.0</td>\n      <td>틀렸습니다</td>\n      <td>NaN</td>\n      <td>NaN</td>\n      <td>C++17</td>\n      <td>NaN</td>\n      <td>3년 전</td>\n    </tr>\n    <tr>\n      <th>14865358</th>\n      <td>2019-03-31 16:17:33</td>\n      <td>12492148.0</td>\n      <td>portableangel</td>\n      <td>17114.0</td>\n      <td>틀렸습니다</td>\n      <td>NaN</td>\n      <td>NaN</td>\n      <td>C++11</td>\n      <td>NaN</td>\n      <td>3년 전</td>\n    </tr>\n  </tbody>\n</table>\n<p>5035 rows × 10 columns</p>\n</div>"
     },
     "execution_count": 15,
     "metadata": {},
     "output_type": "execute_result"
    }
   ],
   "source": [
    "data[data['code_length'].isna()]"
   ],
   "metadata": {
    "collapsed": false
   }
  },
  {
   "cell_type": "code",
   "execution_count": 18,
   "outputs": [
    {
     "data": {
      "text/plain": "                    timestamp   submit_id        user_id  problem_id  \\\n14863500  2022-12-23 04:00:21  52971063.0        leeyuh0     17114.0   \n14863501  2022-12-23 03:26:06  52970721.0        leeyuh0     17114.0   \n14863502  2022-12-22 13:15:17  52935820.0   traceoflight     17114.0   \n14863503  2022-12-22 00:16:19  52922580.0   traceoflight     17114.0   \n14863504  2022-12-21 23:51:48  52921629.0   traceoflight     17114.0   \n...                       ...         ...            ...         ...   \n14865354  2019-03-31 16:23:22  12492330.0  portableangel     17114.0   \n14865355  2019-03-31 16:22:17  12492299.0  portableangel     17114.0   \n14865356  2019-03-31 16:20:58  12492259.0  portableangel     17114.0   \n14865357  2019-03-31 16:18:13  12492163.0  portableangel     17114.0   \n14865358  2019-03-31 16:17:33  12492148.0  portableangel     17114.0   \n\n         result_state    memory  running_time language  code_length    __  \n14863500      맞았습니다!!  322416.0         696.0    C++17          NaN  2일 전  \n14863501        틀렸습니다       NaN           NaN    C++17          NaN  2일 전  \n14863502      맞았습니다!!  648004.0        2816.0   Java 8          NaN  2일 전  \n14863503      맞았습니다!!  645844.0        2540.0   Java 8          NaN  3일 전  \n14863504        시간 초과       NaN           NaN   Java 8          NaN  3일 전  \n...               ...       ...           ...      ...          ...   ...  \n14865354        시간 초과       NaN           NaN    C++17          NaN  3년 전  \n14865355        틀렸습니다       NaN           NaN    C++17          NaN  3년 전  \n14865356        시간 초과       NaN           NaN    C++17          NaN  3년 전  \n14865357        틀렸습니다       NaN           NaN    C++17          NaN  3년 전  \n14865358        틀렸습니다       NaN           NaN    C++11          NaN  3년 전  \n\n[1767 rows x 10 columns]",
      "text/html": "<div>\n<style scoped>\n    .dataframe tbody tr th:only-of-type {\n        vertical-align: middle;\n    }\n\n    .dataframe tbody tr th {\n        vertical-align: top;\n    }\n\n    .dataframe thead th {\n        text-align: right;\n    }\n</style>\n<table border=\"1\" class=\"dataframe\">\n  <thead>\n    <tr style=\"text-align: right;\">\n      <th></th>\n      <th>timestamp</th>\n      <th>submit_id</th>\n      <th>user_id</th>\n      <th>problem_id</th>\n      <th>result_state</th>\n      <th>memory</th>\n      <th>running_time</th>\n      <th>language</th>\n      <th>code_length</th>\n      <th>__</th>\n    </tr>\n  </thead>\n  <tbody>\n    <tr>\n      <th>14863500</th>\n      <td>2022-12-23 04:00:21</td>\n      <td>52971063.0</td>\n      <td>leeyuh0</td>\n      <td>17114.0</td>\n      <td>맞았습니다!!</td>\n      <td>322416.0</td>\n      <td>696.0</td>\n      <td>C++17</td>\n      <td>NaN</td>\n      <td>2일 전</td>\n    </tr>\n    <tr>\n      <th>14863501</th>\n      <td>2022-12-23 03:26:06</td>\n      <td>52970721.0</td>\n      <td>leeyuh0</td>\n      <td>17114.0</td>\n      <td>틀렸습니다</td>\n      <td>NaN</td>\n      <td>NaN</td>\n      <td>C++17</td>\n      <td>NaN</td>\n      <td>2일 전</td>\n    </tr>\n    <tr>\n      <th>14863502</th>\n      <td>2022-12-22 13:15:17</td>\n      <td>52935820.0</td>\n      <td>traceoflight</td>\n      <td>17114.0</td>\n      <td>맞았습니다!!</td>\n      <td>648004.0</td>\n      <td>2816.0</td>\n      <td>Java 8</td>\n      <td>NaN</td>\n      <td>2일 전</td>\n    </tr>\n    <tr>\n      <th>14863503</th>\n      <td>2022-12-22 00:16:19</td>\n      <td>52922580.0</td>\n      <td>traceoflight</td>\n      <td>17114.0</td>\n      <td>맞았습니다!!</td>\n      <td>645844.0</td>\n      <td>2540.0</td>\n      <td>Java 8</td>\n      <td>NaN</td>\n      <td>3일 전</td>\n    </tr>\n    <tr>\n      <th>14863504</th>\n      <td>2022-12-21 23:51:48</td>\n      <td>52921629.0</td>\n      <td>traceoflight</td>\n      <td>17114.0</td>\n      <td>시간 초과</td>\n      <td>NaN</td>\n      <td>NaN</td>\n      <td>Java 8</td>\n      <td>NaN</td>\n      <td>3일 전</td>\n    </tr>\n    <tr>\n      <th>...</th>\n      <td>...</td>\n      <td>...</td>\n      <td>...</td>\n      <td>...</td>\n      <td>...</td>\n      <td>...</td>\n      <td>...</td>\n      <td>...</td>\n      <td>...</td>\n      <td>...</td>\n    </tr>\n    <tr>\n      <th>14865354</th>\n      <td>2019-03-31 16:23:22</td>\n      <td>12492330.0</td>\n      <td>portableangel</td>\n      <td>17114.0</td>\n      <td>시간 초과</td>\n      <td>NaN</td>\n      <td>NaN</td>\n      <td>C++17</td>\n      <td>NaN</td>\n      <td>3년 전</td>\n    </tr>\n    <tr>\n      <th>14865355</th>\n      <td>2019-03-31 16:22:17</td>\n      <td>12492299.0</td>\n      <td>portableangel</td>\n      <td>17114.0</td>\n      <td>틀렸습니다</td>\n      <td>NaN</td>\n      <td>NaN</td>\n      <td>C++17</td>\n      <td>NaN</td>\n      <td>3년 전</td>\n    </tr>\n    <tr>\n      <th>14865356</th>\n      <td>2019-03-31 16:20:58</td>\n      <td>12492259.0</td>\n      <td>portableangel</td>\n      <td>17114.0</td>\n      <td>시간 초과</td>\n      <td>NaN</td>\n      <td>NaN</td>\n      <td>C++17</td>\n      <td>NaN</td>\n      <td>3년 전</td>\n    </tr>\n    <tr>\n      <th>14865357</th>\n      <td>2019-03-31 16:18:13</td>\n      <td>12492163.0</td>\n      <td>portableangel</td>\n      <td>17114.0</td>\n      <td>틀렸습니다</td>\n      <td>NaN</td>\n      <td>NaN</td>\n      <td>C++17</td>\n      <td>NaN</td>\n      <td>3년 전</td>\n    </tr>\n    <tr>\n      <th>14865358</th>\n      <td>2019-03-31 16:17:33</td>\n      <td>12492148.0</td>\n      <td>portableangel</td>\n      <td>17114.0</td>\n      <td>틀렸습니다</td>\n      <td>NaN</td>\n      <td>NaN</td>\n      <td>C++11</td>\n      <td>NaN</td>\n      <td>3년 전</td>\n    </tr>\n  </tbody>\n</table>\n<p>1767 rows × 10 columns</p>\n</div>"
     },
     "execution_count": 18,
     "metadata": {},
     "output_type": "execute_result"
    }
   ],
   "source": [
    "data[(data['code_length'].isna()) & (data['language']!='Text')]"
   ],
   "metadata": {
    "collapsed": false
   }
  },
  {
   "cell_type": "code",
   "execution_count": 17,
   "outputs": [
    {
     "data": {
      "text/plain": "                    timestamp   submit_id        user_id  problem_id  \\\n0         2022-12-16 17:08:57  52731042.0       jsh00325     14562.0   \n1         2022-12-16 15:28:07  52726708.0  teddybear1024     14562.0   \n2         2022-12-15 01:15:34  52680839.0        mujigae     14562.0   \n3         2022-12-12 15:23:46  52595252.0     wnsgml7267     14562.0   \n4         2022-12-01 00:29:05  52271216.0     gustjs5419     14562.0   \n...                       ...         ...            ...         ...   \n22608665  2014-09-15 00:31:26    323956.0       yukariko     10158.0   \n22608666  2014-09-15 00:27:45    323955.0       yukariko     10158.0   \n22608667  2014-09-15 00:21:24    323950.0       yukariko     10158.0   \n22608668  2014-09-14 23:48:00    323934.0          hujub     10158.0   \n22608669  2014-08-26 21:38:52    309007.0         sbjwin     10158.0   \n\n         result_state   memory  running_time  language  code_length     __  \n0             맞았습니다!!   2020.0           0.0     C++11        592.0   8일 전  \n1             맞았습니다!!   2024.0           0.0     C++17        875.0   8일 전  \n2             맞았습니다!!   2156.0           0.0     C++17        554.0   9일 전  \n3             맞았습니다!!  34096.0          68.0  Python 3        420.0  12일 전  \n4             맞았습니다!!   2020.0           4.0     C++17        712.0  23일 전  \n...               ...      ...           ...       ...          ...    ...  \n22608665        틀렸습니다      NaN           NaN       C99        476.0   8년 전  \n22608666        시간 초과      NaN           NaN       C99        476.0   8년 전  \n22608667        시간 초과      NaN           NaN       C99        369.0   8년 전  \n22608668      맞았습니다!!   1116.0           0.0     C++98        475.0   8년 전  \n22608669      맞았습니다!!  11324.0           4.0         D        269.0   8년 전  \n\n[21471846 rows x 10 columns]",
      "text/html": "<div>\n<style scoped>\n    .dataframe tbody tr th:only-of-type {\n        vertical-align: middle;\n    }\n\n    .dataframe tbody tr th {\n        vertical-align: top;\n    }\n\n    .dataframe thead th {\n        text-align: right;\n    }\n</style>\n<table border=\"1\" class=\"dataframe\">\n  <thead>\n    <tr style=\"text-align: right;\">\n      <th></th>\n      <th>timestamp</th>\n      <th>submit_id</th>\n      <th>user_id</th>\n      <th>problem_id</th>\n      <th>result_state</th>\n      <th>memory</th>\n      <th>running_time</th>\n      <th>language</th>\n      <th>code_length</th>\n      <th>__</th>\n    </tr>\n  </thead>\n  <tbody>\n    <tr>\n      <th>0</th>\n      <td>2022-12-16 17:08:57</td>\n      <td>52731042.0</td>\n      <td>jsh00325</td>\n      <td>14562.0</td>\n      <td>맞았습니다!!</td>\n      <td>2020.0</td>\n      <td>0.0</td>\n      <td>C++11</td>\n      <td>592.0</td>\n      <td>8일 전</td>\n    </tr>\n    <tr>\n      <th>1</th>\n      <td>2022-12-16 15:28:07</td>\n      <td>52726708.0</td>\n      <td>teddybear1024</td>\n      <td>14562.0</td>\n      <td>맞았습니다!!</td>\n      <td>2024.0</td>\n      <td>0.0</td>\n      <td>C++17</td>\n      <td>875.0</td>\n      <td>8일 전</td>\n    </tr>\n    <tr>\n      <th>2</th>\n      <td>2022-12-15 01:15:34</td>\n      <td>52680839.0</td>\n      <td>mujigae</td>\n      <td>14562.0</td>\n      <td>맞았습니다!!</td>\n      <td>2156.0</td>\n      <td>0.0</td>\n      <td>C++17</td>\n      <td>554.0</td>\n      <td>9일 전</td>\n    </tr>\n    <tr>\n      <th>3</th>\n      <td>2022-12-12 15:23:46</td>\n      <td>52595252.0</td>\n      <td>wnsgml7267</td>\n      <td>14562.0</td>\n      <td>맞았습니다!!</td>\n      <td>34096.0</td>\n      <td>68.0</td>\n      <td>Python 3</td>\n      <td>420.0</td>\n      <td>12일 전</td>\n    </tr>\n    <tr>\n      <th>4</th>\n      <td>2022-12-01 00:29:05</td>\n      <td>52271216.0</td>\n      <td>gustjs5419</td>\n      <td>14562.0</td>\n      <td>맞았습니다!!</td>\n      <td>2020.0</td>\n      <td>4.0</td>\n      <td>C++17</td>\n      <td>712.0</td>\n      <td>23일 전</td>\n    </tr>\n    <tr>\n      <th>...</th>\n      <td>...</td>\n      <td>...</td>\n      <td>...</td>\n      <td>...</td>\n      <td>...</td>\n      <td>...</td>\n      <td>...</td>\n      <td>...</td>\n      <td>...</td>\n      <td>...</td>\n    </tr>\n    <tr>\n      <th>22608665</th>\n      <td>2014-09-15 00:31:26</td>\n      <td>323956.0</td>\n      <td>yukariko</td>\n      <td>10158.0</td>\n      <td>틀렸습니다</td>\n      <td>NaN</td>\n      <td>NaN</td>\n      <td>C99</td>\n      <td>476.0</td>\n      <td>8년 전</td>\n    </tr>\n    <tr>\n      <th>22608666</th>\n      <td>2014-09-15 00:27:45</td>\n      <td>323955.0</td>\n      <td>yukariko</td>\n      <td>10158.0</td>\n      <td>시간 초과</td>\n      <td>NaN</td>\n      <td>NaN</td>\n      <td>C99</td>\n      <td>476.0</td>\n      <td>8년 전</td>\n    </tr>\n    <tr>\n      <th>22608667</th>\n      <td>2014-09-15 00:21:24</td>\n      <td>323950.0</td>\n      <td>yukariko</td>\n      <td>10158.0</td>\n      <td>시간 초과</td>\n      <td>NaN</td>\n      <td>NaN</td>\n      <td>C99</td>\n      <td>369.0</td>\n      <td>8년 전</td>\n    </tr>\n    <tr>\n      <th>22608668</th>\n      <td>2014-09-14 23:48:00</td>\n      <td>323934.0</td>\n      <td>hujub</td>\n      <td>10158.0</td>\n      <td>맞았습니다!!</td>\n      <td>1116.0</td>\n      <td>0.0</td>\n      <td>C++98</td>\n      <td>475.0</td>\n      <td>8년 전</td>\n    </tr>\n    <tr>\n      <th>22608669</th>\n      <td>2014-08-26 21:38:52</td>\n      <td>309007.0</td>\n      <td>sbjwin</td>\n      <td>10158.0</td>\n      <td>맞았습니다!!</td>\n      <td>11324.0</td>\n      <td>4.0</td>\n      <td>D</td>\n      <td>269.0</td>\n      <td>8년 전</td>\n    </tr>\n  </tbody>\n</table>\n<p>21471846 rows × 10 columns</p>\n</div>"
     },
     "execution_count": 17,
     "metadata": {},
     "output_type": "execute_result"
    }
   ],
   "source": [
    "data[data['language']!='Text']"
   ],
   "metadata": {
    "collapsed": false
   }
  },
  {
   "cell_type": "code",
   "execution_count": 19,
   "outputs": [],
   "source": [
    "data['code_length']=data['code_length'].fillna(0)"
   ],
   "metadata": {
    "collapsed": false
   }
  },
  {
   "cell_type": "code",
   "execution_count": 22,
   "outputs": [
    {
     "name": "stderr",
     "output_type": "stream",
     "text": [
      "C:\\Users\\fjdks\\AppData\\Local\\Temp\\ipykernel_22068\\4245659237.py:1: FutureWarning: null_counts is deprecated. Use show_counts instead\n",
      "  data.info(null_counts=True)\n"
     ]
    },
    {
     "name": "stdout",
     "output_type": "stream",
     "text": [
      "<class 'pandas.core.frame.DataFrame'>\n",
      "Int64Index: 21477963 entries, 0 to 22608669\n",
      "Data columns (total 10 columns):\n",
      " #   Column        Non-Null Count     Dtype  \n",
      "---  ------        --------------     -----  \n",
      " 0   timestamp     21477963 non-null  object \n",
      " 1   submit_id     21477963 non-null  float64\n",
      " 2   user_id       21477963 non-null  object \n",
      " 3   problem_id    21477963 non-null  float64\n",
      " 4   result_state  21477963 non-null  object \n",
      " 5   memory        21477963 non-null  float64\n",
      " 6   running_time  21477963 non-null  float64\n",
      " 7   language      21477963 non-null  object \n",
      " 8   code_length   21477963 non-null  float64\n",
      " 9   __            21477963 non-null  object \n",
      "dtypes: float64(5), object(5)\n",
      "memory usage: 1.8+ GB\n"
     ]
    }
   ],
   "source": [
    "data.info(null_counts=True)"
   ],
   "metadata": {
    "collapsed": false
   }
  },
  {
   "cell_type": "code",
   "execution_count": 23,
   "outputs": [],
   "source": [
    "data['submit_id'] = data['submit_id'].astype('int')\n",
    "data['problem_id'] = data['problem_id'].astype('int')\n",
    "data['memory'] = data['memory'].astype('int')\n",
    "data['running_time'] = data['running_time'].astype('int')\n",
    "data['code_length'] = data['code_length'].astype('int')"
   ],
   "metadata": {
    "collapsed": false
   }
  },
  {
   "cell_type": "code",
   "execution_count": 24,
   "outputs": [
    {
     "data": {
      "text/plain": "             timestamp  submit_id        user_id  problem_id result_state  \\\n0  2022-12-16 17:08:57   52731042       jsh00325       14562      맞았습니다!!   \n1  2022-12-16 15:28:07   52726708  teddybear1024       14562      맞았습니다!!   \n2  2022-12-15 01:15:34   52680839        mujigae       14562      맞았습니다!!   \n3  2022-12-12 15:23:46   52595252     wnsgml7267       14562      맞았습니다!!   \n4  2022-12-01 00:29:05   52271216     gustjs5419       14562      맞았습니다!!   \n\n   memory  running_time  language  code_length     __  \n0    2020             0     C++11          592   8일 전  \n1    2024             0     C++17          875   8일 전  \n2    2156             0     C++17          554   9일 전  \n3   34096            68  Python 3          420  12일 전  \n4    2020             4     C++17          712  23일 전  ",
      "text/html": "<div>\n<style scoped>\n    .dataframe tbody tr th:only-of-type {\n        vertical-align: middle;\n    }\n\n    .dataframe tbody tr th {\n        vertical-align: top;\n    }\n\n    .dataframe thead th {\n        text-align: right;\n    }\n</style>\n<table border=\"1\" class=\"dataframe\">\n  <thead>\n    <tr style=\"text-align: right;\">\n      <th></th>\n      <th>timestamp</th>\n      <th>submit_id</th>\n      <th>user_id</th>\n      <th>problem_id</th>\n      <th>result_state</th>\n      <th>memory</th>\n      <th>running_time</th>\n      <th>language</th>\n      <th>code_length</th>\n      <th>__</th>\n    </tr>\n  </thead>\n  <tbody>\n    <tr>\n      <th>0</th>\n      <td>2022-12-16 17:08:57</td>\n      <td>52731042</td>\n      <td>jsh00325</td>\n      <td>14562</td>\n      <td>맞았습니다!!</td>\n      <td>2020</td>\n      <td>0</td>\n      <td>C++11</td>\n      <td>592</td>\n      <td>8일 전</td>\n    </tr>\n    <tr>\n      <th>1</th>\n      <td>2022-12-16 15:28:07</td>\n      <td>52726708</td>\n      <td>teddybear1024</td>\n      <td>14562</td>\n      <td>맞았습니다!!</td>\n      <td>2024</td>\n      <td>0</td>\n      <td>C++17</td>\n      <td>875</td>\n      <td>8일 전</td>\n    </tr>\n    <tr>\n      <th>2</th>\n      <td>2022-12-15 01:15:34</td>\n      <td>52680839</td>\n      <td>mujigae</td>\n      <td>14562</td>\n      <td>맞았습니다!!</td>\n      <td>2156</td>\n      <td>0</td>\n      <td>C++17</td>\n      <td>554</td>\n      <td>9일 전</td>\n    </tr>\n    <tr>\n      <th>3</th>\n      <td>2022-12-12 15:23:46</td>\n      <td>52595252</td>\n      <td>wnsgml7267</td>\n      <td>14562</td>\n      <td>맞았습니다!!</td>\n      <td>34096</td>\n      <td>68</td>\n      <td>Python 3</td>\n      <td>420</td>\n      <td>12일 전</td>\n    </tr>\n    <tr>\n      <th>4</th>\n      <td>2022-12-01 00:29:05</td>\n      <td>52271216</td>\n      <td>gustjs5419</td>\n      <td>14562</td>\n      <td>맞았습니다!!</td>\n      <td>2020</td>\n      <td>4</td>\n      <td>C++17</td>\n      <td>712</td>\n      <td>23일 전</td>\n    </tr>\n  </tbody>\n</table>\n</div>"
     },
     "execution_count": 24,
     "metadata": {},
     "output_type": "execute_result"
    }
   ],
   "source": [
    "data.head()"
   ],
   "metadata": {
    "collapsed": false
   }
  },
  {
   "cell_type": "markdown",
   "source": [],
   "metadata": {
    "collapsed": false
   }
  },
  {
   "cell_type": "code",
   "execution_count": null,
   "outputs": [],
   "source": [],
   "metadata": {
    "collapsed": false
   }
  }
 ],
 "metadata": {
  "kernelspec": {
   "display_name": "Python 3",
   "language": "python",
   "name": "python3"
  },
  "language_info": {
   "codemirror_mode": {
    "name": "ipython",
    "version": 2
   },
   "file_extension": ".py",
   "mimetype": "text/x-python",
   "name": "python",
   "nbconvert_exporter": "python",
   "pygments_lexer": "ipython2",
   "version": "2.7.6"
  }
 },
 "nbformat": 4,
 "nbformat_minor": 0
}
