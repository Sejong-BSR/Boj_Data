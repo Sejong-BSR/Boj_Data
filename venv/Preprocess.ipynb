{
 "cells": [
  {
   "cell_type": "code",
   "execution_count": 1,
   "metadata": {
    "collapsed": true
   },
   "outputs": [],
   "source": [
    "import pandas as pd\n",
    "import numpy as np\n",
    "from sklearn.preprocessing import LabelEncoder"
   ]
  },
  {
   "cell_type": "code",
   "execution_count": 2,
   "outputs": [],
   "source": [
    "data_ori = pd.read_csv(\"data/total_data.csv\")"
   ],
   "metadata": {
    "collapsed": false
   }
  },
  {
   "cell_type": "code",
   "execution_count": 3,
   "outputs": [
    {
     "data": {
      "text/plain": "             timestamp   submit_id        user_id  problem_id result_state  \\\n0  2022-12-16 17:08:57  52731042.0       jsh00325     14562.0      맞았습니다!!   \n1  2022-12-16 15:28:07  52726708.0  teddybear1024     14562.0      맞았습니다!!   \n2  2022-12-15 01:15:34  52680839.0        mujigae     14562.0      맞았습니다!!   \n3  2022-12-12 15:23:46  52595252.0     wnsgml7267     14562.0      맞았습니다!!   \n4  2022-12-01 00:29:05  52271216.0     gustjs5419     14562.0      맞았습니다!!   \n\n    memory  running_time  language  code_length     __  \n0   2020.0           0.0     C++11        592.0   8일 전  \n1   2024.0           0.0     C++17        875.0   8일 전  \n2   2156.0           0.0     C++17        554.0   9일 전  \n3  34096.0          68.0  Python 3        420.0  12일 전  \n4   2020.0           4.0     C++17        712.0  23일 전  ",
      "text/html": "<div>\n<style scoped>\n    .dataframe tbody tr th:only-of-type {\n        vertical-align: middle;\n    }\n\n    .dataframe tbody tr th {\n        vertical-align: top;\n    }\n\n    .dataframe thead th {\n        text-align: right;\n    }\n</style>\n<table border=\"1\" class=\"dataframe\">\n  <thead>\n    <tr style=\"text-align: right;\">\n      <th></th>\n      <th>timestamp</th>\n      <th>submit_id</th>\n      <th>user_id</th>\n      <th>problem_id</th>\n      <th>result_state</th>\n      <th>memory</th>\n      <th>running_time</th>\n      <th>language</th>\n      <th>code_length</th>\n      <th>__</th>\n    </tr>\n  </thead>\n  <tbody>\n    <tr>\n      <th>0</th>\n      <td>2022-12-16 17:08:57</td>\n      <td>52731042.0</td>\n      <td>jsh00325</td>\n      <td>14562.0</td>\n      <td>맞았습니다!!</td>\n      <td>2020.0</td>\n      <td>0.0</td>\n      <td>C++11</td>\n      <td>592.0</td>\n      <td>8일 전</td>\n    </tr>\n    <tr>\n      <th>1</th>\n      <td>2022-12-16 15:28:07</td>\n      <td>52726708.0</td>\n      <td>teddybear1024</td>\n      <td>14562.0</td>\n      <td>맞았습니다!!</td>\n      <td>2024.0</td>\n      <td>0.0</td>\n      <td>C++17</td>\n      <td>875.0</td>\n      <td>8일 전</td>\n    </tr>\n    <tr>\n      <th>2</th>\n      <td>2022-12-15 01:15:34</td>\n      <td>52680839.0</td>\n      <td>mujigae</td>\n      <td>14562.0</td>\n      <td>맞았습니다!!</td>\n      <td>2156.0</td>\n      <td>0.0</td>\n      <td>C++17</td>\n      <td>554.0</td>\n      <td>9일 전</td>\n    </tr>\n    <tr>\n      <th>3</th>\n      <td>2022-12-12 15:23:46</td>\n      <td>52595252.0</td>\n      <td>wnsgml7267</td>\n      <td>14562.0</td>\n      <td>맞았습니다!!</td>\n      <td>34096.0</td>\n      <td>68.0</td>\n      <td>Python 3</td>\n      <td>420.0</td>\n      <td>12일 전</td>\n    </tr>\n    <tr>\n      <th>4</th>\n      <td>2022-12-01 00:29:05</td>\n      <td>52271216.0</td>\n      <td>gustjs5419</td>\n      <td>14562.0</td>\n      <td>맞았습니다!!</td>\n      <td>2020.0</td>\n      <td>4.0</td>\n      <td>C++17</td>\n      <td>712.0</td>\n      <td>23일 전</td>\n    </tr>\n  </tbody>\n</table>\n</div>"
     },
     "execution_count": 3,
     "metadata": {},
     "output_type": "execute_result"
    }
   ],
   "source": [
    "data_ori.head()"
   ],
   "metadata": {
    "collapsed": false
   }
  },
  {
   "cell_type": "markdown",
   "source": [
    "# Null 채우기"
   ],
   "metadata": {
    "collapsed": false
   }
  },
  {
   "cell_type": "markdown",
   "source": [
    "## Timestamp & User_Id & Code_length"
   ],
   "metadata": {
    "collapsed": false
   }
  },
  {
   "cell_type": "code",
   "execution_count": 5,
   "outputs": [],
   "source": [
    "data=data_ori.copy()\n",
    "data=data.drop(axis=1, columns=['__'])\n",
    "data = data.drop(data.loc[data['timestamp'].isna()].index)\n",
    "data = data.drop(data.loc[data['user_id'].isna()].index)\n",
    "data = data.drop(data.loc[data['code_length'].isna()].index)"
   ],
   "metadata": {
    "collapsed": false
   }
  },
  {
   "cell_type": "code",
   "execution_count": 6,
   "outputs": [
    {
     "data": {
      "text/plain": "timestamp              0\nsubmit_id              0\nuser_id                0\nproblem_id             0\nresult_state           0\nmemory          13207832\nrunning_time    13207832\nlanguage               0\ncode_length            0\ndtype: int64"
     },
     "execution_count": 6,
     "metadata": {},
     "output_type": "execute_result"
    }
   ],
   "source": [
    "data.isna().sum()"
   ],
   "metadata": {
    "collapsed": false
   }
  },
  {
   "cell_type": "markdown",
   "source": [
    "## Memory & Running Time"
   ],
   "metadata": {
    "collapsed": false
   }
  },
  {
   "cell_type": "code",
   "execution_count": 7,
   "outputs": [
    {
     "ename": "NameError",
     "evalue": "name 'tqdm' is not defined",
     "output_type": "error",
     "traceback": [
      "\u001B[1;31m---------------------------------------------------------------------------\u001B[0m",
      "\u001B[1;31mNameError\u001B[0m                                 Traceback (most recent call last)",
      "Cell \u001B[1;32mIn[7], line 8\u001B[0m\n\u001B[0;32m      6\u001B[0m data[\u001B[38;5;124m'\u001B[39m\u001B[38;5;124mmemory_dummy\u001B[39m\u001B[38;5;124m'\u001B[39m] \u001B[38;5;241m=\u001B[39m data[\u001B[38;5;124m'\u001B[39m\u001B[38;5;124mmemory\u001B[39m\u001B[38;5;124m'\u001B[39m]\n\u001B[0;32m      7\u001B[0m data[\u001B[38;5;124m'\u001B[39m\u001B[38;5;124mrunning_time_dummy\u001B[39m\u001B[38;5;124m'\u001B[39m] \u001B[38;5;241m=\u001B[39m data[\u001B[38;5;124m'\u001B[39m\u001B[38;5;124mrunning_time\u001B[39m\u001B[38;5;124m'\u001B[39m]\n\u001B[1;32m----> 8\u001B[0m \u001B[38;5;28;01mfor\u001B[39;00m _, grouped \u001B[38;5;129;01min\u001B[39;00m \u001B[43mtqdm\u001B[49m(problem_lang_memo_running_mean):\n\u001B[0;32m      9\u001B[0m     problem_id, language \u001B[38;5;241m=\u001B[39m _\n\u001B[0;32m     10\u001B[0m     memory, running_time \u001B[38;5;241m=\u001B[39m grouped\u001B[38;5;241m.\u001B[39mmean()\n",
      "\u001B[1;31mNameError\u001B[0m: name 'tqdm' is not defined"
     ]
    }
   ],
   "source": [
    "# # fill na : mean\n",
    "# dic_mean = {}\n",
    "# dic_runtime = {}\n",
    "# memory_list = []\n",
    "# running_time_list = []\n",
    "# data['memory_dummy'] = data['memory']\n",
    "# data['running_time_dummy'] = data['running_time']\n",
    "# for _, grouped in tqdm(problem_lang_memo_running_mean):\n",
    "#     problem_id, language = _\n",
    "#     memory, running_time = grouped.mean()\n",
    "#     dic_mean[f'(data[\"problem_id\"]=={problem_id}) & (data[\"language\"]=={language}) & (data[\"memory\"].isna())'] = memory\n",
    "#     dic_runtime[f'(data[\"problem_id\"]=={problem_id}) & (data[\"language\"]=={language}) & (data[\"running_time\"].isna())'] = running_time\n",
    "#     # data.loc[(data['problem_id']==problem_id) & (data['language']==language) & (data['memory'].isna())] = memory\n",
    "#     # data.loc[(data['problem_id']==problem_id) & (data['language']==language) & (data['running_time'].isna())] = running_time\n"
   ],
   "metadata": {
    "collapsed": false
   }
  },
  {
   "cell_type": "code",
   "execution_count": null,
   "outputs": [],
   "source": [
    "# # fill na : -1\n",
    "# data['memory']=data['memory'].fillna(-1)\n",
    "# data['running_time']=data['running_time'].fillna(-1)"
   ],
   "metadata": {
    "collapsed": false
   }
  },
  {
   "cell_type": "markdown",
   "source": [
    "# 수치화"
   ],
   "metadata": {
    "collapsed": false
   }
  },
  {
   "cell_type": "markdown",
   "source": [
    "## Result state"
   ],
   "metadata": {
    "collapsed": false
   }
  },
  {
   "cell_type": "code",
   "execution_count": 8,
   "outputs": [
    {
     "name": "stdout",
     "output_type": "stream",
     "text": [
      "1728\n"
     ]
    },
    {
     "data": {
      "text/plain": "array(['맞았습니다!!', '메모리 초과', '런타임 에러\\xa0(FileNotFoundError)', ...,\n       '2147483647점', '580245801점', '123456789점'], dtype=object)"
     },
     "execution_count": 8,
     "metadata": {},
     "output_type": "execute_result"
    }
   ],
   "source": [
    "print(data['result_state'].nunique())\n",
    "data['result_state'].unique()"
   ],
   "metadata": {
    "collapsed": false
   }
  },
  {
   "cell_type": "code",
   "execution_count": 9,
   "outputs": [
    {
     "name": "stdout",
     "output_type": "stream",
     "text": [
      "8\n"
     ]
    },
    {
     "data": {
      "text/plain": "array(['맞았습니다', '메모리 초과', '런타임 에러', '틀렸습니다', '컴파일 에러', '출력 초과', '시간 초과',\n       '출력 형식이 잘못되었습니다'], dtype=object)"
     },
     "execution_count": 9,
     "metadata": {},
     "output_type": "execute_result"
    }
   ],
   "source": [
    "data['result_state'] = data['result_state'].apply(lambda x: '맞았습니다!!' if x.endswith('점') and float(x[:-1]) >= 100 else x)\n",
    "data['result_state'] = data['result_state'].apply(lambda x: '틀렸습니다' if x.endswith('점') and float(x[:-1]) < 100 else x)\n",
    "data['result_state'] = data['result_state'].apply(lambda x: '런타임 에러' if x.startswith('런타임') else x)\n",
    "data['result_state'] = data['result_state'].apply(lambda x: '틀렸습니다' if x.startswith('맞았습니다!!\\xa0(') else x)\n",
    "data['result_state'] = data['result_state'].apply(lambda x: '맞았습니다' if x.startswith('맞') else x)\n",
    "\n",
    "data = data.loc[~data['result_state'].isin(['채점 불가', '채점 준비 중', '채점 중', '삭제된 제출'])]\n",
    "\n",
    "print(data['result_state'].nunique())\n",
    "data['result_state'].unique()"
   ],
   "metadata": {
    "collapsed": false
   }
  },
  {
   "cell_type": "markdown",
   "source": [
    "## language"
   ],
   "metadata": {
    "collapsed": false
   }
  },
  {
   "cell_type": "code",
   "execution_count": 10,
   "outputs": [
    {
     "name": "stdout",
     "output_type": "stream",
     "text": [
      "89\n"
     ]
    },
    {
     "data": {
      "text/plain": "array(['C++11', 'C++17', 'Python 3', 'Java 11', 'node.js', 'PyPy3',\n       'C++14', 'C++20', 'C++20 (Clang)', 'Java 8', 'Swift', 'C++98',\n       'Java 8 (OpenJDK)', 'Kotlin (JVM)', 'C2x', 'Java 15', 'C11', 'C99',\n       'C++17 (Clang)', 'Rust 2021', 'Go', 'C#', 'TypeScript', 'Lua',\n       'Golfscript', '아희', 'Rust 2018', 'Ruby', 'PHP', 'C++11 (Clang)',\n       'C# 6.0 (Mono)', 'C++14 (Clang)', 'C++98 (Clang)', 'Python 2', 'D',\n       'Scala', 'Text', 'F#', 'Rust 2015', 'C11 (Clang)', 'Go (gccgo)',\n       'C90', 'OCaml', 'PyPy2', 'Kotlin (Native)', 'F# (Mono)',\n       'C99 (Clang)', 'Assembly (32bit)', 'Cobra', 'Perl', 'Pascal',\n       'D (LDC)', 'Fortran', 'Scheme', 'C2x (Clang)', 'Objective-C++',\n       'Befunge', 'Haskell', 'R', 'C# 3.0 (Mono)', 'Ruby 1.9', 'Clojure',\n       'Ruby 1.8', 'Rhino', 'SystemVerilog', '엄준식', 'VB.NET 4.0 (Mono)',\n       'VB.NET 2.0 (Mono)', 'awk', 'Assembly (64bit)', 'Bash',\n       'Whitespace', 'Brainf**k', 'INTERCAL', 'LOLCODE', 'Objective-C',\n       'Tcl', 'Visual Basic', 'C90 (Clang)', 'Pike', 'bc', 'Ada', 'Haxe',\n       'sed', 'SpiderMonkey', 'Groovy', 'Cobol', 'Boo', 'Nemerle'],\n      dtype=object)"
     },
     "execution_count": 10,
     "metadata": {},
     "output_type": "execute_result"
    }
   ],
   "source": [
    "print(data['language'].nunique())\n",
    "data['language'].unique()"
   ],
   "metadata": {
    "collapsed": false
   }
  },
  {
   "cell_type": "code",
   "execution_count": 11,
   "outputs": [
    {
     "name": "stdout",
     "output_type": "stream",
     "text": [
      "C++ complete\n",
      "Python complete\n",
      "Java complete\n",
      "C# complete\n",
      "Kotlin complete\n",
      "Rust complete\n",
      "Ruby complete\n"
     ]
    }
   ],
   "source": [
    "def integrate_language(df, col):\n",
    "    df.loc[df['language'].str.startswith(col), 'language'] = col\n",
    "    print(col , 'complete')\n",
    "    return df\n",
    "integrate_lang = ['C++', 'Python', 'Java', 'C#', 'Kotlin', 'Rust', 'Ruby']\n",
    "\n",
    "for lang in integrate_lang:\n",
    "    data = integrate_language(data, lang)\n",
    "\n",
    "# C\n",
    "data.loc[(data['language'].str.startswith('C99')) | (data['language'].str.startswith('C90') | (data['language'].str.startswith('C11')) | (data['language'].str.startswith('C2x')) | (data['language'].str.startswith('C2x (Clang)')) ), 'language'] = 'C'\n",
    "\n",
    "# Python\n",
    "data.loc[(data['language'].str.startswith('PyPy3')), 'language'] = 'Python'"
   ],
   "metadata": {
    "collapsed": false
   }
  },
  {
   "cell_type": "code",
   "execution_count": 12,
   "outputs": [
    {
     "name": "stdout",
     "output_type": "stream",
     "text": [
      "61\n"
     ]
    },
    {
     "data": {
      "text/plain": "array(['C++', 'Python', 'Java', 'node.js', 'Swift', 'Kotlin', 'C', 'Rust',\n       'Go', 'C#', 'TypeScript', 'Lua', 'Golfscript', '아희', 'Ruby', 'PHP',\n       'D', 'Scala', 'Text', 'F#', 'Go (gccgo)', 'OCaml', 'PyPy2',\n       'F# (Mono)', 'Assembly (32bit)', 'Cobra', 'Perl', 'Pascal',\n       'D (LDC)', 'Fortran', 'Scheme', 'Objective-C++', 'Befunge',\n       'Haskell', 'R', 'Clojure', 'Rhino', 'SystemVerilog', '엄준식',\n       'VB.NET 4.0 (Mono)', 'VB.NET 2.0 (Mono)', 'awk',\n       'Assembly (64bit)', 'Bash', 'Whitespace', 'Brainf**k', 'INTERCAL',\n       'LOLCODE', 'Objective-C', 'Tcl', 'Visual Basic', 'Pike', 'bc',\n       'Ada', 'Haxe', 'sed', 'SpiderMonkey', 'Groovy', 'Cobol', 'Boo',\n       'Nemerle'], dtype=object)"
     },
     "execution_count": 12,
     "metadata": {},
     "output_type": "execute_result"
    }
   ],
   "source": [
    "print(data['language'].nunique())\n",
    "data['language'].unique()"
   ],
   "metadata": {
    "collapsed": false
   }
  },
  {
   "cell_type": "code",
   "execution_count": 13,
   "outputs": [
    {
     "data": {
      "text/plain": "C++        10211132\nPython      5537596\nJava        3941102\nC           1176433\nnode.js      234266\nKotlin       107876\nSwift         92852\nC#            85498\nothers        33131\nGo            30863\nRust          21831\nName: language, dtype: int64"
     },
     "execution_count": 13,
     "metadata": {},
     "output_type": "execute_result"
    }
   ],
   "source": [
    "#7000번 이하로 제출된 언어 -> others\n",
    "\n",
    "lang_value_cnt = data['language'].value_counts().to_frame()\n",
    "other_langs = lang_value_cnt.loc[lang_value_cnt['language'] < 7000].index\n",
    "data.loc[data['language'].isin(other_langs), 'language'] = 'others'\n",
    "data['language'].value_counts()"
   ],
   "metadata": {
    "collapsed": false
   }
  },
  {
   "cell_type": "markdown",
   "source": [
    "## User_id, Problem_id, submit_id"
   ],
   "metadata": {
    "collapsed": false
   }
  },
  {
   "cell_type": "code",
   "execution_count": 14,
   "outputs": [],
   "source": [
    "# mapping dicts\n",
    "\n",
    "# user to idx & idx to user\n",
    "user2idx = {user : idx for idx, user in enumerate(data['user_id'].unique())}\n",
    "idx2user = {idx : user for user, idx in user2idx.items()}\n",
    "\n",
    "# problem_id to idx & idx to problem_id\n",
    "problem2idx = {int(problem) : idx for idx, problem in enumerate(data['problem_id'].unique())}\n",
    "idx2problem = {idx : problem_id for problem_id, idx in problem2idx.items()}\n",
    "\n",
    "# result state to idx & idx to result state\n",
    "state2idx = {state : idx for idx, state in enumerate(data['result_state'].unique())}\n",
    "idx2state = {idx : state for state, idx in state2idx.items()}\n",
    "\n",
    "# submit_id to idx & idx to submit_id\n",
    "submit2idx = {int(submit) : idx for idx, submit in enumerate(sorted(data['submit_id'].unique()))}\n",
    "idx2submit = {idx : submit for submit, idx in submit2idx.items()}\n",
    "\n",
    "# user to idx & idx to user\n",
    "lang2idx = {lang : idx for idx, lang in enumerate(data['language'].unique())}\n",
    "idx2lang = {idx : lang for lang, idx in lang2idx.items()}"
   ],
   "metadata": {
    "collapsed": false
   }
  },
  {
   "cell_type": "code",
   "execution_count": 15,
   "outputs": [],
   "source": [
    "for col,colmap in zip(['user_id','problem_id','result_state','submit_id','language'],[user2idx,problem2idx,state2idx,submit2idx,lang2idx]):\n",
    "    data[col]=data[col].map(colmap)"
   ],
   "metadata": {
    "collapsed": false
   }
  },
  {
   "cell_type": "code",
   "execution_count": 16,
   "outputs": [
    {
     "data": {
      "text/plain": "             timestamp  submit_id  user_id  problem_id  result_state   memory  \\\n0  2022-12-16 17:08:57   21372924        0           0             0   2020.0   \n1  2022-12-16 15:28:07   21371099        1           0             0   2024.0   \n2  2022-12-15 01:15:34   21352943        2           0             0   2156.0   \n3  2022-12-12 15:23:46   21319086        3           0             0  34096.0   \n4  2022-12-01 00:29:05   21189232        4           0             0   2020.0   \n\n   running_time  language  code_length  memory_dummy  running_time_dummy  \n0           0.0         0        592.0        2020.0                 0.0  \n1           0.0         0        875.0        2024.0                 0.0  \n2           0.0         0        554.0        2156.0                 0.0  \n3          68.0         1        420.0       34096.0                68.0  \n4           4.0         0        712.0        2020.0                 4.0  ",
      "text/html": "<div>\n<style scoped>\n    .dataframe tbody tr th:only-of-type {\n        vertical-align: middle;\n    }\n\n    .dataframe tbody tr th {\n        vertical-align: top;\n    }\n\n    .dataframe thead th {\n        text-align: right;\n    }\n</style>\n<table border=\"1\" class=\"dataframe\">\n  <thead>\n    <tr style=\"text-align: right;\">\n      <th></th>\n      <th>timestamp</th>\n      <th>submit_id</th>\n      <th>user_id</th>\n      <th>problem_id</th>\n      <th>result_state</th>\n      <th>memory</th>\n      <th>running_time</th>\n      <th>language</th>\n      <th>code_length</th>\n      <th>memory_dummy</th>\n      <th>running_time_dummy</th>\n    </tr>\n  </thead>\n  <tbody>\n    <tr>\n      <th>0</th>\n      <td>2022-12-16 17:08:57</td>\n      <td>21372924</td>\n      <td>0</td>\n      <td>0</td>\n      <td>0</td>\n      <td>2020.0</td>\n      <td>0.0</td>\n      <td>0</td>\n      <td>592.0</td>\n      <td>2020.0</td>\n      <td>0.0</td>\n    </tr>\n    <tr>\n      <th>1</th>\n      <td>2022-12-16 15:28:07</td>\n      <td>21371099</td>\n      <td>1</td>\n      <td>0</td>\n      <td>0</td>\n      <td>2024.0</td>\n      <td>0.0</td>\n      <td>0</td>\n      <td>875.0</td>\n      <td>2024.0</td>\n      <td>0.0</td>\n    </tr>\n    <tr>\n      <th>2</th>\n      <td>2022-12-15 01:15:34</td>\n      <td>21352943</td>\n      <td>2</td>\n      <td>0</td>\n      <td>0</td>\n      <td>2156.0</td>\n      <td>0.0</td>\n      <td>0</td>\n      <td>554.0</td>\n      <td>2156.0</td>\n      <td>0.0</td>\n    </tr>\n    <tr>\n      <th>3</th>\n      <td>2022-12-12 15:23:46</td>\n      <td>21319086</td>\n      <td>3</td>\n      <td>0</td>\n      <td>0</td>\n      <td>34096.0</td>\n      <td>68.0</td>\n      <td>1</td>\n      <td>420.0</td>\n      <td>34096.0</td>\n      <td>68.0</td>\n    </tr>\n    <tr>\n      <th>4</th>\n      <td>2022-12-01 00:29:05</td>\n      <td>21189232</td>\n      <td>4</td>\n      <td>0</td>\n      <td>0</td>\n      <td>2020.0</td>\n      <td>4.0</td>\n      <td>0</td>\n      <td>712.0</td>\n      <td>2020.0</td>\n      <td>4.0</td>\n    </tr>\n  </tbody>\n</table>\n</div>"
     },
     "execution_count": 16,
     "metadata": {},
     "output_type": "execute_result"
    }
   ],
   "source": [
    "data.head()"
   ],
   "metadata": {
    "collapsed": false
   }
  },
  {
   "cell_type": "code",
   "execution_count": 17,
   "outputs": [],
   "source": [
    "data.to_csv('preprocessed_total_data.csv')"
   ],
   "metadata": {
    "collapsed": false
   }
  }
 ],
 "metadata": {
  "kernelspec": {
   "display_name": "Python 3",
   "language": "python",
   "name": "python3"
  },
  "language_info": {
   "codemirror_mode": {
    "name": "ipython",
    "version": 2
   },
   "file_extension": ".py",
   "mimetype": "text/x-python",
   "name": "python",
   "nbconvert_exporter": "python",
   "pygments_lexer": "ipython2",
   "version": "2.7.6"
  }
 },
 "nbformat": 4,
 "nbformat_minor": 0
}
